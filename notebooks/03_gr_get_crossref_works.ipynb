{
 "cells": [
  {
   "cell_type": "markdown",
   "metadata": {},
   "source": [
    "# Get CrossRef Works\n",
    "\n",
    "Use the DOIs from OpenAIRE to get publication metadata"
   ]
  },
  {
   "cell_type": "markdown",
   "metadata": {},
   "source": [
    "## Preamble"
   ]
  },
  {
   "cell_type": "code",
   "execution_count": null,
   "metadata": {},
   "outputs": [],
   "source": [
    "%run notebook_preamble.ipy\n",
    "\n",
    "pd.set_option('max_columns', 99)"
   ]
  },
  {
   "cell_type": "markdown",
   "metadata": {},
   "source": [
    "## CrossRef Works"
   ]
  },
  {
   "cell_type": "code",
   "execution_count": null,
   "metadata": {},
   "outputs": [],
   "source": [
    "from crossref.restful import Etiquette"
   ]
  },
  {
   "cell_type": "code",
   "execution_count": null,
   "metadata": {},
   "outputs": [],
   "source": [
    "etiquette = Etiquette(\n",
    "    application_version='0.1',\n",
    "    application_url='http://www.eurito.eu/',\n",
    "    application_name='eu_funding_analytics',\n",
    "    contact_email='george.richardson@nesta.org.uk',   \n",
    ")"
   ]
  },
  {
   "cell_type": "code",
   "execution_count": null,
   "metadata": {},
   "outputs": [],
   "source": [
    "def get_crossref_work(doi):\n",
    "    works = Works(etiquette=etiquette)\n",
    "    response = works.doi(doi)\n",
    "    return response"
   ]
  },
  {
   "cell_type": "code",
   "execution_count": null,
   "metadata": {},
   "outputs": [],
   "source": [
    "all_dois = publications_df['doi'][~pd.isnull(publications_df['doi'])].unique()"
   ]
  },
  {
   "cell_type": "code",
   "execution_count": null,
   "metadata": {},
   "outputs": [],
   "source": [
    "test_dois = all_dois[:100]"
   ]
  },
  {
   "cell_type": "code",
   "execution_count": null,
   "metadata": {},
   "outputs": [],
   "source": [
    "import json"
   ]
  },
  {
   "cell_type": "code",
   "execution_count": null,
   "metadata": {},
   "outputs": [],
   "source": [
    "doi_chunks = list(chunks(all_dois, 1000))\n",
    "doi_chunk_indices = list(range(len(doi_chunks)))"
   ]
  },
  {
   "cell_type": "code",
   "execution_count": null,
   "metadata": {},
   "outputs": [],
   "source": [
    "start = 0\n",
    "connections = 2 # API will rate limit occasionally with just 2 connections so needs babysitting\n",
    "\n",
    "for i, dois in zip(doi_chunk_indices[start:], doi_chunks[start:]):\n",
    "    out = []\n",
    "    with concurrent.futures.ThreadPoolExecutor(max_workers=connections) as executor:\n",
    "        future_to_url = (executor.submit(get_crossref_work, doi) for doi in dois)\n",
    "        for future in concurrent.futures.as_completed(future_to_url):\n",
    "            data = future.result()\n",
    "            out.append(data)\n",
    "                \n",
    "    with open(os.path.join(ext_data_path, 'crossref', 'works_{:04}.txt'.format(i)), 'w') as f:\n",
    "        json.dump(out, f)"
   ]
  },
  {
   "cell_type": "code",
   "execution_count": null,
   "metadata": {},
   "outputs": [],
   "source": []
  }
 ],
 "metadata": {
  "language_info": {
   "name": "python",
   "pygments_lexer": "ipython3"
  }
 },
 "nbformat": 4,
 "nbformat_minor": 2
}
