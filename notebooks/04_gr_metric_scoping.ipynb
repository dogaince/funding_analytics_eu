{
 "cells": [
  {
   "cell_type": "markdown",
   "metadata": {},
   "source": [
    "# Metric Scoping\n",
    "\n",
    "Reference data from [here](https://data.europa.eu/euodp/data/dataset/cordisref-data).\n",
    "\n",
    "- [ ] Number of citations\n",
    "- [ ] Types of publication outputs\n",
    "- [ ] Access rights\n",
    "- [ ] Did another collaboration happen afterwards?\n",
    "\n",
    "\n",
    "- [ ] Public private balance\n",
    "- [ ] Country diversity\n",
    "- [ ] Org diversity"
   ]
  },
  {
   "cell_type": "markdown",
   "metadata": {},
   "source": [
    "## Preamble"
   ]
  },
  {
   "cell_type": "code",
   "execution_count": null,
   "metadata": {},
   "outputs": [],
   "source": [
    "%run notebook_preamble.ipy\n",
    "\n",
    "pd.set_option('max_columns', 99)"
   ]
  },
  {
   "cell_type": "code",
   "execution_count": null,
   "metadata": {},
   "outputs": [],
   "source": [
    "import seaborn as sns\n",
    "from itertools import chain\n",
    "from collections import Counter, defaultdict\n",
    "import pickle\n",
    "import ast\n",
    "from datetime import datetime\n",
    "from skbio.diversity.alpha import shannon\n",
    "\n",
    "from eu_funding.visualization.visualize import pdf_cdf\n",
    "import seaborn as sns\n",
    "\n",
    "sns.set_context('notebook')\n",
    "# from src.visualization.visualize import pdf_cdf"
   ]
  },
  {
   "cell_type": "markdown",
   "metadata": {},
   "source": [
    "## Data"
   ]
  },
  {
   "cell_type": "markdown",
   "metadata": {},
   "source": [
    "### Projects"
   ]
  },
  {
   "cell_type": "markdown",
   "metadata": {},
   "source": [
    "Each funding programme has a projects dataset, which contain research projects funded by EC programmes.\n",
    "- `rcn`\n",
    "- `id`\n",
    "- `acronym`\n",
    "- `status`\n",
    "- `programme`\n",
    "- `topics`\n",
    "- `frameworkProgramme`\n",
    "- `title`\n",
    "- `startDate`\n",
    "- `endDate`\n",
    "- `projectUrl`\n",
    "- `objective`\n",
    "- `totalCost`\n",
    "- `ecMaxContribution`\n",
    "- `call`\n",
    "- `fundingScheme`\n",
    "- `coordinator`\n",
    "- `coordinatorCountry`\n",
    "- `participants`\n",
    "- `participantCountries`\n",
    "- `subjects`"
   ]
  },
  {
   "cell_type": "markdown",
   "metadata": {},
   "source": [
    "### H2020"
   ]
  },
  {
   "cell_type": "code",
   "execution_count": null,
   "metadata": {},
   "outputs": [],
   "source": [
    "h2020_projects_df = pd.read_csv(\n",
    "    os.path.join(cordis_h2020_path, 'cordis-h2020projects.csv'),\n",
    "    sep=';',\n",
    "    encoding='iso-8859-1',\n",
    "    parse_dates=['startDate', 'endDate'],\n",
    "    infer_datetime_format=True,\n",
    "    decimal=','\n",
    ")\n",
    "h2020_orgs_df = pd.read_csv(\n",
    "    os.path.join(cordis_h2020_path, 'cordis-h2020organizations.csv'),\n",
    "    sep=';',\n",
    "    encoding='iso-8859-1',\n",
    "    decimal=',',\n",
    ")\n",
    "h2020_reports_df = pd.read_csv(\n",
    "    os.path.join(cordis_h2020_path, 'cordis-h2020reports.csv'),\n",
    ")\n",
    "h2020_pi_df = pd.read_excel(\n",
    "    os.path.join(cordis_h2020_path, 'cordis-h2020-erc-pi.xlsx'),\n",
    "    sheet_name='PI'\n",
    ")\n",
    "h2020_fellows_r1_df = pd.read_excel(\n",
    "    os.path.join(cordis_h2020_path, 'cordis-h2020-msca-fellows.xls'),\n",
    "    sheet_name='Report 1',\n",
    "    header=3\n",
    ").set_index('Project Number')\n",
    "h2020_fellows_r2_df = pd.read_excel(\n",
    "    os.path.join(cordis_h2020_path, 'cordis-h2020-msca-fellows.xls'),\n",
    "    sheet_name='Report 2'\n",
    ").set_index('projectId')\n",
    "h2020_fellows_df = h2020_fellows_r1_df.join(h2020_fellows_r2_df, how='outer').reset_index().rename(columns={'index': 'projectId'})"
   ]
  },
  {
   "cell_type": "code",
   "execution_count": null,
   "metadata": {},
   "outputs": [],
   "source": [
    "h2020_projects_df.head(1)"
   ]
  },
  {
   "cell_type": "code",
   "execution_count": null,
   "metadata": {},
   "outputs": [],
   "source": [
    "h2020_projects_df.shape"
   ]
  },
  {
   "cell_type": "code",
   "execution_count": null,
   "metadata": {},
   "outputs": [],
   "source": [
    "h2020_reports_df.head(1)"
   ]
  },
  {
   "cell_type": "code",
   "execution_count": null,
   "metadata": {},
   "outputs": [],
   "source": [
    "h2020_reports_df.shape"
   ]
  },
  {
   "cell_type": "code",
   "execution_count": null,
   "metadata": {},
   "outputs": [],
   "source": [
    "h2020_orgs_df.head(1)"
   ]
  },
  {
   "cell_type": "code",
   "execution_count": null,
   "metadata": {},
   "outputs": [],
   "source": [
    "h2020_orgs_df.shape"
   ]
  },
  {
   "cell_type": "code",
   "execution_count": null,
   "metadata": {},
   "outputs": [],
   "source": [
    "h2020_pi_df.head(1)"
   ]
  },
  {
   "cell_type": "code",
   "execution_count": null,
   "metadata": {},
   "outputs": [],
   "source": [
    "h2020_fellows_df.head(1)"
   ]
  },
  {
   "cell_type": "markdown",
   "metadata": {},
   "source": [
    "### FP7"
   ]
  },
  {
   "cell_type": "code",
   "execution_count": null,
   "metadata": {},
   "outputs": [],
   "source": [
    "fp7_projects_df = pd.read_csv(\n",
    "    os.path.join(cordis_fp7_path, 'cordis-fp7projects.csv'),\n",
    "    sep=';',\n",
    "    encoding='iso-8859-1',\n",
    "    parse_dates=['startDate', 'endDate'],\n",
    "    infer_datetime_format=True,\n",
    "    decimal=','\n",
    ")\n",
    "fp7_orgs_df = pd.read_csv(\n",
    "    os.path.join(cordis_fp7_path, 'cordis-fp7organizations.csv'),\n",
    "    sep=';',\n",
    "    encoding='iso-8859-1',\n",
    "    decimal=',',\n",
    ")\n",
    "fp7_reports_df = pd.read_csv(\n",
    "    os.path.join(cordis_fp7_path, 'cordis-fp7reports.csv'),\n",
    ").drop('Unnamed: 16', axis=1)"
   ]
  },
  {
   "cell_type": "code",
   "execution_count": null,
   "metadata": {},
   "outputs": [],
   "source": [
    "fp7_projects_df.head(1)"
   ]
  },
  {
   "cell_type": "code",
   "execution_count": null,
   "metadata": {},
   "outputs": [],
   "source": [
    "fp7_orgs_df.head(1)"
   ]
  },
  {
   "cell_type": "code",
   "execution_count": null,
   "metadata": {},
   "outputs": [],
   "source": [
    "fp7_projects_df[fp7_projects_df['id'] == 240271]"
   ]
  },
  {
   "cell_type": "markdown",
   "metadata": {},
   "source": [
    "### Combining Programme Datasets"
   ]
  },
  {
   "cell_type": "code",
   "execution_count": null,
   "metadata": {},
   "outputs": [],
   "source": [
    "cordis_projects_df = pd.concat([h2020_projects_df, fp7_projects_df])\n",
    "cordis_reports_df = pd.concat([h2020_reports_df, fp7_reports_df])\n",
    "cordis_orgs_df = pd.concat([h2020_orgs_df, fp7_orgs_df])"
   ]
  },
  {
   "cell_type": "code",
   "execution_count": null,
   "metadata": {},
   "outputs": [],
   "source": [
    "def all_particpants(coordinator, participants):\n",
    "    if pd.isnull(participants):\n",
    "        return coordinator\n",
    "    else:\n",
    "        if coordinator in participants:\n",
    "            return participants\n",
    "        else:\n",
    "            return participants + ';' + coordinator\n",
    "\n",
    "cordis_projects_df['allCountries'] = cordis_projects_df.apply(\n",
    "    lambda x: all_particpants(x['coordinatorCountry'], x['participantCountries']),\n",
    "    axis=1\n",
    ").fillna('NA')\n",
    "cordis_projects_df['countries_count'] = [len(s.split(';')) for s in cordis_projects_df['allCountries']]\n",
    "\n",
    "cordis_projects_df['allParticipants'] = cordis_projects_df.apply(\n",
    "    lambda x: all_particpants(x['coordinator'], x['participants']),\n",
    "    axis=1\n",
    ")\n",
    "cordis_projects_df['participant_count'] = [len(s.split(';')) for s in cordis_projects_df['allParticipants']]"
   ]
  },
  {
   "cell_type": "markdown",
   "metadata": {},
   "source": [
    "### Reference Data"
   ]
  },
  {
   "cell_type": "markdown",
   "metadata": {},
   "source": [
    "#### Activity Types"
   ]
  },
  {
   "cell_type": "code",
   "execution_count": null,
   "metadata": {},
   "outputs": [],
   "source": [
    "cordis_activity_ref_df = pd.read_csv(\n",
    "    os.path.join(cordis_ref_path, 'cordisref-organizationActivityType.csv'),\n",
    "    sep=';'\n",
    ")"
   ]
  },
  {
   "cell_type": "code",
   "execution_count": null,
   "metadata": {},
   "outputs": [],
   "source": [
    "cordis_activity_ref_df"
   ]
  },
  {
   "cell_type": "markdown",
   "metadata": {},
   "source": [
    "#### Countries"
   ]
  },
  {
   "cell_type": "code",
   "execution_count": null,
   "metadata": {},
   "outputs": [],
   "source": [
    "cordis_countries_ref_df = pd.read_csv(\n",
    "    os.path.join(cordis_ref_path, 'cordisref-countries.csv'),\n",
    "    sep=';'\n",
    ")"
   ]
  },
  {
   "cell_type": "code",
   "execution_count": null,
   "metadata": {},
   "outputs": [],
   "source": [
    "cordis_countries_ref_df.head(10)"
   ]
  },
  {
   "cell_type": "markdown",
   "metadata": {},
   "source": [
    "#### Topics"
   ]
  },
  {
   "cell_type": "code",
   "execution_count": null,
   "metadata": {},
   "outputs": [],
   "source": [
    "cordis_topics_ref_df = pd.read_csv(\n",
    "    os.path.join(cordis_ref_path, 'cordisref-H2020topics.csv'),\n",
    "    sep=';'\n",
    ")"
   ]
  },
  {
   "cell_type": "code",
   "execution_count": null,
   "metadata": {},
   "outputs": [],
   "source": [
    "cordis_topics_ref_df.head()"
   ]
  },
  {
   "cell_type": "markdown",
   "metadata": {},
   "source": [
    "#### H2020 Programmes"
   ]
  },
  {
   "cell_type": "code",
   "execution_count": null,
   "metadata": {},
   "outputs": [],
   "source": [
    "cordis_h2020_programmes_ref_df = pd.read_csv(\n",
    "    os.path.join(cordis_ref_path, 'cordisref-H2020programmes.csv'),\n",
    "#     sep=';'\n",
    ")"
   ]
  },
  {
   "cell_type": "code",
   "execution_count": null,
   "metadata": {},
   "outputs": [],
   "source": [
    "cordis_h2020_programmes_ref_df.head()"
   ]
  },
  {
   "cell_type": "markdown",
   "metadata": {},
   "source": [
    "#### Funding Schemes"
   ]
  },
  {
   "cell_type": "code",
   "execution_count": null,
   "metadata": {},
   "outputs": [],
   "source": [
    "cordis_funding_schemes_ref_df = pd.read_csv(\n",
    "    os.path.join(cordis_ref_path, 'cordisref-projectFundingSchemeCategory.csv'),\n",
    "    sep=';'\n",
    ")"
   ]
  },
  {
   "cell_type": "code",
   "execution_count": null,
   "metadata": {},
   "outputs": [],
   "source": [
    "cordis_funding_schemes_ref_df.head()"
   ]
  },
  {
   "cell_type": "markdown",
   "metadata": {},
   "source": [
    "#### SIC Codes"
   ]
  },
  {
   "cell_type": "code",
   "execution_count": null,
   "metadata": {},
   "outputs": [],
   "source": [
    "cordis_sic_codes_ref_df = pd.read_csv(\n",
    "    os.path.join(cordis_ref_path, 'cordisref-sicCode.csv'),\n",
    "    sep=';'\n",
    ")"
   ]
  },
  {
   "cell_type": "code",
   "execution_count": null,
   "metadata": {},
   "outputs": [],
   "source": [
    "cordis_sic_codes_ref_df[cordis_sic_codes_ref_df['language'] == 'en'].head()"
   ]
  },
  {
   "cell_type": "markdown",
   "metadata": {},
   "source": [
    "### OpenAIRE"
   ]
  },
  {
   "cell_type": "code",
   "execution_count": null,
   "metadata": {},
   "outputs": [],
   "source": [
    "list_cols = ['ec_project_codes', 'categories', 'children',\n",
    "             'field_names', 'institutes', 'reference', 'authors_parsed', \n",
    "            'container-title'\n",
    "            ]\n",
    "\n",
    "openaire_publications_df = pd.read_csv(\n",
    "    os.path.join(inter_data_path, 'openaire_publications_20192302.csv'),\n",
    "    converters={k: ast.literal_eval for k in list_cols},\n",
    "#     chunksize=5000\n",
    ")\n"
   ]
  },
  {
   "cell_type": "code",
   "execution_count": null,
   "metadata": {},
   "outputs": [],
   "source": [
    "openaire_publications_df.head()"
   ]
  },
  {
   "cell_type": "code",
   "execution_count": null,
   "metadata": {},
   "outputs": [],
   "source": [
    "openaire_publications_df['pub_id'] = openaire_publications_df.index"
   ]
  },
  {
   "cell_type": "code",
   "execution_count": null,
   "metadata": {},
   "outputs": [],
   "source": [
    "openaire_publications_df['n_projects'] = [len(s) for s in openaire_publications_df['ec_project_codes']]\n",
    "openaire_publications_df['project_contribution'] = 1 / openaire_publications_df['n_projects']"
   ]
  },
  {
   "cell_type": "code",
   "execution_count": null,
   "metadata": {},
   "outputs": [],
   "source": [
    "def parse_date_parts(date_dict):\n",
    "    if not pd.isnull(date_dict):\n",
    "        date_parts = date_dict.get('date-parts')\n",
    "        if date_parts is not None:\n",
    "            date_parts = date_parts[0]\n",
    "            if date_parts[0] is not None:\n",
    "                fill = 3 - len(date_parts)\n",
    "                for _ in range(fill):\n",
    "                    date_parts.append(1)\n",
    "                dt = datetime(*date_parts)\n",
    "                return dt\n",
    "    return None"
   ]
  },
  {
   "cell_type": "code",
   "execution_count": null,
   "metadata": {},
   "outputs": [],
   "source": [
    "openaire_publications_df['date'] = pd.to_datetime(openaire_publications_df['date'])\n",
    "openaire_publications_df['published-online'].fillna({}, inplace=True)\n",
    "openaire_publications_df['published-print'].fillna({}, inplace=True)\n",
    "openaire_publications_df['created'].fillna({}, inplace=True)\n",
    "\n",
    "openaire_publications_df['published-online'] = [ast.literal_eval(a) if type(a) == str else np.nan \n",
    "                        for a in openaire_publications_df['published-online']]\n",
    "openaire_publications_df['published_online_dt'] = openaire_publications_df['published-online'].apply(lambda x: parse_date_parts(x))\n",
    "openaire_publications_df['published-print'] = [ast.literal_eval(a) if type(a) == str else np.nan \n",
    "                       for a in openaire_publications_df['published-print']]\n",
    "openaire_publications_df['published_print_dt'] = openaire_publications_df['published-print'].apply(lambda x: parse_date_parts(x))\n",
    "openaire_publications_df['created'] = [ast.literal_eval(a) if type(a) == str else np.nan \n",
    "               for a in openaire_publications_df['created']]\n",
    "openaire_publications_df['created_dt'] = openaire_publications_df['created'].apply(lambda x: parse_date_parts(x))\n",
    "\n",
    "openaire_publications_df['date_all'] = openaire_publications_df['date'].fillna(\n",
    "    openaire_publications_df['published_online_dt']\n",
    ").fillna(openaire_publications_df['published_print_dt']).fillna(\n",
    "    openaire_publications_df['created_dt']\n",
    ")\n",
    "\n",
    "collected_date = datetime(2019, 2, 1)\n",
    "openaire_publications_df['age'] = collected_date - openaire_publications_df['date_all']\n",
    "openaire_publications_df['age_years'] = openaire_publications_df['age'].dt.days / 365.25\n",
    "\n",
    "openaire_publications_df['authors_list'] = openaire_publications_df['authors'].str.replace('; ;',';').str.split(';')\n",
    "openaire_publications_df['n_authors_oa'] = [len(a) if type(a) == list else np.nan for a in openaire_publications_df['authors_list']]\n",
    "openaire_publications_df['n_authors_mag'] = [len(a) if len(a) > 0 else np.nan for a in openaire_publications_df['authors_parsed']]\n",
    "openaire_publications_df['n_authors'] = openaire_publications_df['n_authors_oa'].fillna(openaire_publications_df['n_authors_mag'])\n",
    "openaire_publications_df.drop(['n_authors_oa', 'n_authors_mag'], axis=1, inplace=True)"
   ]
  },
  {
   "cell_type": "code",
   "execution_count": null,
   "metadata": {},
   "outputs": [],
   "source": [
    "def clean_authors(authors):\n",
    "    authors_rm = ['', 'et al.', '#n/d', 'et al']\n",
    "    cleaned = []\n",
    "    if type(authors) == list:\n",
    "        for author in authors:\n",
    "            if author in authors_rm:\n",
    "                continue\n",
    "            else:\n",
    "                cleaned.append(author.replace('.', ''))\n",
    "        if len(cleaned) > 0:\n",
    "            return cleaned\n",
    "    return np.nan\n",
    "          \n",
    "openaire_publications_df['authors_list'] = [clean_authors(a) for a in openaire_publications_df['authors_list']]"
   ]
  },
  {
   "cell_type": "markdown",
   "metadata": {},
   "source": [
    "### OpenAIRE Abstracts"
   ]
  },
  {
   "cell_type": "code",
   "execution_count": null,
   "metadata": {},
   "outputs": [],
   "source": [
    "openaire_abstracts_df = pd.read_csv(os.path.join(inter_data_path, 'openaire_publication_abstracts_20192302.csv'))"
   ]
  },
  {
   "cell_type": "code",
   "execution_count": null,
   "metadata": {},
   "outputs": [],
   "source": [
    "openaire_abstracts_df.head()"
   ]
  },
  {
   "cell_type": "code",
   "execution_count": null,
   "metadata": {},
   "outputs": [],
   "source": [
    "openaire_publications_df = openaire_publications_df.merge(\n",
    "    openaire_abstracts_df,\n",
    "    left_on='index',\n",
    "    right_on='index',\n",
    "    how='left',\n",
    "    suffixes=('', 'abs')\n",
    ")"
   ]
  },
  {
   "cell_type": "code",
   "execution_count": null,
   "metadata": {},
   "outputs": [],
   "source": [
    "openaire_publications_df.drop('abstractabs', axis=1, inplace=True)"
   ]
  },
  {
   "cell_type": "markdown",
   "metadata": {},
   "source": [
    "#### Labelling by subject"
   ]
  },
  {
   "cell_type": "code",
   "execution_count": null,
   "metadata": {},
   "outputs": [],
   "source": [
    "from eu_funding.utils.nlp_utils import remove_markup, normalise_digits, lemmatize, bigram, stringify_docs\n",
    "import spacy\n",
    "from gensim.models.phrases import Phraser, Phrases\n",
    "from sklearn.externals import joblib\n",
    "\n",
    "nlp = spacy.load('en')\n",
    "nlp.remove_pipe('parser')\n",
    "nlp.remove_pipe('ner')\n",
    "\n",
    "vocab = spacy.vocab.Vocab().from_disk(os.path.join(model_path, 'gtr_discipline_vocab'))\n",
    "nlp.vocab = vocab\n",
    "bigrammer = Phraser(Phrases())\n",
    "bigrammer = bigrammer.load(os.path.join(model_path, 'gtr_discipline_bigrammer.pkl'))\n",
    "\n",
    "subject_clf_pipe = joblib.load(os.path.join(model_path, 'gtr_discipline_lvl9_lr_20190222.pkl'))"
   ]
  },
  {
   "cell_type": "markdown",
   "metadata": {},
   "source": [
    "##### OpenAIRE"
   ]
  },
  {
   "cell_type": "code",
   "execution_count": null,
   "metadata": {},
   "outputs": [],
   "source": [
    "openaire_publications_df['title_abstract'] = (openaire_publications_df['abstract'].fillna('') + ' '\n",
    "                                              + openaire_publications_df['title_mag'])\n",
    "openaire_publications_df['title_abstract'].fillna('title and abstract missing', inplace=True)"
   ]
  },
  {
   "cell_type": "code",
   "execution_count": null,
   "metadata": {},
   "outputs": [],
   "source": [
    "abstracts = [remove_markup(a) for a in openaire_publications_df['title_abstract']]\n",
    "abstracts = [normalise_digits(a) for a in abstracts]\n",
    "abstracts = lemmatize(abstracts, nlp)\n",
    "abstracts = bigram(abstracts, phraser=bigrammer)\n",
    "abstracts_str = list(stringify_docs(abstracts))"
   ]
  },
  {
   "cell_type": "code",
   "execution_count": null,
   "metadata": {},
   "outputs": [],
   "source": [
    "openaire_publications_df['subject_clf'] = subject_clf_pipe.predict(abstracts_str)\n",
    "openaire_publications_df['subject_clf'][\n",
    "openaire_publications_df['title_abstract'] == 'title and abstract missing'] = np.nan"
   ]
  },
  {
   "cell_type": "markdown",
   "metadata": {},
   "source": [
    "##### CORDIS"
   ]
  },
  {
   "cell_type": "code",
   "execution_count": null,
   "metadata": {},
   "outputs": [],
   "source": [
    "cordis_abstracts = [remove_markup(a) for a in cordis_projects_df['objective']]\n",
    "cordis_abstracts = [normalise_digits(a) for a in cordis_abstracts]\n",
    "cordis_abstracts = lemmatize(cordis_abstracts, nlp)\n",
    "cordis_abstracts = bigram(cordis_abstracts, phraser=bigrammer)\n",
    "cordis_abstracts_str = list(stringify_docs(cordis_abstracts))"
   ]
  },
  {
   "cell_type": "code",
   "execution_count": null,
   "metadata": {},
   "outputs": [],
   "source": [
    "cordis_projects_df['subject_clf'] = subject_clf_pipe.predict(cordis_abstracts_str)"
   ]
  },
  {
   "cell_type": "markdown",
   "metadata": {},
   "source": [
    "#### Expand OpenAIRE Publications"
   ]
  },
  {
   "cell_type": "code",
   "execution_count": null,
   "metadata": {},
   "outputs": [],
   "source": [
    "expanded_records = []\n",
    "for record in openaire_publications_df.to_dict(orient='records'):\n",
    "    ec_project_codes = record.pop('ec_project_codes')\n",
    "    for ec_code in ec_project_codes:\n",
    "        new_record = record.copy()\n",
    "        new_record['ec_project_code'] = int(ec_code)\n",
    "        expanded_records.append(new_record)"
   ]
  },
  {
   "cell_type": "code",
   "execution_count": null,
   "metadata": {},
   "outputs": [],
   "source": [
    "oa_pubs_df = pd.DataFrame().from_records(expanded_records)"
   ]
  },
  {
   "cell_type": "markdown",
   "metadata": {},
   "source": [
    "### OpenAIRE Children"
   ]
  },
  {
   "cell_type": "code",
   "execution_count": null,
   "metadata": {},
   "outputs": [],
   "source": [
    "child_records = []\n",
    "for i, record in zip(oa_pubs_df.index, oa_pubs_df.to_dict(orient='records')):\n",
    "    children = record['children']\n",
    "    for child in children:\n",
    "        child['ec_project_code'] = record['ec_project_code']\n",
    "        child['index'] = record['index']\n",
    "        child['oai'] = i\n",
    "        child_records.append(child)\n",
    "        \n",
    "oa_child_df = pd.DataFrame().from_records(child_records)"
   ]
  },
  {
   "cell_type": "code",
   "execution_count": null,
   "metadata": {},
   "outputs": [],
   "source": [
    "oa_child_df.drop_duplicates(['name', 'ec_project_code', 'collectedfrom', 'dateofacceptance'], inplace=True)"
   ]
  },
  {
   "cell_type": "code",
   "execution_count": null,
   "metadata": {},
   "outputs": [],
   "source": [
    "oa_child_access = pd.get_dummies(oa_child_df['access'])\n",
    "oa_child_pubtype = pd.get_dummies(oa_child_df['type'])"
   ]
  },
  {
   "cell_type": "markdown",
   "metadata": {},
   "source": [
    "### Citations"
   ]
  },
  {
   "cell_type": "markdown",
   "metadata": {},
   "source": [
    "#### Paper Ages"
   ]
  },
  {
   "cell_type": "code",
   "execution_count": null,
   "metadata": {},
   "outputs": [],
   "source": [
    "openaire_publications_df['age_years_round'] = np.round(openaire_publications_df['age_years'])\n",
    "openaire_publications_df = openaire_publications_df[openaire_publications_df['age_years_round'] < 12]"
   ]
  },
  {
   "cell_type": "code",
   "execution_count": null,
   "metadata": {},
   "outputs": [],
   "source": [
    "openaire_publications_df['age_years'][openaire_publications_df['age_years'] < 0] = 0\n",
    "openaire_publications_df['age_years'][openaire_publications_df['age_years'] == 0] = 0.1"
   ]
  },
  {
   "cell_type": "code",
   "execution_count": null,
   "metadata": {},
   "outputs": [],
   "source": [
    "plt.plot(openaire_publications_df.groupby('age_years_round')['citations'].mean())"
   ]
  },
  {
   "cell_type": "markdown",
   "metadata": {},
   "source": [
    "#### N Authors"
   ]
  },
  {
   "cell_type": "code",
   "execution_count": null,
   "metadata": {},
   "outputs": [],
   "source": [
    "fig, ax = plt.subplots()\n",
    "ax.plot(openaire_publications_df.groupby('n_authors')['citations'].median())\n",
    "ax.set_ylim((0, 200))\n",
    "ax.set_xlim((1, 100))"
   ]
  },
  {
   "cell_type": "markdown",
   "metadata": {},
   "source": [
    "#### Subject Normalised Citations"
   ]
  },
  {
   "cell_type": "code",
   "execution_count": null,
   "metadata": {},
   "outputs": [],
   "source": [
    "openaire_publications_df.groupby('subject_clf')['citations'].median()"
   ]
  },
  {
   "cell_type": "code",
   "execution_count": null,
   "metadata": {},
   "outputs": [],
   "source": [
    "fig, ax = plt.subplots(figsize=(10, 4))\n",
    "sns.boxplot(\n",
    "    openaire_publications_df['citations'],\n",
    "    openaire_publications_df['subject_clf'], \n",
    "    ax=ax, color='C0', orient=\"h\",\n",
    "    flierprops={'alpha': 0.05}\n",
    ")\n",
    "ax.set_xscale('log')\n",
    "# ax.set_xticklabels(ax.get_xticklabels(), rotation=30, ha='right')\n",
    "ax.set_xlim((1, 11000))\n",
    "ax.set_ylabel('Subject')\n",
    "ax.set_xlabel('N Citations')\n",
    "plt.tight_layout()\n",
    "plt.show()"
   ]
  },
  {
   "cell_type": "code",
   "execution_count": null,
   "metadata": {},
   "outputs": [],
   "source": [
    "openaire_publications_df['citations_normed'] = np.log10((openaire_publications_df['citations'] + 1) / \n",
    "                          (openaire_publications_df['n_authors'] * openaire_publications_df['age_years']))\n",
    "\n",
    "# openaire_publications_df['citations_normed'] = np.log10((openaire_publications_df['citations'] + 1) / \n",
    "#                           (openaire_publications_df['age_years']))\n",
    "\n",
    "\n",
    "citations_normed_mean = openaire_publications_df.groupby('subject_clf')['citations_normed'].transform(np.median)\n",
    "openaire_publications_df['citations_normed'] = (\n",
    "    (openaire_publications_df['citations_normed'] / citations_normed_mean) - 1\n",
    ")\n",
    "\n",
    "fig, axs = plt.subplots(nrows=2, figsize=(10, 5), gridspec_kw={'height_ratios': [.2, .8]})\n",
    "\n",
    "axs[0].hist(openaire_publications_df['citations_normed'], bins=100, color='C0')\n",
    "\n",
    "sns.boxplot(\n",
    "    openaire_publications_df['citations_normed'],\n",
    "    openaire_publications_df['subject_clf'], \n",
    "    ax=axs[1], color='C0', orient=\"h\",\n",
    "    flierprops={'alpha': 0.05},\n",
    ")\n",
    "\n",
    "# axs[0].set_ylabel('Freqency')\n",
    "axs[1].set_xlabel('Normalised Citations')\n",
    "axs[1].set_ylabel('Citations')\n",
    "plt.tight_layout()\n",
    "plt.show()"
   ]
  },
  {
   "cell_type": "code",
   "execution_count": null,
   "metadata": {},
   "outputs": [],
   "source": [
    "oa_pubs_df['pub_year'] = oa_pubs_df['date_all'].dt.year"
   ]
  },
  {
   "cell_type": "code",
   "execution_count": null,
   "metadata": {},
   "outputs": [],
   "source": [
    "oa_pubs_df['citations_year_normed'] = (\n",
    "    oa_pubs_df['citations'] / \n",
    "    oa_pubs_df.groupby(['pub_year'])['citations'].transform(np.mean)\n",
    ")"
   ]
  },
  {
   "cell_type": "code",
   "execution_count": null,
   "metadata": {},
   "outputs": [],
   "source": [
    "oa_pubs_df['citations_normed'] = np.log10((oa_pubs_df['citations_year_normed'] + 1) / \n",
    "                          (oa_pubs_df['n_authors'] * oa_pubs_df['age_years']))\n",
    "\n",
    "# oa_pubs_df['citations_normed'] = np.log10((oa_pubs_df['citations'] + 1) / \n",
    "#                           (oa_pubs_df['age_years']))\n",
    "\n",
    "\n",
    "citations_normed_mean = oa_pubs_df.groupby('subject_clf')['citations_normed'].transform(np.median)\n",
    "oa_pubs_df['citations_normed'] = (\n",
    "    (oa_pubs_df['citations_normed'] / citations_normed_mean) - 1\n",
    ")"
   ]
  },
  {
   "cell_type": "code",
   "execution_count": null,
   "metadata": {},
   "outputs": [],
   "source": [
    "cordis_projects_df = cordis_projects_df.merge(\n",
    "    oa_pubs_df.groupby('ec_project_code')[['citations_year_normed', 'age_years', 'n_authors']].sum().reset_index(),\n",
    "    left_on='id',\n",
    "    right_on='ec_project_code',\n",
    "    how='left',\n",
    "    suffixes=('', '_sum')\n",
    ")"
   ]
  },
  {
   "cell_type": "code",
   "execution_count": null,
   "metadata": {},
   "outputs": [],
   "source": [
    "cordis_projects_df.head()"
   ]
  },
  {
   "cell_type": "code",
   "execution_count": null,
   "metadata": {},
   "outputs": [],
   "source": [
    "cordis_projects_df['citations_normed'] = ((\n",
    "    (cordis_projects_df['citations_year_normed'] + 1) * cordis_projects_df['project_contribution_mean']) \n",
    "    / (openaire_publications_df['n_authors'] * openaire_publications_df['age_years']\n",
    "))"
   ]
  },
  {
   "cell_type": "code",
   "execution_count": null,
   "metadata": {},
   "outputs": [],
   "source": [
    "cordis_projects_df['citations_normed'] = np.log10(\n",
    "    cordis_projects_df['citations_normed']\n",
    "    / cordis_projects_df.groupby('subject_clf')['citations_normed'].transform(np.median)\n",
    ")"
   ]
  },
  {
   "cell_type": "code",
   "execution_count": null,
   "metadata": {},
   "outputs": [],
   "source": [
    "fig, axs = plt.subplots(nrows=2, figsize=(10, 5), gridspec_kw={'height_ratios': [.2, .8]})\n",
    "\n",
    "axs[0].hist(cordis_projects_df['citations_normed'], bins=100, color='C0')\n",
    "\n",
    "sns.boxplot(\n",
    "    cordis_projects_df['citations_normed'],\n",
    "    cordis_projects_df['subject_clf'], \n",
    "    ax=axs[1], color='C0', orient=\"h\",\n",
    "#     flierprops={'alpha': 0.05},\n",
    ")\n",
    "\n",
    "# axs[0].set_ylabel('Freqency')\n",
    "axs[1].set_xlabel('Normalised Citations')\n",
    "axs[1].set_ylabel('Citations')\n",
    "plt.tight_layout()\n",
    "plt.show()"
   ]
  },
  {
   "cell_type": "code",
   "execution_count": null,
   "metadata": {},
   "outputs": [],
   "source": [
    "plt.hist(cordis_projects_df['citations_normed'], bins=100)\n",
    "plt.show()"
   ]
  },
  {
   "cell_type": "markdown",
   "metadata": {},
   "source": [
    "#### N Publications"
   ]
  },
  {
   "cell_type": "markdown",
   "metadata": {},
   "source": [
    "#### Publication Type"
   ]
  },
  {
   "cell_type": "markdown",
   "metadata": {},
   "source": [
    "#### Effect of organisation type"
   ]
  },
  {
   "cell_type": "code",
   "execution_count": null,
   "metadata": {},
   "outputs": [],
   "source": [
    "cordis_org_types_ohe = pd.get_dummies(cordis_orgs_df['activityType'])\n",
    "cordis_orgs_df = cordis_orgs_df.join(cordis_org_types_ohe)\n",
    "\n",
    "org_types = ['HES', 'OTH', 'PRC', 'PUB', 'REC']"
   ]
  },
  {
   "cell_type": "code",
   "execution_count": null,
   "metadata": {},
   "outputs": [],
   "source": [
    "cordis_project_org_counts = cordis_orgs_df.groupby('projectID')[org_types].sum().reset_index()\n",
    "cordis_project_has_org = cordis_project_org_counts[org_types] > 0\n",
    "cordis_project_has_org.rename(columns={k: f'has_{k}' for k in cordis_project_has_org.columns}, inplace=True)\n",
    "cordis_project_org_counts = cordis_project_org_counts.join(cordis_project_has_org)"
   ]
  },
  {
   "cell_type": "code",
   "execution_count": null,
   "metadata": {},
   "outputs": [],
   "source": [
    "cordis_projects_df = cordis_projects_df.merge(\n",
    "    cordis_project_org_counts, \n",
    "    left_on='id', right_on='projectID', how='left', suffixes=('', '_orgs')\n",
    ")\n",
    "cordis_projects_df.drop('projectID', axis=1, inplace=True)"
   ]
  },
  {
   "cell_type": "code",
   "execution_count": null,
   "metadata": {},
   "outputs": [],
   "source": [
    "oa_n_pubs_per_project = oa_pubs_df.groupby(\n",
    "    'ec_project_code')['index'].count().reset_index().rename(columns={'index': 'n_publications'})\n",
    "cordis_projects_df = cordis_projects_df.merge(\n",
    "    oa_n_pubs_per_project, \n",
    "    left_on='id', right_on='ec_project_code', how='left', suffixes=('', '_orgs')\n",
    ")\n",
    "cordis_projects_df.drop('ec_project_code', axis=1, inplace=True)\n",
    "\n",
    "cordis_projects_df['has_publications'] = cordis_projects_df['n_publications'] > 0"
   ]
  },
  {
   "cell_type": "code",
   "execution_count": null,
   "metadata": {},
   "outputs": [],
   "source": [
    "has_publications = []\n",
    "for org_type in org_types:\n",
    "    org_type = f'has_{org_type}'\n",
    "    has_publications.append(cordis_projects_df.groupby(org_type)['has_publications'].mean()[1])\n",
    "\n",
    "fig, ax = plt.subplots()\n",
    "ax.bar(org_types, has_publications)\n",
    "ax.set_xlabel('Project Has Institution Type')\n",
    "ax.set_ylabel('Publication Coverage')\n",
    "plt.show()"
   ]
  },
  {
   "cell_type": "code",
   "execution_count": null,
   "metadata": {},
   "outputs": [],
   "source": [
    "project_publication_sums = oa_pubs_df.groupby(\n",
    "    'ec_project_code')['citations', 'project_contribution'].sum()\n",
    "project_publication_sums.columns = [f'{c}_sum' for c in project_publication_sums.columns]\n",
    "project_publication_sums.reset_index(inplace=True)"
   ]
  },
  {
   "cell_type": "code",
   "execution_count": null,
   "metadata": {},
   "outputs": [],
   "source": [
    "project_publication_means = oa_pubs_df.groupby(\n",
    "    'ec_project_code')['citations', 'project_contribution'].mean()\n",
    "project_publication_means.columns = [f'{c}_mean' for c in project_publication_means.columns]\n",
    "project_publication_means.reset_index(inplace=True)"
   ]
  },
  {
   "cell_type": "code",
   "execution_count": null,
   "metadata": {},
   "outputs": [],
   "source": [
    "((cordis_projects_df['has_HES'] & cordis_projects_df['has_PRC']).sum() / \n",
    "(cordis_projects_df['has_HES'] + cordis_projects_df['has_PRC']).sum())"
   ]
  },
  {
   "cell_type": "code",
   "execution_count": null,
   "metadata": {},
   "outputs": [],
   "source": [
    "cordis_projects_df[org_types].T.dot(cordis_projects_df[org_types])"
   ]
  },
  {
   "cell_type": "markdown",
   "metadata": {},
   "source": [
    "## Interim Data Export"
   ]
  },
  {
   "cell_type": "code",
   "execution_count": null,
   "metadata": {},
   "outputs": [],
   "source": [
    "cordis_projects_df.columns"
   ]
  },
  {
   "cell_type": "code",
   "execution_count": null,
   "metadata": {},
   "outputs": [],
   "source": [
    "cordis_projects_df[['id', 'subject_clf', 'HES', 'OTH',\n",
    "       'PRC', 'PUB', 'REC', 'has_HES', 'has_OTH', 'has_PRC', 'has_PUB',\n",
    "       'has_REC', 'n_publications', 'has_publications', 'citations_mean',\n",
    "       'project_contribution_mean', 'citations_sum',\n",
    "       'project_contribution_sum']].to_csv(\n",
    "    os.path.join(inter_data_path, 'cordis_projects_enrichments_20190226.csv'),\n",
    "    index=False\n",
    ")"
   ]
  },
  {
   "cell_type": "code",
   "execution_count": null,
   "metadata": {},
   "outputs": [],
   "source": [
    "openaire_publications_df[['index', 'subject_clf', 'age', 'age_years', 'authors_list', 'n_authors', 'date_all',\n",
    "                          'age', 'age_years_round', 'citations_normed', 'title_abstract']].to_csv(\n",
    "    os.path.join(inter_data_path, 'openaire_publications_enrichment_20190226.csv'),\n",
    "    index=False,\n",
    "    chunksize=5000\n",
    ")"
   ]
  },
  {
   "cell_type": "markdown",
   "metadata": {},
   "source": [
    "### Linking Fields"
   ]
  },
  {
   "cell_type": "markdown",
   "metadata": {},
   "source": [
    "- Make cooccurrence matrix for each year\n",
    "- For each year, make cooccurrence matrix cumulative\n",
    "- For each paper, query the year and get the added knowledge (paper + year) / year"
   ]
  },
  {
   "cell_type": "code",
   "execution_count": null,
   "metadata": {},
   "outputs": [],
   "source": [
    "openaire_publications_df['publication_year'] = openaire_publications_df['date_all'].dt.year"
   ]
  },
  {
   "cell_type": "code",
   "execution_count": null,
   "metadata": {},
   "outputs": [],
   "source": [
    "import networkx as nx"
   ]
  },
  {
   "cell_type": "code",
   "execution_count": null,
   "metadata": {},
   "outputs": [],
   "source": [
    "from gensim.corpora import Dictionary\n",
    "from itertools import combinations"
   ]
  },
  {
   "cell_type": "code",
   "execution_count": null,
   "metadata": {},
   "outputs": [],
   "source": [
    "field_dictionary = Dictionary(openaire_publications_df['field_names'])"
   ]
  },
  {
   "cell_type": "code",
   "execution_count": null,
   "metadata": {},
   "outputs": [],
   "source": [
    "openaire_publications_df['field_ids'] = [\n",
    "    field_dictionary.doc2idx(fn) for fn in openaire_publications_df['field_names']\n",
    "]"
   ]
  },
  {
   "cell_type": "code",
   "execution_count": null,
   "metadata": {},
   "outputs": [],
   "source": [
    "from networkx import adjacency_matrix"
   ]
  },
  {
   "cell_type": "code",
   "execution_count": null,
   "metadata": {},
   "outputs": [],
   "source": [
    "years = openaire_publications_df['publication_year'].sort_values().unique()"
   ]
  },
  {
   "cell_type": "code",
   "execution_count": null,
   "metadata": {},
   "outputs": [],
   "source": [
    "co_graphs = {}\n",
    "\n",
    "# openaire_publications_df.reset_index(inplace=True)\n",
    "openaire_publications_df.set_index('publication_year', inplace=True)\n",
    "\n",
    "for year in years:\n",
    "    g_year = nx.Graph()\n",
    "    g_year.add_nodes_from(field_dictionary.iterkeys())\n",
    "    fields = openaire_publications_df.loc[year]['field_ids']\n",
    "    field_combos = [combinations(f, 2) for f in (fields)]\n",
    "    field_counter = Counter(chain(*field_combos))\n",
    "    for f, count in field_counter.items():\n",
    "        g_year.add_edge(f[0], f[1], weight=count)\n",
    "    co_graphs[year] = g_year\n",
    "\n",
    "openaire_publications_df.reset_index(inplace=True)"
   ]
  },
  {
   "cell_type": "code",
   "execution_count": null,
   "metadata": {},
   "outputs": [],
   "source": [
    "cumulative_adjacency_matrices = {}\n",
    "for year, graph in co_graphs.items():\n",
    "    adj = adjacency_matrix(graph)\n",
    "    if year - 1 in co_graphs:\n",
    "        adj = adj + cumulative_adjacency_matrices[year - 1]\n",
    "    cumulative_adjacency_matrices[year] = adj"
   ]
  },
  {
   "cell_type": "code",
   "execution_count": null,
   "metadata": {},
   "outputs": [],
   "source": [
    "cumulative_adjacency_matrices[2013][900, 900]"
   ]
  },
  {
   "cell_type": "code",
   "execution_count": null,
   "metadata": {},
   "outputs": [],
   "source": [
    "end = None\n",
    "knowledge_combination_enhancement = []\n",
    "\n",
    "for year, fields in zip(openaire_publications_df['publication_year'][:end], openaire_publications_df['field_ids'][:end]):\n",
    "    if (year - 1 in cumulative_adjacency_matrices) & (len(fields) > 0):\n",
    "        adj_matrix = cumulative_adjacency_matrices[year - 1]\n",
    "        combos = combinations(fields, 2)\n",
    "        added_contributions = []\n",
    "        for combo in combos:\n",
    "            previous_link_weight = adj_matrix[combo[0], combo[1]]\n",
    "            if previous_link_weight == 0:\n",
    "                added_contributions.append(1)\n",
    "            else:\n",
    "                new_link_weight = previous_link_weight + 1\n",
    "                added_contributions.append(new_link_weight / previous_link_weight)\n",
    "        added_contribution = np.mean(added_contributions)\n",
    "        knowledge_combination_enhancement.append(added_contribution)\n",
    "    else:\n",
    "        knowledge_combination_enhancement.append(np.nan)"
   ]
  },
  {
   "cell_type": "code",
   "execution_count": null,
   "metadata": {},
   "outputs": [],
   "source": [
    "openaire_publications_df['k_factor'] = knowledge_combination_enhancement"
   ]
  },
  {
   "cell_type": "code",
   "execution_count": null,
   "metadata": {},
   "outputs": [],
   "source": [
    "openaire_publications_df['k_factor_yearnorm'] = (\n",
    "    openaire_publications_df['k_factor'] / \n",
    "    openaire_publications_df.groupby('publication_year')['k_factor'].transform(np.mean))"
   ]
  },
  {
   "cell_type": "code",
   "execution_count": null,
   "metadata": {},
   "outputs": [],
   "source": [
    "openaire_publications_df['k_factor_subj_year_norm'] = (\n",
    "    openaire_publications_df['k_factor'] / \n",
    "    openaire_publications_df.groupby(['publication_year', 'subject_clf'])['k_factor'].transform(np.median))"
   ]
  },
  {
   "cell_type": "code",
   "execution_count": null,
   "metadata": {},
   "outputs": [],
   "source": [
    "for title in openaire_publications_df[['k_factor_subj_year_norm', 'title_mag', 'field_names']].sort_values(\n",
    "    'k_factor_subj_year_norm', ascending=True)['title_mag'].iloc[:20]:\n",
    "    print(title)"
   ]
  },
  {
   "cell_type": "code",
   "execution_count": null,
   "metadata": {},
   "outputs": [],
   "source": [
    "fig, ax = plt.subplots()\n",
    "ax.hexbin(\n",
    "    openaire_publications_df['citations_normed'],\n",
    "    openaire_publications_df['k_factor_subj_year_norm'],\n",
    "#     alpha=0.05,\n",
    "    bins='log'\n",
    ")\n",
    "ax.set_xlabel('Normalised Citations')\n",
    "ax.set_ylabel('Normlised K Factor')\n",
    "\n",
    "plt.show()"
   ]
  },
  {
   "cell_type": "code",
   "execution_count": null,
   "metadata": {},
   "outputs": [],
   "source": [
    "fig, ax = plt.subplots(figsize=(10, 4))\n",
    "sns.boxplot(\n",
    "    openaire_publications_df['k_factor_yearnorm'],\n",
    "    openaire_publications_df['subject_clf'], \n",
    "    ax=ax, color='C0', orient=\"h\",\n",
    "    flierprops={'alpha': 0.05}\n",
    ")\n",
    "# ax.set_xscale('log')\n",
    "# ax.set_xticklabels(ax.get_xticklabels(), rotation=30, ha='right')\n",
    "# ax.set_xlim((1, 11000))\n",
    "ax.set_xlabel('K Factor')\n",
    "ax.set_ylabel('Subject')\n",
    "plt.tight_layout()\n",
    "plt.show()"
   ]
  },
  {
   "cell_type": "code",
   "execution_count": null,
   "metadata": {},
   "outputs": [],
   "source": [
    "fig, axs = plt.subplots(nrows=2, figsize=(10, 5), gridspec_kw={'height_ratios': [.2, .8]})\n",
    "\n",
    "axs[0].hist(openaire_publications_df['k_factor_subj_year_norm'], bins=100, color='C0')\n",
    "\n",
    "sns.boxplot(\n",
    "    openaire_publications_df['k_factor_subj_year_norm'],\n",
    "    openaire_publications_df['subject_clf'], \n",
    "    ax=axs[1], color='C0', orient=\"h\",\n",
    "    flierprops={'alpha': 0.05},\n",
    ")\n",
    "\n",
    "# axs[0].set_ylabel('Freqency')\n",
    "axs[1].set_xlabel('Normalised K Factor')\n",
    "axs[1].set_ylabel('Subject')\n",
    "plt.tight_layout()\n",
    "plt.show()"
   ]
  },
  {
   "cell_type": "markdown",
   "metadata": {},
   "source": [
    "### Similarity"
   ]
  },
  {
   "cell_type": "code",
   "execution_count": null,
   "metadata": {},
   "outputs": [],
   "source": [
    "cordis_projects_df['objective'][:5]"
   ]
  },
  {
   "cell_type": "code",
   "execution_count": null,
   "metadata": {},
   "outputs": [],
   "source": [
    "cordis_projects_df.head()"
   ]
  },
  {
   "cell_type": "code",
   "execution_count": null,
   "metadata": {},
   "outputs": [],
   "source": [
    "cordis_projects_df.reset_index(inplace=True)\n",
    "cordis_projects_df.rename(columns={'index': 'index_'}, inplace=True)\n",
    "cordis_projects_df['index_'] = cordis_projects_df['index_'].astype(str) + '_proj'"
   ]
  },
  {
   "cell_type": "code",
   "execution_count": null,
   "metadata": {},
   "outputs": [],
   "source": [
    "cordis_reports_df.reset_index(inplace=True)\n",
    "cordis_reports_df.rename(columns={'index': 'index_'}, inplace=True)\n",
    "cordis_reports_df['index_'] = cordis_reports_df['index_'].astype(str) + '_report'"
   ]
  },
  {
   "cell_type": "code",
   "execution_count": null,
   "metadata": {},
   "outputs": [],
   "source": [
    "openaire_publications_df['index_'] = openaire_publications_df['index']\n",
    "openaire_publications_df['index_'] = openaire_publications_df['index_'].astype(str) + '_pub'"
   ]
  },
  {
   "cell_type": "code",
   "execution_count": null,
   "metadata": {},
   "outputs": [],
   "source": [
    "cordis_reports_df['full_text'] = (cordis_reports_df['summary'].fillna('') + ' '\n",
    "                                  + cordis_reports_df['workPerformed'].fillna('') + ' ' \n",
    "                                  + cordis_reports_df['article'].fillna(''))"
   ]
  },
  {
   "cell_type": "code",
   "execution_count": null,
   "metadata": {},
   "outputs": [],
   "source": [
    "cordis_report_text = [remove_markup(a) for a in cordis_reports_df['full_text']]\n",
    "cordis_report_text = [normalise_digits(a) for a in cordis_report_text]\n",
    "cordis_report_text = lemmatize(cordis_report_text, nlp)\n",
    "cordis_report_text = bigram(cordis_report_text, phraser=bigrammer)\n",
    "cordis_report_text_str = list(stringify_docs(cordis_report_text))"
   ]
  },
  {
   "cell_type": "code",
   "execution_count": null,
   "metadata": {},
   "outputs": [],
   "source": [
    "from nesta.packages.nlp_utils.preprocess import clean_and_tokenize\n",
    "from gensim.models.doc2vec import Doc2Vec, TaggedDocument"
   ]
  },
  {
   "cell_type": "code",
   "execution_count": null,
   "metadata": {},
   "outputs": [],
   "source": [
    "n_docs = len(abstracts) + len(cordis_abstracts) + len(cordis_report_text)"
   ]
  },
  {
   "cell_type": "code",
   "execution_count": null,
   "metadata": {},
   "outputs": [],
   "source": [
    "docs = [TaggedDocument(d, [i]) for i, d in enumerate(chain(*[abstracts, cordis_abstracts, cordis_report_text]))]"
   ]
  },
  {
   "cell_type": "code",
   "execution_count": null,
   "metadata": {},
   "outputs": [],
   "source": [
    "d2v = Doc2Vec(documents=docs, size=200)"
   ]
  },
  {
   "cell_type": "code",
   "execution_count": null,
   "metadata": {},
   "outputs": [],
   "source": [
    "cordis_reports_df['projectID'].value_counts()[:5]"
   ]
  },
  {
   "cell_type": "code",
   "execution_count": null,
   "metadata": {},
   "outputs": [],
   "source": [
    "cordis_reports_df.set_index('projectID', inplace=True)"
   ]
  },
  {
   "cell_type": "code",
   "execution_count": null,
   "metadata": {},
   "outputs": [],
   "source": [
    "cordis_reports_df[]"
   ]
  },
  {
   "cell_type": "code",
   "execution_count": null,
   "metadata": {},
   "outputs": [],
   "source": [
    "from scipy.spatial.distance import cosine"
   ]
  },
  {
   "cell_type": "code",
   "execution_count": null,
   "metadata": {},
   "outputs": [],
   "source": [
    "type(cordis_reports_df['parsed_abstract'].loc[287600])"
   ]
  },
  {
   "cell_type": "code",
   "execution_count": null,
   "metadata": {},
   "outputs": [],
   "source": [
    "mean_dists = []\n",
    "for pid, abstract in zip(cordis_projects_df['id'][:20], cordis_projects_df['parsed_abstract'][:20]):\n",
    "    abstract_vector = d2v.infer_vector(abstract)\n",
    "    if pid in cordis_reports_df:\n",
    "        report_abstracts = cordis_reports_df.loc[pid]['parsed_abstract']\n",
    "        if len(report_abstracts) > 0:\n",
    "            if type(report_abstracts) == list:\n",
    "                dists = []\n",
    "                for ra in report_abstracts:\n",
    "                    dists.append(cosine(abstract_vector, d2v.infer_vector(ra)))\n",
    "                mean_dists.append(np.mean(dists))\n",
    "            elif type(report_abstracts) == pd.core.series.Series:\n",
    "                dists.append(cosine(abstract_vector, d2v.infer_vector(report_abstracts)))\n",
    "                mean_dists.append(np.mean(dists))\n",
    "        else:\n",
    "            mean_dists.append(np.nan)\n",
    "    else:\n",
    "        mean_dists.append(np.nan)"
   ]
  },
  {
   "cell_type": "code",
   "execution_count": null,
   "metadata": {},
   "outputs": [],
   "source": [
    "mean_dists"
   ]
  },
  {
   "cell_type": "code",
   "execution_count": null,
   "metadata": {},
   "outputs": [],
   "source": [
    "cordis_reports_df['parsed_abstract'] = cordis_report_text"
   ]
  },
  {
   "cell_type": "code",
   "execution_count": null,
   "metadata": {},
   "outputs": [],
   "source": [
    "d2v.infer_vector(abstracts[100])"
   ]
  },
  {
   "cell_type": "markdown",
   "metadata": {},
   "source": [
    "### N Publications"
   ]
  },
  {
   "cell_type": "code",
   "execution_count": null,
   "metadata": {},
   "outputs": [],
   "source": [
    "cordis_projects_df.head()"
   ]
  },
  {
   "cell_type": "code",
   "execution_count": null,
   "metadata": {},
   "outputs": [],
   "source": [
    "end = 30\n",
    "fig, ax = plt.subplots()\n",
    "cordis_proj_participant_count_group = cordis_projects_df.groupby('participant_count')\n",
    "n_particpant_pub_med = cordis_proj_participant_count_group['project_contribution_sum'].median()[:end]\n",
    "n_particpant_pub_lq = cordis_proj_participant_count_group['project_contribution_sum'].quantile(0.25)[:end]\n",
    "n_particpant_pub_uq = cordis_proj_participant_count_group['project_contribution_sum'].quantile(0.75)[:end]\n",
    "ax.plot(n_particpant_pub_med, linewidth=3, color='C7', label='Median')\n",
    "ax.plot(n_particpant_pub_lq, color='C3', label='Lower Quartile')\n",
    "ax.plot(n_particpant_pub_uq, color='C2', label='Upper Quartile')\n",
    "ax.set_xlabel('N Participant Institutions')\n",
    "ax.set_ylabel('Publication Contributions')\n",
    "ax.legend(loc='best')\n",
    "plt.tight_layout()\n",
    "plt.show()"
   ]
  },
  {
   "cell_type": "code",
   "execution_count": null,
   "metadata": {},
   "outputs": [],
   "source": [
    "n_publications = oa_cr_pubs_df.groupby('ec_project_code')['doi'].count()\n",
    "n_publication_children = oa_child_df.groupby('ec_project_code')['access'].count()\n",
    "n_citations = oa_cr_pubs_df.groupby('ec_project_code')['is-referenced-by-count'].sum()"
   ]
  },
  {
   "cell_type": "markdown",
   "metadata": {},
   "source": [
    "### Access Type"
   ]
  },
  {
   "cell_type": "code",
   "execution_count": null,
   "metadata": {},
   "outputs": [],
   "source": [
    "oa_child_df_access_types = pd.get_dummies(oa_child_df['access'])"
   ]
  },
  {
   "cell_type": "code",
   "execution_count": null,
   "metadata": {},
   "outputs": [],
   "source": [
    "oa_child_df = oa_child_df.join(pd.get_dummies(oa_child_df['access']))"
   ]
  },
  {
   "cell_type": "code",
   "execution_count": null,
   "metadata": {},
   "outputs": [],
   "source": [
    "proj_access_counts = oa_child_df.groupby(\n",
    "    'ec_project_code'\n",
    ")['Closed Access', 'Embargo', 'Open Access', 'Restricted', 'UNKNOWN'].sum()"
   ]
  },
  {
   "cell_type": "code",
   "execution_count": null,
   "metadata": {},
   "outputs": [],
   "source": [
    "pubs_sum = proj_access_counts.sum(axis=1)"
   ]
  },
  {
   "cell_type": "code",
   "execution_count": null,
   "metadata": {},
   "outputs": [],
   "source": [
    "# calculate the normalised distribution of access types for each project\n",
    "access_types = ['Closed Access', 'Embargo', 'Open Access', 'UNKNOWN', 'Restricted']\n",
    "\n",
    "for a_t in access_types:\n",
    "    proj_access_counts[a_t] = proj_access_counts[a_t] / pubs_sum"
   ]
  },
  {
   "cell_type": "code",
   "execution_count": null,
   "metadata": {},
   "outputs": [],
   "source": [
    "cordis_orgs_df['activityType'].fillna('OTH', inplace=True)"
   ]
  },
  {
   "cell_type": "code",
   "execution_count": null,
   "metadata": {},
   "outputs": [],
   "source": [
    "cordis_activity_types_ohe = pd.get_dummies(cordis_orgs_df['activityType'])"
   ]
  },
  {
   "cell_type": "code",
   "execution_count": null,
   "metadata": {},
   "outputs": [],
   "source": [
    "cordis_activity_types_ohe['projectID'] = cordis_orgs_df['projectID']"
   ]
  },
  {
   "cell_type": "code",
   "execution_count": null,
   "metadata": {},
   "outputs": [],
   "source": [
    "cordis_proj_activity_dist = cordis_activity_types_ohe.groupby('projectID').sum()\n",
    "cordis_proj_total_orgs = cordis_proj_activity_dist.sum(axis=1)\n",
    "for a_t in cordis_activity_ref_df['Code']:\n",
    "    cordis_proj_activity_dist[a_t] = cordis_proj_activity_dist[a_t] / cordis_proj_total_orgs"
   ]
  },
  {
   "cell_type": "code",
   "execution_count": null,
   "metadata": {},
   "outputs": [],
   "source": [
    "access_org_type_df = cordis_proj_activity_dist.merge(\n",
    "    proj_access_counts, \n",
    "    left_index=True, \n",
    "    right_index=True,\n",
    "    how='inner'\n",
    ")"
   ]
  },
  {
   "cell_type": "code",
   "execution_count": null,
   "metadata": {},
   "outputs": [],
   "source": [
    "fig, ax = plt.subplots(nrows=len(cordis_activity_ref_df['Code']), ncols=len(access_types), figsize=(16, 12))\n",
    "\n",
    "for i, activity in enumerate(cordis_activity_ref_df['Code']):\n",
    "    for j, access in enumerate(access_types):\n",
    "        ax[i][j].hexbin(\n",
    "            access_org_type_df[access],\n",
    "            access_org_type_df[activity],\n",
    "#             alpha=0.1,\n",
    "            bins='log',\n",
    "            mincnt=1\n",
    "        )\n",
    "        ax[i][j].set_xlabel(activity)\n",
    "        ax[i][j].set_ylabel(access)\n",
    "plt.tight_layout()\n",
    "plt.show()"
   ]
  },
  {
   "cell_type": "code",
   "execution_count": null,
   "metadata": {},
   "outputs": [],
   "source": [
    "cordis_activity_ref_df"
   ]
  },
  {
   "cell_type": "code",
   "execution_count": null,
   "metadata": {},
   "outputs": [],
   "source": [
    "oa_child_df.head()"
   ]
  },
  {
   "cell_type": "code",
   "execution_count": null,
   "metadata": {},
   "outputs": [],
   "source": [
    "n_nondupes = oa_child_df.drop_duplicates(['name', 'access']).shape[0]"
   ]
  },
  {
   "cell_type": "code",
   "execution_count": null,
   "metadata": {},
   "outputs": [],
   "source": [
    "(oa_child_df.drop_duplicates(['name', 'access'])['access'].value_counts() / n_nondupes)"
   ]
  },
  {
   "cell_type": "code",
   "execution_count": null,
   "metadata": {},
   "outputs": [],
   "source": [
    "fig, ax = plt.subplots()\n",
    "\n",
    "(oa_child_df.drop_duplicates(['name', 'access'])['access'].value_counts() / n_nondupes).plot(kind='barh', color='C0', ax=ax)\n",
    "ax.invert_yaxis()\n",
    "ax.set_xlabel('Frequency')\n",
    "ax.set_ylabel('Access Type')\n",
    "plt.tight_layout()\n",
    "plt.show()"
   ]
  },
  {
   "cell_type": "code",
   "execution_count": null,
   "metadata": {},
   "outputs": [],
   "source": [
    "oa_child_access_ohe = pd.get_dummies(oa_child_df.drop_duplicates(['name', 'access', 'type'])['access'])"
   ]
  },
  {
   "cell_type": "code",
   "execution_count": null,
   "metadata": {},
   "outputs": [],
   "source": [
    "oa_child_access_ohe['ec_project_code'] = oa_child_df['ec_project_code']"
   ]
  },
  {
   "cell_type": "code",
   "execution_count": null,
   "metadata": {},
   "outputs": [],
   "source": [
    "oa_child_project_access = oa_child_access_ohe.groupby('ec_project_code').sum()"
   ]
  },
  {
   "cell_type": "code",
   "execution_count": null,
   "metadata": {},
   "outputs": [],
   "source": [
    "oa_child_project_access.reset_index(inplace=True)"
   ]
  },
  {
   "cell_type": "code",
   "execution_count": null,
   "metadata": {},
   "outputs": [],
   "source": [
    "oa_child_type_ohe = pd.get_dummies(oa_child_df.drop_duplicates(['name', 'type'])['type'])"
   ]
  },
  {
   "cell_type": "code",
   "execution_count": null,
   "metadata": {},
   "outputs": [],
   "source": [
    "oa_child_type_ohe['ec_project_code'] = oa_child_df.drop_duplicates(['name', 'type'])['ec_project_code']"
   ]
  },
  {
   "cell_type": "code",
   "execution_count": null,
   "metadata": {},
   "outputs": [],
   "source": [
    "oa_child_type_sum = oa_child_type_ohe.groupby('ec_project_code').sum()"
   ]
  },
  {
   "cell_type": "code",
   "execution_count": null,
   "metadata": {},
   "outputs": [],
   "source": [
    "oa_child_type_sum.reset_index(inplace=True)"
   ]
  },
  {
   "cell_type": "code",
   "execution_count": null,
   "metadata": {},
   "outputs": [],
   "source": [
    "oa_child_type_sum = oa_child_type_sum.merge(oa_child_project_access, left_on='ec_project_code', right_on='ec_project_code', suffixes=('', '_'))"
   ]
  },
  {
   "cell_type": "code",
   "execution_count": null,
   "metadata": {},
   "outputs": [],
   "source": [
    "oa_child_type_sum.to_csv(os.path.join(inter_data_path, 'cordis_oa_child_enrichment_20190226.csv'))"
   ]
  },
  {
   "cell_type": "code",
   "execution_count": null,
   "metadata": {},
   "outputs": [],
   "source": [
    "openaire_publications_df.head()"
   ]
  },
  {
   "cell_type": "code",
   "execution_count": null,
   "metadata": {},
   "outputs": [],
   "source": [
    "oa_child_type_ohe = pd.get_dummies(oa_child_df['type'])\n",
    "oa_child_df = pd.concat([oa_child_df, oa_child_type_ohe], axis=1)"
   ]
  },
  {
   "cell_type": "code",
   "execution_count": null,
   "metadata": {},
   "outputs": [],
   "source": [
    "oa_child_df = oa_child_df.merge(\n",
    "    openaire_publications_df[['index', 'subject_clf']],\n",
    "    left_on='oai',\n",
    "    right_on='index',\n",
    "    how='left'\n",
    ")"
   ]
  },
  {
   "cell_type": "code",
   "execution_count": null,
   "metadata": {},
   "outputs": [],
   "source": [
    "type_subject_pivot = oa_child_df.drop_duplicates(['name', 'type']).pivot_table(values='oai', index='subject_clf', columns='type', aggfunc='count')"
   ]
  },
  {
   "cell_type": "code",
   "execution_count": null,
   "metadata": {},
   "outputs": [],
   "source": [
    "type_subject_pivot_norm = type_subject_pivot.divide(type_subject_pivot.sum(axis=1), axis=0)"
   ]
  },
  {
   "cell_type": "code",
   "execution_count": null,
   "metadata": {},
   "outputs": [],
   "source": [
    "fig, ax = plt.subplots(figsize=(13, 4))\n",
    "sns.heatmap((type_subject_pivot_norm * 100).fillna(0), annot=True, fmt='.2f', ax=ax, cbar=False, cmap='viridis')\n",
    "ax.set_xticklabels(ax.get_xticklabels(), rotation=30, ha='right')\n",
    "ax.set_xlabel('Output Type')\n",
    "ax.set_ylabel('Subject')\n",
    "# plt.tight_layout()\n",
    "plt.show()"
   ]
  },
  {
   "cell_type": "code",
   "execution_count": null,
   "metadata": {},
   "outputs": [],
   "source": [
    "fig, ax = plt.subplots()\n",
    "type_subject_pivot.plot.bar(stacked=True, ax=ax, cmap='tab20')\n",
    "ax.legend(loc='center left', bbox_to_anchor= (1.1, 0.5), ncol=2, \n",
    "            borderaxespad=0, frameon=False)\n"
   ]
  },
  {
   "cell_type": "markdown",
   "metadata": {},
   "source": [
    "#### Access Distributions"
   ]
  },
  {
   "cell_type": "code",
   "execution_count": null,
   "metadata": {},
   "outputs": [],
   "source": [
    "for activity in cordis_activity_ref_df['Code']:\n",
    "    access_org_type_df['has_{}'.format(activity)] =  access_org_type_df[activity] > 0"
   ]
  },
  {
   "cell_type": "code",
   "execution_count": null,
   "metadata": {},
   "outputs": [],
   "source": [
    "for access in access_types:\n",
    "    access_org_type_df['has_{}'.format(access)] =  access_org_type_df[access] > 0"
   ]
  },
  {
   "cell_type": "code",
   "execution_count": null,
   "metadata": {},
   "outputs": [],
   "source": [
    "fig, ax = plt.subplots(nrows=4, figsize=(6, 8))\n",
    "\n",
    "access_types_known = [a for a in access_types if a != 'UNKNOWN']\n",
    "\n",
    "for i, access in enumerate(access_types_known):\n",
    "    pdf_cdf(\n",
    "        ax[i],\n",
    "        access_org_type_df[access],\n",
    "        bins=20\n",
    "    )\n",
    "    ax[i].set_xlabel(f'% of {access} Outputs')\n",
    "plt.tight_layout()\n",
    "plt.show()"
   ]
  },
  {
   "cell_type": "code",
   "execution_count": null,
   "metadata": {},
   "outputs": [],
   "source": [
    "fig, ax = plt.subplots(ncols=3, figsize=(16,4))\n",
    "ax[0].hist(\n",
    "    access_org_type_df['has_Open Access'][\n",
    "        (access_org_type_df['has_PRC'] == True)],\n",
    ")\n",
    "ax[1].hist(\n",
    "    access_org_type_df['has_Open Access'][\n",
    "        (access_org_type_df['has_PRC'] == False) \n",
    "#         & (access_org_type_df['has_PUB'] == True)\n",
    "    ],\n",
    ")\n",
    "ax[2].hist(\n",
    "    access_org_type_df['has_Open Access'][\n",
    "        (access_org_type_df['has_PRC'] == False) &\n",
    "        (access_org_type_df['has_PUB'] == True)],\n",
    "#     density='cumulative'\n",
    ")\n",
    "plt.show()"
   ]
  },
  {
   "cell_type": "code",
   "execution_count": null,
   "metadata": {},
   "outputs": [],
   "source": [
    "access_org_type_df[\n",
    "    (access_org_type_df['has_PRC'] == True) & \n",
    "    (access_org_type_df['has_HES'] == False)]['has_Closed Access'].mean()"
   ]
  },
  {
   "cell_type": "code",
   "execution_count": null,
   "metadata": {},
   "outputs": [],
   "source": [
    "access_org_type_df.groupby('has_PRC')[['{}'.format(a) for a in access_types]].mean()"
   ]
  },
  {
   "cell_type": "markdown",
   "metadata": {},
   "source": [
    "### Publication Type"
   ]
  },
  {
   "cell_type": "code",
   "execution_count": null,
   "metadata": {},
   "outputs": [],
   "source": [
    "oa_child_df['type'].fillna('Article', inplace=True)"
   ]
  },
  {
   "cell_type": "code",
   "execution_count": null,
   "metadata": {},
   "outputs": [],
   "source": [
    "cordis_project_codes = sorted(cordis_projects_df['id'])"
   ]
  },
  {
   "cell_type": "code",
   "execution_count": null,
   "metadata": {},
   "outputs": [],
   "source": [
    "oa_child_df['in_cordis'] = oa_child_df['ec_project_code'].apply(lambda x: x in cordis_project_codes)"
   ]
  },
  {
   "cell_type": "code",
   "execution_count": null,
   "metadata": {},
   "outputs": [],
   "source": [
    "fig, ax = plt.subplots()\n",
    "\n",
    "oa_child_df['type'].value_counts().plot(kind='barh', color='C0', ax=ax)\n",
    "ax.invert_yaxis()\n",
    "ax.set_xscale('log')\n",
    "ax.set_xlabel('Frequency')\n",
    "ax.set_ylabel('Publication Type')"
   ]
  },
  {
   "cell_type": "code",
   "execution_count": null,
   "metadata": {},
   "outputs": [],
   "source": [
    "type_access_pivot = oa_child_df.pivot_table(values='ec_project_code', index='type', columns='access', aggfunc='count')\n",
    "type_access_pivot = type_access_pivot.sort_values('Open Access', ascending=False)\n",
    "type_access_pivot_norm = type_access_pivot.divide(type_access_pivot.sum(axis=1), axis=0) * 100\n",
    "# type_access_pivot.fillna(0, inplace=True)"
   ]
  },
  {
   "cell_type": "code",
   "execution_count": null,
   "metadata": {},
   "outputs": [],
   "source": [
    "fig, ax = plt.subplots(figsize=(5, 5))\n",
    "sns.heatmap(\n",
    "    type_access_pivot_norm[['Open Access', 'Closed Access', 'Restricted', 'Embargo', 'UNKNOWN']],\n",
    "    cmap='viridis',\n",
    "    ax=ax,\n",
    "    annot=True,\n",
    "    fmt='.1f',\n",
    "    cbar_kws={'label': '% with Access Type'}\n",
    ")\n",
    "ax.set_xlabel('Access Type')\n",
    "ax.set_ylabel('Publication Type')\n",
    "ax.set_xticklabels(ax.get_xticklabels(), rotation=30, ha='right')\n",
    "plt.show()"
   ]
  },
  {
   "cell_type": "markdown",
   "metadata": {},
   "source": [
    "### Author Counts"
   ]
  },
  {
   "cell_type": "code",
   "execution_count": null,
   "metadata": {},
   "outputs": [],
   "source": [
    "from eu_funding.utils.misc_utils import Groupby"
   ]
  },
  {
   "cell_type": "code",
   "execution_count": null,
   "metadata": {},
   "outputs": [],
   "source": [
    "def count_authors(authors_list):\n",
    "    author_set = []\n",
    "    for authors in authors_list:\n",
    "        if not pd.isnull(authors):\n",
    "            pub_authors = authors.split(';')\n",
    "            author_set.extend(pub_authors)\n",
    "    author_set = set(author_set)\n",
    "    return len(author_set)"
   ]
  },
  {
   "cell_type": "code",
   "execution_count": null,
   "metadata": {},
   "outputs": [],
   "source": [
    "groupby = Groupby(oa_cr_pubs_df['ec_project_code'])\n",
    "author_counts = groupby.apply(function_=count_authors, array=oa_cr_pubs_df['authors'], broadcast=True)\n",
    "oa_cr_pubs_df['author_counts'] = author_counts\n",
    "project_author_counts = oa_cr_pubs_df.groupby('ec_project_code')['author_counts'].max()"
   ]
  },
  {
   "cell_type": "markdown",
   "metadata": {},
   "source": [
    "#### Pub Type by Discipline"
   ]
  },
  {
   "cell_type": "code",
   "execution_count": null,
   "metadata": {},
   "outputs": [],
   "source": [
    "pub_types = oa_child_df['type'].unique()"
   ]
  },
  {
   "cell_type": "code",
   "execution_count": null,
   "metadata": {},
   "outputs": [],
   "source": [
    "oa_child_df_pub_types = pd.get_dummies(oa_child_df['type'])\n",
    "oa_child_df_pub_types['ec_project_code'] = oa_child_df['ec_project_code']"
   ]
  },
  {
   "cell_type": "code",
   "execution_count": null,
   "metadata": {},
   "outputs": [],
   "source": [
    "proj_pub_type_counts = oa_child_df_pub_types.groupby(\n",
    "    'ec_project_code'\n",
    ")[pub_types].sum()"
   ]
  },
  {
   "cell_type": "code",
   "execution_count": null,
   "metadata": {},
   "outputs": [],
   "source": [
    "pubs_sum = proj_access_counts.sum(axis=1)"
   ]
  },
  {
   "cell_type": "code",
   "execution_count": null,
   "metadata": {},
   "outputs": [],
   "source": [
    "for p_t in pub_types:\n",
    "    proj_pub_type_counts[f'{p_t}_normed'] = proj_pub_type_counts[p_t] / pubs_sum\n",
    "    proj_pub_type_counts[f'{p_t}_normed'][np.isinf(proj_pub_type_counts[f'{p_t}_normed'])] = 0"
   ]
  },
  {
   "cell_type": "code",
   "execution_count": null,
   "metadata": {},
   "outputs": [],
   "source": [
    "proj_pub_type_counts.reset_index(inplace=True)"
   ]
  },
  {
   "cell_type": "code",
   "execution_count": null,
   "metadata": {},
   "outputs": [],
   "source": [
    "with open(os.path.join(model_path, 'gtr_text_models.p'), 'rb') as f:\n",
    "    gtr_discipline_model = pickle.load(f)"
   ]
  },
  {
   "cell_type": "code",
   "execution_count": null,
   "metadata": {},
   "outputs": [],
   "source": [
    "abstract_vecs = gtr_discipline_model[0].transform(cordis_projects_df['objective'])"
   ]
  },
  {
   "cell_type": "code",
   "execution_count": null,
   "metadata": {},
   "outputs": [],
   "source": [
    "discipline_labels = gtr_discipline_model[1].predict(abstract_vecs)"
   ]
  },
  {
   "cell_type": "code",
   "execution_count": null,
   "metadata": {},
   "outputs": [],
   "source": [
    "category_name_lookup = {6:'biological_sciences',\n",
    "                        3:'physics',\n",
    "                        0:'engineering_technology',\n",
    "                        1:'environmental_sciences',\n",
    "                        2:'social_sciences',\n",
    "                        4:'arts_humanities',\n",
    "                        5:'mathematics_computing',\n",
    "                        7: 'medical_sciences'}"
   ]
  },
  {
   "cell_type": "code",
   "execution_count": null,
   "metadata": {},
   "outputs": [],
   "source": [
    "cordis_projects_disciplines_df = pd.DataFrame(discipline_labels).rename(columns=category_name_lookup)"
   ]
  },
  {
   "cell_type": "code",
   "execution_count": null,
   "metadata": {},
   "outputs": [],
   "source": [
    "cordis_projects_df.reset_index(inplace=True)\n",
    "cordis_projects_df.drop('index', inplace=True, axis=1)"
   ]
  },
  {
   "cell_type": "code",
   "execution_count": null,
   "metadata": {},
   "outputs": [],
   "source": [
    "cordis_project_publications_df = cordis_projects_df.join(\n",
    "    cordis_projects_disciplines_df).merge(\n",
    "    proj_pub_type_counts, \n",
    "    left_on='id', \n",
    "    right_on='ec_project_code',\n",
    "    how='inner'\n",
    ")"
   ]
  },
  {
   "cell_type": "code",
   "execution_count": null,
   "metadata": {},
   "outputs": [],
   "source": [
    "cordis_project_publications_df"
   ]
  },
  {
   "cell_type": "markdown",
   "metadata": {},
   "source": [
    "Groupby discipline. Calculate sum of each output type. Put in table."
   ]
  },
  {
   "cell_type": "code",
   "execution_count": null,
   "metadata": {},
   "outputs": [],
   "source": [
    "discipline_pub_type_counts = []\n",
    "\n",
    "for _, discipline in category_name_lookup.items():\n",
    "    x = cordis_project_publications_df.groupby(discipline)[pub_types].sum().to_dict(orient='records')[1]\n",
    "    x['discipline'] = discipline\n",
    "    discipline_pub_type_counts.append(x)"
   ]
  },
  {
   "cell_type": "code",
   "execution_count": null,
   "metadata": {},
   "outputs": [],
   "source": [
    "disci_pub_type_df = pd.DataFrame().from_records(discipline_pub_type_counts).set_index('discipline')"
   ]
  },
  {
   "cell_type": "code",
   "execution_count": null,
   "metadata": {},
   "outputs": [],
   "source": [
    "fig, ax = plt.subplots()\n",
    "disci_pub_type_df.plot(kind='barh', stacked=True, ax=ax, colormap='tab20')\n",
    "ax.legend(loc='right', bbox_to_anchor=(2.5, .5), ncol=2, \n",
    "            borderaxespad=0, frameon=False)\n",
    "ax.set_xlabel('Frequency')\n",
    "plt.show()"
   ]
  },
  {
   "cell_type": "code",
   "execution_count": null,
   "metadata": {},
   "outputs": [],
   "source": [
    "cordis_project_publications_df.head()"
   ]
  },
  {
   "cell_type": "markdown",
   "metadata": {},
   "source": [
    "### Lexical Diversity"
   ]
  },
  {
   "cell_type": "markdown",
   "metadata": {},
   "source": [
    "### Collaborations"
   ]
  },
  {
   "cell_type": "code",
   "execution_count": null,
   "metadata": {},
   "outputs": [],
   "source": [
    "authors = oa_pubs_df['authors'].str.split(';')"
   ]
  },
  {
   "cell_type": "code",
   "execution_count": null,
   "metadata": {},
   "outputs": [],
   "source": [
    "c_authors = Counter(chain(*[a for a in authors if type(a) == list]))"
   ]
  },
  {
   "cell_type": "code",
   "execution_count": null,
   "metadata": {},
   "outputs": [],
   "source": [
    "authors_h = [tuple(a) for a in authors if type(a) == list]"
   ]
  },
  {
   "cell_type": "code",
   "execution_count": null,
   "metadata": {},
   "outputs": [],
   "source": [
    "c_authors = Counter(authors_h)"
   ]
  },
  {
   "cell_type": "code",
   "execution_count": null,
   "metadata": {},
   "outputs": [],
   "source": [
    "c_authors.most_common(1000)"
   ]
  },
  {
   "cell_type": "markdown",
   "metadata": {},
   "source": [
    "### Extra Stuff"
   ]
  },
  {
   "cell_type": "code",
   "execution_count": null,
   "metadata": {},
   "outputs": [],
   "source": [
    "project_counts = [len(s) for s in openaire_publications_df['ec_project_codes']]\n",
    "project_counts_c = Counter(project_counts)\n",
    "n_codes, n_codes_count = zip(*project_counts_c.items())"
   ]
  },
  {
   "cell_type": "code",
   "execution_count": null,
   "metadata": {},
   "outputs": [],
   "source": [
    "fig, ax = plt.subplots(figsize=(8,4))\n",
    "ax.bar(n_codes, n_codes_count)\n",
    "ax.set_xlabel('N EC Projects')\n",
    "ax.set_ylabel('Frequency')\n",
    "plt.show()"
   ]
  },
  {
   "cell_type": "markdown",
   "metadata": {},
   "source": [
    "Around 50% of projects have no EC project associated. However, over 120,000 of them have at least one. Over 10,000 are attributed to two projects, while a smaller handful are associated with 3 or more."
   ]
  },
  {
   "cell_type": "code",
   "execution_count": null,
   "metadata": {},
   "outputs": [],
   "source": [
    "def flatten(nested):\n",
    "    return list(chain(*nested))"
   ]
  },
  {
   "cell_type": "code",
   "execution_count": null,
   "metadata": {},
   "outputs": [],
   "source": [
    "publication_types = flatten(openaire_publications_df['child_types'])\n",
    "c_types = Counter(publication_types)\n",
    "pub_type, pub_type_count = zip(*c_types.items())\n",
    "\n",
    "fig, ax = plt.subplots(figsize=(8,4))\n",
    "ax.barh(pub_type, pub_type_count)\n",
    "ax.set_xlabel('Publication Type')\n",
    "ax.set_ylabel('Frequency')\n",
    "plt.show()"
   ]
  },
  {
   "cell_type": "code",
   "execution_count": null,
   "metadata": {},
   "outputs": [],
   "source": [
    "access_types = flatten(openaire_publications_df['child_access'])\n",
    "c_access = Counter(access_types)\n",
    "access_type, access_type_count = zip(*c_access.items())\n",
    "\n",
    "fig, ax = plt.subplots(figsize=(8,4))\n",
    "ax.barh(access_type, access_type_count)\n",
    "ax.set_xlabel('Child Access Type')\n",
    "ax.set_ylabel('Frequency')\n",
    "plt.show()"
   ]
  },
  {
   "cell_type": "code",
   "execution_count": null,
   "metadata": {},
   "outputs": [],
   "source": [
    "accessright_counts = openaire_publications_df['bestaccessright'].value_counts()\n",
    "fig, ax = plt.subplots(figsize=(8,4))\n",
    "ax.barh(accessright_counts.index, accessright_counts.values)\n",
    "ax.set_xlabel('Publication Access Type')\n",
    "ax.set_ylabel('Frequency')\n",
    "plt.show()"
   ]
  },
  {
   "cell_type": "code",
   "execution_count": null,
   "metadata": {},
   "outputs": [],
   "source": [
    "accessright_counts = openaire_publications_df['publication_type'].value_counts()\n",
    "fig, ax = plt.subplots(figsize=(8,4))\n",
    "ax.barh(accessright_counts.index, accessright_counts.values)\n",
    "ax.set_xlabel('Publication Access Type')\n",
    "ax.set_ylabel('Frequency')\n",
    "plt.show()"
   ]
  },
  {
   "cell_type": "code",
   "execution_count": null,
   "metadata": {},
   "outputs": [],
   "source": [
    "langauge_counts = openaire_publications_df['language'].value_counts()\n",
    "fig, ax = plt.subplots(figsize=(8,8))\n",
    "ax.barh(langauge_counts.index, langauge_counts.values)\n",
    "ax.set_xlabel('Language')\n",
    "ax.set_ylabel('Frequency')\n",
    "plt.show()"
   ]
  },
  {
   "cell_type": "code",
   "execution_count": null,
   "metadata": {},
   "outputs": [],
   "source": [
    "category_c = Counter(flatten(openaire_publications_df['categories']))"
   ]
  },
  {
   "cell_type": "code",
   "execution_count": null,
   "metadata": {},
   "outputs": [],
   "source": [
    "category_c.most_common(40)"
   ]
  },
  {
   "cell_type": "markdown",
   "metadata": {},
   "source": [
    "### CrossRef Works"
   ]
  },
  {
   "cell_type": "code",
   "execution_count": null,
   "metadata": {},
   "outputs": [],
   "source": [
    "crossref_works_records = []\n",
    "\n",
    "for file in os.listdir(crossref_works_path):\n",
    "    if '.txt' in file:\n",
    "        with open(os.path.join(crossref_works_path, file), 'r') as f:\n",
    "            crossref_works_records.extend(json.load(f))"
   ]
  },
  {
   "cell_type": "code",
   "execution_count": null,
   "metadata": {},
   "outputs": [],
   "source": [
    "crossref_works_records = [c for c in crossref_works_records if type(c) == dict]"
   ]
  },
  {
   "cell_type": "code",
   "execution_count": null,
   "metadata": {},
   "outputs": [],
   "source": [
    "crossref_works_df = pd.DataFrame().from_records(crossref_works_records)"
   ]
  },
  {
   "cell_type": "code",
   "execution_count": null,
   "metadata": {},
   "outputs": [],
   "source": [
    "def parse_date_parts(date_dict):\n",
    "    date_parts = date_dict.get('date-parts')\n",
    "    if date_parts is not None:\n",
    "        date_parts = date_parts[0]\n",
    "        if date_parts[0] is not None:\n",
    "            fill = 3 - len(date_parts)\n",
    "            for _ in range(fill):\n",
    "                date_parts.append(1)\n",
    "            dt = datetime(*date_parts)\n",
    "            return dt\n",
    "    return None"
   ]
  },
  {
   "cell_type": "code",
   "execution_count": null,
   "metadata": {},
   "outputs": [],
   "source": [
    "crossref_works_df['issued_dt'] = crossref_works_df['issued'].apply(lambda x: parse_date_parts(x))"
   ]
  },
  {
   "cell_type": "code",
   "execution_count": null,
   "metadata": {},
   "outputs": [],
   "source": [
    "collected_date = datetime(2019, 2, 1)"
   ]
  },
  {
   "cell_type": "code",
   "execution_count": null,
   "metadata": {},
   "outputs": [],
   "source": [
    "crossref_works_df['age'] = collected_date - crossref_works_df['issued_dt']"
   ]
  },
  {
   "cell_type": "code",
   "execution_count": null,
   "metadata": {},
   "outputs": [],
   "source": [
    "crossref_works_df['age_years'] = crossref_works_df['age'].dt.days / 365.25"
   ]
  },
  {
   "cell_type": "code",
   "execution_count": null,
   "metadata": {},
   "outputs": [],
   "source": [
    "crossref_works_df = crossref_works_df[crossref_works_df['age_years'] <= 20]"
   ]
  },
  {
   "cell_type": "code",
   "execution_count": null,
   "metadata": {},
   "outputs": [],
   "source": [
    "crossref_works_df['type'].value_counts()"
   ]
  },
  {
   "cell_type": "code",
   "execution_count": null,
   "metadata": {},
   "outputs": [],
   "source": [
    "plt.hist(crossref_works_df['age_years'], bins=100)\n",
    "plt.show()"
   ]
  },
  {
   "cell_type": "code",
   "execution_count": null,
   "metadata": {},
   "outputs": [],
   "source": [
    "ref_per_year = crossref_works_df['is-referenced-by-count'] / np.power(crossref_works_df['age_years'], 2)\n",
    "# ref_per_year_log = np.log10(ref_per_year)\n",
    "# ref_per_year_log = ref_per_year_log[~np.isinf(ref_per_year_log)]\n",
    "\n",
    "plt.hist(ref_per_year, bins=1000)\n",
    "# plt.xlim((0, 50))\n",
    "plt.show()"
   ]
  },
  {
   "cell_type": "code",
   "execution_count": null,
   "metadata": {},
   "outputs": [],
   "source": [
    "plt.hexbin(\n",
    "    crossref_works_df['age_years'],\n",
    "    np.log(crossref_works_df['is-referenced-by-count']),\n",
    "#     bins='log',\n",
    "    gridsize=40,\n",
    ")"
   ]
  },
  {
   "cell_type": "code",
   "execution_count": null,
   "metadata": {},
   "outputs": [],
   "source": [
    "crossref_works_df.head()"
   ]
  },
  {
   "cell_type": "code",
   "execution_count": null,
   "metadata": {},
   "outputs": [],
   "source": [
    "crossref_works_df['is-referenced-by-count'].describe()"
   ]
  },
  {
   "cell_type": "code",
   "execution_count": null,
   "metadata": {},
   "outputs": [],
   "source": [
    "plt.hist(crossref_works_df['is-referenced-by-count'], bins=100)\n",
    "plt.show"
   ]
  },
  {
   "cell_type": "markdown",
   "metadata": {},
   "source": [
    "### Lexical Diversity"
   ]
  },
  {
   "cell_type": "code",
   "execution_count": null,
   "metadata": {},
   "outputs": [],
   "source": [
    "from sklearn.feature_extraction.text import CountVectorizer"
   ]
  },
  {
   "cell_type": "code",
   "execution_count": null,
   "metadata": {},
   "outputs": [],
   "source": [
    "import ast"
   ]
  },
  {
   "cell_type": "code",
   "execution_count": null,
   "metadata": {},
   "outputs": [],
   "source": [
    "cv = CountVectorizer(dtype=np.int32)"
   ]
  },
  {
   "cell_type": "code",
   "execution_count": null,
   "metadata": {},
   "outputs": [],
   "source": [
    "from skbio.diversity.alpha import shannon"
   ]
  },
  {
   "cell_type": "code",
   "execution_count": null,
   "metadata": {},
   "outputs": [],
   "source": [
    "sum(pd.isnull(openaire_publications_df['language']))"
   ]
  },
  {
   "cell_type": "code",
   "execution_count": null,
   "metadata": {},
   "outputs": [],
   "source": [
    "entropies = []\n",
    "lengths = []\n",
    "n_papers = []\n",
    "\n",
    "for pid in cordis_projects_df['id']:\n",
    "    papers = openaire_publications_df[[True if str(pid) in s else False \n",
    "                                       for s in openaire_publications_df['ec_project_codes']]]\n",
    "    papers = papers[~pd.isnull(papers['abstract'])]\n",
    "    try:\n",
    "        main_lang = papers['language'].value_counts().index[0]\n",
    "        papers = papers[papers['language'] == main_lang]\n",
    "        paper_count = len(papers)\n",
    "    except:\n",
    "        paper_count = len(papers)\n",
    "    n_papers.append(paper_count)\n",
    "    if paper_count > 0:\n",
    "        mega_abstract = [' '.join([s for s in papers])]\n",
    "        article_bow = cv.fit_transform(mega_abstract)\n",
    "        for bow in article_bow:\n",
    "            x = np.squeeze(np.asarray(bow.todense()))\n",
    "            x = x[x != 0]\n",
    "            entropy = shannon(x)\n",
    "            lengths.append(bow.sum())\n",
    "            entropies.append(entropy)\n",
    "        \n",
    "    else:\n",
    "        entropies.append(0)\n",
    "        lengths.append(0)\n"
   ]
  },
  {
   "cell_type": "code",
   "execution_count": null,
   "metadata": {},
   "outputs": [],
   "source": [
    "papers"
   ]
  },
  {
   "cell_type": "code",
   "execution_count": null,
   "metadata": {},
   "outputs": [],
   "source": [
    "fig, ax = plt.subplots()\n",
    "ax.scatter(n_papers, entropies, alpha=0.05)\n",
    "# ax.set_xscale('log')"
   ]
  },
  {
   "cell_type": "code",
   "execution_count": null,
   "metadata": {},
   "outputs": [],
   "source": [
    "def func(x, a, b, c):\n",
    "    return a * np.exp(-b * x) + c"
   ]
  },
  {
   "cell_type": "code",
   "execution_count": null,
   "metadata": {},
   "outputs": [],
   "source": [
    "from scipy.optimize import curve_fit"
   ]
  },
  {
   "cell_type": "code",
   "execution_count": null,
   "metadata": {},
   "outputs": [],
   "source": [
    "import operator"
   ]
  },
  {
   "cell_type": "code",
   "execution_count": null,
   "metadata": {},
   "outputs": [],
   "source": [
    "n_papers, entropies = zip(*sorted(zip(n_papers, entropies),\n",
    "  key=operator.itemgetter(0), reverse=True))"
   ]
  },
  {
   "cell_type": "code",
   "execution_count": null,
   "metadata": {},
   "outputs": [],
   "source": [
    "mask = ~np.isinf(entropies)\n",
    "n_papers_mask = np.array(n_papers)[mask]\n",
    "entropies_mask = entropies[mask]"
   ]
  },
  {
   "cell_type": "code",
   "execution_count": null,
   "metadata": {},
   "outputs": [],
   "source": [
    "popt, pcov = curve_fit(func, n_papers_mask, entropies_mask)"
   ]
  },
  {
   "cell_type": "code",
   "execution_count": null,
   "metadata": {},
   "outputs": [],
   "source": [
    "popt"
   ]
  },
  {
   "cell_type": "code",
   "execution_count": null,
   "metadata": {},
   "outputs": [],
   "source": [
    "plt.scatter(n_papers_mask, entropies_mask)\n",
    "plt.plot(np.array(n_papers), func(np.array(n_papers), *popt), 'r-',\n",
    "         label='fit: a=%5.3f, b=%5.3f, c=%5.3f' % tuple(popt))\n"
   ]
  },
  {
   "cell_type": "code",
   "execution_count": null,
   "metadata": {},
   "outputs": [],
   "source": [
    "dist = func(np.array(n_papers), *popt)"
   ]
  },
  {
   "cell_type": "code",
   "execution_count": null,
   "metadata": {},
   "outputs": [],
   "source": [
    "plt.scatter(np.log(n_papers), np.log(1 / (entropies - dist)))"
   ]
  },
  {
   "cell_type": "code",
   "execution_count": null,
   "metadata": {},
   "outputs": [],
   "source": [
    "pid = 202008\n",
    "papers = papers = openaire_publications_df[[True if str(pid) in s else False \n",
    "                                       for s in openaire_publications_df['ec_project_codes']]]\n",
    "papers = papers[~pd.isnull(papers)]"
   ]
  },
  {
   "cell_type": "code",
   "execution_count": null,
   "metadata": {},
   "outputs": [],
   "source": [
    "papers"
   ]
  },
  {
   "cell_type": "code",
   "execution_count": null,
   "metadata": {},
   "outputs": [],
   "source": [
    "papers['language'].value_counts().index[0]"
   ]
  },
  {
   "cell_type": "code",
   "execution_count": null,
   "metadata": {},
   "outputs": [],
   "source": [
    "cordis_projects_df[cordis_projects_df['id'] == pid]"
   ]
  },
  {
   "cell_type": "code",
   "execution_count": null,
   "metadata": {},
   "outputs": [],
   "source": [
    "cordis_projects_df['oa_abstract_entropy_mean'] = entropies\n",
    "cordis_projects_df['oa_n_papers'] = n_papers\n",
    "cordis_projects_df['oa_abstract_lengths'] = lengths"
   ]
  },
  {
   "cell_type": "code",
   "execution_count": null,
   "metadata": {},
   "outputs": [],
   "source": [
    "from datetime import datetime"
   ]
  },
  {
   "cell_type": "code",
   "execution_count": null,
   "metadata": {},
   "outputs": [],
   "source": [
    "closed_projects = cordis_projects_df[cordis_projects_df['endDate'] < datetime.today()]"
   ]
  },
  {
   "cell_type": "code",
   "execution_count": null,
   "metadata": {},
   "outputs": [],
   "source": [
    "plt.hist(entropies, bins=50)\n",
    "plt.show()"
   ]
  },
  {
   "cell_type": "code",
   "execution_count": null,
   "metadata": {},
   "outputs": [],
   "source": [
    "from eu_funding.data.parse import concat_entities"
   ]
  },
  {
   "cell_type": "code",
   "execution_count": null,
   "metadata": {},
   "outputs": [],
   "source": [
    "cordis_projects_df"
   ]
  },
  {
   "cell_type": "code",
   "execution_count": null,
   "metadata": {},
   "outputs": [],
   "source": [
    "cordis_topics_ref_df.head()"
   ]
  },
  {
   "cell_type": "code",
   "execution_count": null,
   "metadata": {},
   "outputs": [],
   "source": [
    "cordis_projects_df.topics.value_counts()"
   ]
  },
  {
   "cell_type": "code",
   "execution_count": null,
   "metadata": {},
   "outputs": [],
   "source": []
  }
 ],
 "metadata": {
  "language_info": {
   "name": "python",
   "pygments_lexer": "ipython3"
  }
 },
 "nbformat": 4,
 "nbformat_minor": 2
}
