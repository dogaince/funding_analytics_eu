{
 "cells": [
  {
   "cell_type": "markdown",
   "metadata": {},
   "source": [
    "# Metric Scoping\n",
    "\n",
    "Reference data from [here](https://data.europa.eu/euodp/data/dataset/cordisref-data).\n",
    "\n",
    "- [ ] Number of citations\n",
    "- [ ] Types of publication outputs\n",
    "- [ ] Access rights\n",
    "- [ ] Did another collaboration happen afterwards?\n",
    "\n",
    "\n",
    "- [ ] Public private balance\n",
    "- [ ] Country diversity\n",
    "- [ ] Org diversity"
   ]
  },
  {
   "cell_type": "markdown",
   "metadata": {},
   "source": [
    "## Preamble"
   ]
  },
  {
   "cell_type": "code",
   "execution_count": null,
   "metadata": {},
   "outputs": [],
   "source": [
    "%run notebook_preamble.ipy\n",
    "\n",
    "pd.set_option('max_columns', 99)"
   ]
  },
  {
   "cell_type": "code",
   "execution_count": null,
   "metadata": {},
   "outputs": [],
   "source": [
    "import seaborn as sns\n",
    "from itertools import chain\n",
    "from collections import Counter, defaultdict\n",
    "import pickle\n",
    "import ast\n",
    "from datetime import datetime\n",
    "\n",
    "from eu_funding.visualization.visualize import pdf_cdf\n",
    "import seaborn as sns\n",
    "\n",
    "sns.set_context('notebook')\n",
    "# from src.visualization.visualize import pdf_cdf"
   ]
  },
  {
   "cell_type": "markdown",
   "metadata": {},
   "source": [
    "## Data"
   ]
  },
  {
   "cell_type": "markdown",
   "metadata": {},
   "source": [
    "### Projects"
   ]
  },
  {
   "cell_type": "markdown",
   "metadata": {},
   "source": [
    "Each funding programme has a projects dataset, which contain research projects funded by EC programmes.\n",
    "- `rcn`\n",
    "- `id`\n",
    "- `acronym`\n",
    "- `status`\n",
    "- `programme`\n",
    "- `topics`\n",
    "- `frameworkProgramme`\n",
    "- `title`\n",
    "- `startDate`\n",
    "- `endDate`\n",
    "- `projectUrl`\n",
    "- `objective`\n",
    "- `totalCost`\n",
    "- `ecMaxContribution`\n",
    "- `call`\n",
    "- `fundingScheme`\n",
    "- `coordinator`\n",
    "- `coordinatorCountry`\n",
    "- `participants`\n",
    "- `participantCountries`\n",
    "- `subjects`"
   ]
  },
  {
   "cell_type": "markdown",
   "metadata": {},
   "source": [
    "### H2020"
   ]
  },
  {
   "cell_type": "code",
   "execution_count": null,
   "metadata": {},
   "outputs": [],
   "source": [
    "h2020_projects_df = pd.read_csv(\n",
    "    os.path.join(cordis_h2020_path, 'cordis-h2020projects.csv'),\n",
    "    sep=';',\n",
    "    encoding='iso-8859-1',\n",
    "    parse_dates=['startDate', 'endDate'],\n",
    "    infer_datetime_format=True,\n",
    "    decimal=','\n",
    ")\n",
    "h2020_orgs_df = pd.read_csv(\n",
    "    os.path.join(cordis_h2020_path, 'cordis-h2020organizations.csv'),\n",
    "    sep=';',\n",
    "    encoding='iso-8859-1',\n",
    "    decimal=',',\n",
    ")\n",
    "h2020_reports_df = pd.read_csv(\n",
    "    os.path.join(cordis_h2020_path, 'cordis-h2020reports.csv'),\n",
    ")\n",
    "h2020_pi_df = pd.read_excel(\n",
    "    os.path.join(cordis_h2020_path, 'cordis-h2020-erc-pi.xlsx'),\n",
    "    sheet_name='PI'\n",
    ")\n",
    "h2020_fellows_r1_df = pd.read_excel(\n",
    "    os.path.join(cordis_h2020_path, 'cordis-h2020-msca-fellows.xls'),\n",
    "    sheet_name='Report 1',\n",
    "    header=3\n",
    ").set_index('Project Number')\n",
    "h2020_fellows_r2_df = pd.read_excel(\n",
    "    os.path.join(cordis_h2020_path, 'cordis-h2020-msca-fellows.xls'),\n",
    "    sheet_name='Report 2'\n",
    ").set_index('projectId')\n",
    "h2020_fellows_df = h2020_fellows_r1_df.join(h2020_fellows_r2_df, how='outer').reset_index().rename(columns={'index': 'projectId'})"
   ]
  },
  {
   "cell_type": "code",
   "execution_count": null,
   "metadata": {},
   "outputs": [],
   "source": [
    "h2020_projects_df.head(1)"
   ]
  },
  {
   "cell_type": "code",
   "execution_count": null,
   "metadata": {},
   "outputs": [],
   "source": [
    "h2020_projects_df.shape"
   ]
  },
  {
   "cell_type": "code",
   "execution_count": null,
   "metadata": {},
   "outputs": [],
   "source": [
    "h2020_reports_df.head(1)"
   ]
  },
  {
   "cell_type": "code",
   "execution_count": null,
   "metadata": {},
   "outputs": [],
   "source": [
    "h2020_reports_df.shape"
   ]
  },
  {
   "cell_type": "code",
   "execution_count": null,
   "metadata": {},
   "outputs": [],
   "source": [
    "h2020_orgs_df.head(1)"
   ]
  },
  {
   "cell_type": "code",
   "execution_count": null,
   "metadata": {},
   "outputs": [],
   "source": [
    "h2020_orgs_df.shape"
   ]
  },
  {
   "cell_type": "code",
   "execution_count": null,
   "metadata": {},
   "outputs": [],
   "source": [
    "h2020_pi_df.head(1)"
   ]
  },
  {
   "cell_type": "code",
   "execution_count": null,
   "metadata": {},
   "outputs": [],
   "source": [
    "h2020_fellows_df.head(1)"
   ]
  },
  {
   "cell_type": "markdown",
   "metadata": {},
   "source": [
    "### FP7"
   ]
  },
  {
   "cell_type": "code",
   "execution_count": null,
   "metadata": {},
   "outputs": [],
   "source": [
    "fp7_projects_df = pd.read_csv(\n",
    "    os.path.join(cordis_fp7_path, 'cordis-fp7projects.csv'),\n",
    "    sep=';',\n",
    "    encoding='iso-8859-1',\n",
    "    parse_dates=['startDate', 'endDate'],\n",
    "    infer_datetime_format=True,\n",
    "    decimal=','\n",
    ")\n",
    "fp7_orgs_df = pd.read_csv(\n",
    "    os.path.join(cordis_fp7_path, 'cordis-fp7organizations.csv'),\n",
    "    sep=';',\n",
    "    encoding='iso-8859-1',\n",
    "    decimal=',',\n",
    ")\n",
    "fp7_reports_df = pd.read_csv(\n",
    "    os.path.join(cordis_fp7_path, 'cordis-fp7reports.csv'),\n",
    ").drop('Unnamed: 16', axis=1)"
   ]
  },
  {
   "cell_type": "code",
   "execution_count": null,
   "metadata": {},
   "outputs": [],
   "source": [
    "fp7_projects_df.head(1)"
   ]
  },
  {
   "cell_type": "code",
   "execution_count": null,
   "metadata": {},
   "outputs": [],
   "source": [
    "fp7_orgs_df.head(1)"
   ]
  },
  {
   "cell_type": "code",
   "execution_count": null,
   "metadata": {},
   "outputs": [],
   "source": [
    "fp7_projects_df[fp7_projects_df['id'] == 240271]"
   ]
  },
  {
   "cell_type": "markdown",
   "metadata": {},
   "source": [
    "### Combining Programme Datasets"
   ]
  },
  {
   "cell_type": "code",
   "execution_count": null,
   "metadata": {},
   "outputs": [],
   "source": [
    "cordis_projects_df = pd.concat([h2020_projects_df, fp7_projects_df])\n",
    "cordis_reports_df = pd.concat([h2020_reports_df, fp7_reports_df])\n",
    "cordis_orgs_df = pd.concat([h2020_orgs_df, fp7_orgs_df])"
   ]
  },
  {
   "cell_type": "code",
   "execution_count": null,
   "metadata": {},
   "outputs": [],
   "source": [
    "def all_particpants(coordinator, participants):\n",
    "    if pd.isnull(participants):\n",
    "        return coordinator\n",
    "    else:\n",
    "        if coordinator in participants:\n",
    "            return participants\n",
    "        else:\n",
    "            return participants + ';' + coordinator\n",
    "\n",
    "cordis_projects_df['allCountries'] = cordis_projects_df.apply(\n",
    "    lambda x: all_particpants(x['coordinatorCountry'], x['participantCountries']),\n",
    "    axis=1\n",
    ").fillna('NA')\n",
    "cordis_projects_df['countries_count'] = [len(s.split(';')) for s in cordis_projects_df['allCountries']]\n",
    "\n",
    "cordis_projects_df['allParticipants'] = cordis_projects_df.apply(\n",
    "    lambda x: all_particpants(x['coordinator'], x['participants']),\n",
    "    axis=1\n",
    ")\n",
    "cordis_projects_df['participant_count'] = [len(s.split(';')) for s in cordis_projects_df['allParticipants']]"
   ]
  },
  {
   "cell_type": "markdown",
   "metadata": {},
   "source": [
    "### Reference Data"
   ]
  },
  {
   "cell_type": "markdown",
   "metadata": {},
   "source": [
    "#### Activity Types"
   ]
  },
  {
   "cell_type": "code",
   "execution_count": null,
   "metadata": {},
   "outputs": [],
   "source": [
    "cordis_activity_ref_df = pd.read_csv(\n",
    "    os.path.join(cordis_ref_path, 'cordisref-organizationActivityType.csv'),\n",
    "    sep=';'\n",
    ")"
   ]
  },
  {
   "cell_type": "code",
   "execution_count": null,
   "metadata": {},
   "outputs": [],
   "source": [
    "cordis_activity_ref_df"
   ]
  },
  {
   "cell_type": "markdown",
   "metadata": {},
   "source": [
    "#### Countries"
   ]
  },
  {
   "cell_type": "code",
   "execution_count": null,
   "metadata": {},
   "outputs": [],
   "source": [
    "cordis_countries_ref_df = pd.read_csv(\n",
    "    os.path.join(cordis_ref_path, 'cordisref-countries.csv'),\n",
    "    sep=';'\n",
    ")"
   ]
  },
  {
   "cell_type": "code",
   "execution_count": null,
   "metadata": {},
   "outputs": [],
   "source": [
    "cordis_countries_ref_df.head(10)"
   ]
  },
  {
   "cell_type": "markdown",
   "metadata": {},
   "source": [
    "#### Topics"
   ]
  },
  {
   "cell_type": "code",
   "execution_count": null,
   "metadata": {},
   "outputs": [],
   "source": [
    "cordis_topics_ref_df = pd.read_csv(\n",
    "    os.path.join(cordis_ref_path, 'cordisref-H2020topics.csv'),\n",
    "    sep=';'\n",
    ")"
   ]
  },
  {
   "cell_type": "code",
   "execution_count": null,
   "metadata": {},
   "outputs": [],
   "source": [
    "cordis_topics_ref_df.head()"
   ]
  },
  {
   "cell_type": "markdown",
   "metadata": {},
   "source": [
    "#### H2020 Programmes"
   ]
  },
  {
   "cell_type": "code",
   "execution_count": null,
   "metadata": {},
   "outputs": [],
   "source": [
    "cordis_h2020_programmes_ref_df = pd.read_csv(\n",
    "    os.path.join(cordis_ref_path, 'cordisref-H2020programmes.csv'),\n",
    "#     sep=';'\n",
    ")"
   ]
  },
  {
   "cell_type": "code",
   "execution_count": null,
   "metadata": {},
   "outputs": [],
   "source": [
    "cordis_h2020_programmes_ref_df.head()"
   ]
  },
  {
   "cell_type": "markdown",
   "metadata": {},
   "source": [
    "#### Funding Schemes"
   ]
  },
  {
   "cell_type": "code",
   "execution_count": null,
   "metadata": {},
   "outputs": [],
   "source": [
    "cordis_funding_schemes_ref_df = pd.read_csv(\n",
    "    os.path.join(cordis_ref_path, 'cordisref-projectFundingSchemeCategory.csv'),\n",
    "    sep=';'\n",
    ")"
   ]
  },
  {
   "cell_type": "code",
   "execution_count": null,
   "metadata": {},
   "outputs": [],
   "source": [
    "cordis_funding_schemes_ref_df.head()"
   ]
  },
  {
   "cell_type": "markdown",
   "metadata": {},
   "source": [
    "#### SIC Codes"
   ]
  },
  {
   "cell_type": "code",
   "execution_count": null,
   "metadata": {},
   "outputs": [],
   "source": [
    "cordis_sic_codes_ref_df = pd.read_csv(\n",
    "    os.path.join(cordis_ref_path, 'cordisref-sicCode.csv'),\n",
    "    sep=';'\n",
    ")"
   ]
  },
  {
   "cell_type": "code",
   "execution_count": null,
   "metadata": {},
   "outputs": [],
   "source": [
    "cordis_sic_codes_ref_df[cordis_sic_codes_ref_df['language'] == 'en'].head()"
   ]
  },
  {
   "cell_type": "markdown",
   "metadata": {},
   "source": [
    "### OpenAIRE"
   ]
  },
  {
   "cell_type": "code",
   "execution_count": null,
   "metadata": {},
   "outputs": [],
   "source": [
    "a=3"
   ]
  },
  {
   "cell_type": "code",
   "execution_count": null,
   "metadata": {},
   "outputs": [],
   "source": [
    "list_cols = ['ec_project_codes', 'categories', 'children',\n",
    "             'field_names', 'institutes', 'reference', 'authors_parsed', \n",
    "            'container-title'\n",
    "            ]\n",
    "\n",
    "openaire_publications_df = pd.read_csv(\n",
    "    os.path.join(inter_data_path, 'openaire_publications_20192302.csv'),\n",
    "    converters={k: ast.literal_eval for k in list_cols},\n",
    "#     chunksize=5000\n",
    ")\n"
   ]
  },
  {
   "cell_type": "code",
   "execution_count": null,
   "metadata": {},
   "outputs": [],
   "source": [
    "openaire_publications_df.head()"
   ]
  },
  {
   "cell_type": "code",
   "execution_count": null,
   "metadata": {},
   "outputs": [],
   "source": [
    "openaire_publications_df['pub_id'] = openaire_publications_df.index"
   ]
  },
  {
   "cell_type": "code",
   "execution_count": null,
   "metadata": {},
   "outputs": [],
   "source": [
    "openaire_publications_df['n_projects'] = [len(s) for s in openaire_publications_df['ec_project_codes']]\n",
    "openaire_publications_df['project_contribution'] = 1 / openaire_publications_df['n_projects']"
   ]
  },
  {
   "cell_type": "code",
   "execution_count": null,
   "metadata": {},
   "outputs": [],
   "source": [
    "def parse_date_parts(date_dict):\n",
    "    if not pd.isnull(date_dict):\n",
    "        date_parts = date_dict.get('date-parts')\n",
    "        if date_parts is not None:\n",
    "            date_parts = date_parts[0]\n",
    "            if date_parts[0] is not None:\n",
    "                fill = 3 - len(date_parts)\n",
    "                for _ in range(fill):\n",
    "                    date_parts.append(1)\n",
    "                dt = datetime(*date_parts)\n",
    "                return dt\n",
    "    return None"
   ]
  },
  {
   "cell_type": "code",
   "execution_count": null,
   "metadata": {},
   "outputs": [],
   "source": [
    "openaire_publications_df['date'] = pd.to_datetime(openaire_publications_df['date'])\n",
    "openaire_publications_df['published-online'].fillna({}, inplace=True)\n",
    "openaire_publications_df['published-print'].fillna({}, inplace=True)\n",
    "openaire_publications_df['created'].fillna({}, inplace=True)\n",
    "\n",
    "openaire_publications_df['published-online'] = [ast.literal_eval(a) if type(a) == str else np.nan \n",
    "                        for a in openaire_publications_df['published-online']]\n",
    "openaire_publications_df['published_online_dt'] = openaire_publications_df['published-online'].apply(lambda x: parse_date_parts(x))\n",
    "openaire_publications_df['published-print'] = [ast.literal_eval(a) if type(a) == str else np.nan \n",
    "                       for a in openaire_publications_df['published-print']]\n",
    "openaire_publications_df['published_print_dt'] = openaire_publications_df['published-print'].apply(lambda x: parse_date_parts(x))\n",
    "openaire_publications_df['created'] = [ast.literal_eval(a) if type(a) == str else np.nan \n",
    "               for a in openaire_publications_df['created']]\n",
    "openaire_publications_df['created_dt'] = openaire_publications_df['created'].apply(lambda x: parse_date_parts(x))\n",
    "\n",
    "openaire_publications_df['date_all'] = openaire_publications_df['date'].fillna(\n",
    "    openaire_publications_df['published_online_dt']\n",
    ").fillna(openaire_publications_df['published_print_dt']).fillna(\n",
    "    openaire_publications_df['created_dt']\n",
    ")\n",
    "\n",
    "collected_date = datetime(2019, 2, 1)\n",
    "openaire_publications_df['age'] = collected_date - openaire_publications_df['date_all']\n",
    "openaire_publications_df['age_years'] = openaire_publications_df['age'].dt.days / 365.25\n",
    "\n",
    "openaire_publications_df['authors_list'] = openaire_publications_df['authors'].str.replace('; ;',';').str.split(';')\n",
    "openaire_publications_df['n_authors_oa'] = [len(a) if type(a) == list else np.nan for a in openaire_publications_df['authors_list']]\n",
    "openaire_publications_df['n_authors_mag'] = [len(a) if len(a) > 0 else np.nan for a in openaire_publications_df['authors_parsed']]\n",
    "openaire_publications_df['n_authors'] = openaire_publications_df['n_authors_oa'].fillna(openaire_publications_df['n_authors_mag'])\n",
    "openaire_publications_df.drop(['n_authors_oa', 'n_authors_mag'], axis=1, inplace=True)"
   ]
  },
  {
   "cell_type": "code",
   "execution_count": null,
   "metadata": {},
   "outputs": [],
   "source": [
    "expanded_records = []\n",
    "for record in openaire_publications_df.to_dict(orient='records'):\n",
    "    ec_project_codes = record.pop('ec_project_codes')\n",
    "    for ec_code in ec_project_codes:\n",
    "        new_record = record.copy()\n",
    "        new_record['ec_project_code'] = int(ec_code)\n",
    "        expanded_records.append(new_record)"
   ]
  },
  {
   "cell_type": "code",
   "execution_count": null,
   "metadata": {},
   "outputs": [],
   "source": [
    "oa_pubs_df = pd.DataFrame().from_records(expanded_records)"
   ]
  },
  {
   "cell_type": "markdown",
   "metadata": {},
   "source": [
    "### OpenAIRE Children"
   ]
  },
  {
   "cell_type": "code",
   "execution_count": null,
   "metadata": {},
   "outputs": [],
   "source": [
    "child_records = []\n",
    "for i, record in zip(oa_pubs_df.index, oa_pubs_df.to_dict(orient='records')):\n",
    "    children = record['children']\n",
    "    for child in children:\n",
    "        child['ec_project_code'] = record['ec_project_code']\n",
    "        child['index'] = record['index']\n",
    "        child['oai'] = i\n",
    "        child_records.append(child)\n",
    "        \n",
    "oa_child_df = pd.DataFrame().from_records(child_records)"
   ]
  },
  {
   "cell_type": "code",
   "execution_count": null,
   "metadata": {},
   "outputs": [],
   "source": [
    "oa_child_df.drop_duplicates(['name', 'ec_project_code', 'collectedfrom', 'dateofacceptance'], inplace=True)"
   ]
  },
  {
   "cell_type": "code",
   "execution_count": null,
   "metadata": {},
   "outputs": [],
   "source": [
    "oa_child_df.head()"
   ]
  },
  {
   "cell_type": "markdown",
   "metadata": {},
   "source": [
    "### Joining OpenAIRE + CrossRef"
   ]
  },
  {
   "cell_type": "markdown",
   "metadata": {},
   "source": [
    "#### Paper Ages"
   ]
  },
  {
   "cell_type": "code",
   "execution_count": null,
   "metadata": {},
   "outputs": [],
   "source": [
    "openaire_publications_df['age_years_round'] = np.round(openaire_publications_df['age_years'])\n",
    "openaire_publications_df = openaire_publications_df[openaire_publications_df['age_years_round'] < 12]"
   ]
  },
  {
   "cell_type": "code",
   "execution_count": null,
   "metadata": {},
   "outputs": [],
   "source": [
    "openaire_publications_df['age_years'][openaire_publications_df['age_years'] < 0] = 0\n",
    "openaire_publications_df['age_years'][openaire_publications_df['age_years'] == 0] = 0.1"
   ]
  },
  {
   "cell_type": "code",
   "execution_count": null,
   "metadata": {},
   "outputs": [],
   "source": [
    "plt.plot(openaire_publications_df.groupby('age_years_round')['citations'].mean())"
   ]
  },
  {
   "cell_type": "markdown",
   "metadata": {},
   "source": [
    "#### N Authors"
   ]
  },
  {
   "cell_type": "code",
   "execution_count": null,
   "metadata": {},
   "outputs": [],
   "source": [
    "fig, ax = plt.subplots()\n",
    "ax.plot(openaire_publications_df.groupby('n_authors')['citations'].median())\n",
    "ax.set_ylim((0, 200))\n",
    "ax.set_xlim((1, 100))"
   ]
  },
  {
   "cell_type": "code",
   "execution_count": null,
   "metadata": {},
   "outputs": [],
   "source": [
    "c = Counter(chain(*openaire_publications_df['authors_list'][~pd.isnull(openaire_publications_df['authors_list'])]))"
   ]
  },
  {
   "cell_type": "code",
   "execution_count": null,
   "metadata": {},
   "outputs": [],
   "source": [
    "normed_citation_count = (((openaire_publications_df['citations'] + 1) *\n",
    "                          openaire_publications_df['project_contribution']) / \n",
    "                          (openaire_publications_df['n_authors'] * openaire_publications_df['age_years']))"
   ]
  },
  {
   "cell_type": "code",
   "execution_count": null,
   "metadata": {},
   "outputs": [],
   "source": [
    "normed_citation_count = normed_citation_count[normed_citation_count > 0]\n",
    "normed_citation_count = np.log10(normed_citation_count)"
   ]
  },
  {
   "cell_type": "code",
   "execution_count": null,
   "metadata": {},
   "outputs": [],
   "source": [
    "plt.hist(np.log10(normed_citation_count), bins=100)\n",
    "plt.show()"
   ]
  },
  {
   "cell_type": "code",
   "execution_count": null,
   "metadata": {},
   "outputs": [],
   "source": [
    "oa_pubs_df['n_authors'] = [len(set(a)) for a in oa_pubs_df['authors_parsed']]"
   ]
  },
  {
   "cell_type": "code",
   "execution_count": null,
   "metadata": {},
   "outputs": [],
   "source": [
    "oa_pubs_df['n_institutes'] = [len(a) for a in oa_pubs_df['institutes']]"
   ]
  },
  {
   "cell_type": "code",
   "execution_count": null,
   "metadata": {},
   "outputs": [],
   "source": [
    "fig, ax = plt.subplots()\n",
    "ax.scatter(oa_pubs_df['n_authors_oa'], oa_pubs_df['is-referenced-by-count'])"
   ]
  },
  {
   "cell_type": "markdown",
   "metadata": {},
   "source": [
    "## EDA"
   ]
  },
  {
   "cell_type": "markdown",
   "metadata": {},
   "source": [
    "### Citations"
   ]
  },
  {
   "cell_type": "code",
   "execution_count": null,
   "metadata": {},
   "outputs": [],
   "source": [
    "np.logspace??"
   ]
  },
  {
   "cell_type": "code",
   "execution_count": null,
   "metadata": {},
   "outputs": [],
   "source": [
    "fig, ax = plt.subplots()\n",
    "ax.hist(oa_pubs_df['citations'])\n",
    "ax.set_xscale('log')\n",
    "plt.show()"
   ]
  },
  {
   "cell_type": "code",
   "execution_count": null,
   "metadata": {},
   "outputs": [],
   "source": []
  },
  {
   "cell_type": "code",
   "execution_count": null,
   "metadata": {},
   "outputs": [],
   "source": [
    "project_publications = oa_cr_pubs_df[[\n",
    "    'ec_project_code', 'normalised_citation_count', 'project_pub_contribution']\n",
    "].groupby(\n",
    "    'ec_project_code'\n",
    ").sum()"
   ]
  },
  {
   "cell_type": "code",
   "execution_count": null,
   "metadata": {},
   "outputs": [],
   "source": [
    "cordis_projects_df = cordis_projects_df.merge(\n",
    "    project_publications.reset_index(),\n",
    "    left_on='id',\n",
    "    right_on='ec_project_code',\n",
    "    how='left'\n",
    ")"
   ]
  },
  {
   "cell_type": "code",
   "execution_count": null,
   "metadata": {},
   "outputs": [],
   "source": [
    "fig, ax = plt.subplots(ncols=2, figsize=(12, 4))\n",
    "ax[0].hist(cordis_projects_df['normalised_citation_count'], bins=100)\n",
    "ax[1].hexbin(\n",
    "    np.log10(cordis_projects_df['ecMaxContribution']),\n",
    "    np.log10(cordis_projects_df['normalised_citation_count']),\n",
    "    bins='log',\n",
    "    mincnt=1\n",
    ")\n",
    "plt.show()"
   ]
  },
  {
   "cell_type": "code",
   "execution_count": null,
   "metadata": {},
   "outputs": [],
   "source": [
    "n_publications = oa_pubs_df.groupby('ec_project_code')['index'].count()"
   ]
  },
  {
   "cell_type": "code",
   "execution_count": null,
   "metadata": {},
   "outputs": [],
   "source": [
    "fig, ax = plt.subplots(ncols=2, figsize=(12, 4))\n",
    "\n",
    "n_publications = oa_pubs_df.groupby('ec_project_code')['index'].count()\n",
    "bins = [-1, 5, 20, 50, 200, 500]\n",
    "n_publications = pd.cut(\n",
    "    n_publications, \n",
    "    bins=bins,\n",
    "    include_lowest=True\n",
    ")\n",
    "n_publications.value_counts(sort=False).plot.bar(rot=0, color=\"C0\", ax=ax[0])\n",
    "ax[0].set_xticklabels(['{} - {}'.format(l+1, r) for l, r in zip(bins[:-1], bins[1:])])\n",
    "\n",
    "bins = [-1, 10, 100, 1000, 10000]\n",
    "citations = pd.cut(\n",
    "    oa_pubs_df['is-referenced-by-count'], \n",
    "    bins=bins,\n",
    "    include_lowest=True\n",
    ")\n",
    "citations.value_counts(sort=False).plot.bar(rot=0, color=\"C0\", ax=ax[1])\n",
    "ax[1].set_xticklabels(['{} - {}'.format(l+1, r) for l, r in zip(bins[:-1], bins[1:])])\n",
    "\n",
    "ax[0].set_xlabel('N Publications per Project')\n",
    "ax[0].set_ylabel('Frequency')\n",
    "ax[1].set_xlabel('N Citations per Publication')\n",
    "ax[1].set_ylabel('Frequency')\n",
    "\n",
    "plt.tight_layout()\n",
    "plt.show()"
   ]
  },
  {
   "cell_type": "markdown",
   "metadata": {},
   "source": [
    "### N Publications"
   ]
  },
  {
   "cell_type": "code",
   "execution_count": null,
   "metadata": {},
   "outputs": [],
   "source": [
    "end = 30\n",
    "fig, ax = plt.subplots()\n",
    "cordis_proj_participant_count_group = cordis_projects_df.groupby('participant_count')\n",
    "n_particpant_pub_med = cordis_proj_participant_count_group['project_pub_contribution'].median()[:end]\n",
    "n_particpant_pub_lq = cordis_proj_participant_count_group['project_pub_contribution'].quantile(0.25)[:end]\n",
    "n_particpant_pub_uq = cordis_proj_participant_count_group['project_pub_contribution'].quantile(0.75)[:end]\n",
    "ax.plot(n_particpant_pub_med, linewidth=3, color='C7')\n",
    "ax.plot(n_particpant_pub_lq, color='C3')\n",
    "ax.plot(n_particpant_pub_uq, color='C2')"
   ]
  },
  {
   "cell_type": "code",
   "execution_count": null,
   "metadata": {},
   "outputs": [],
   "source": [
    "n_publications = oa_cr_pubs_df.groupby('ec_project_code')['doi'].count()\n",
    "n_publication_children = oa_child_df.groupby('ec_project_code')['access'].count()\n",
    "n_citations = oa_cr_pubs_df.groupby('ec_project_code')['is-referenced-by-count'].sum()"
   ]
  },
  {
   "cell_type": "markdown",
   "metadata": {},
   "source": [
    "### Access Type"
   ]
  },
  {
   "cell_type": "code",
   "execution_count": null,
   "metadata": {},
   "outputs": [],
   "source": [
    "oa_child_df_access_types = pd.get_dummies(oa_child_df['access'])"
   ]
  },
  {
   "cell_type": "code",
   "execution_count": null,
   "metadata": {},
   "outputs": [],
   "source": [
    "oa_child_df = oa_child_df.join(pd.get_dummies(oa_child_df['access']))"
   ]
  },
  {
   "cell_type": "code",
   "execution_count": null,
   "metadata": {},
   "outputs": [],
   "source": [
    "proj_access_counts = oa_child_df.groupby(\n",
    "    'ec_project_code'\n",
    ")['Closed Access', 'Embargo', 'Open Access', 'Restricted', 'UNKNOWN'].sum()"
   ]
  },
  {
   "cell_type": "code",
   "execution_count": null,
   "metadata": {},
   "outputs": [],
   "source": [
    "pubs_sum = proj_access_counts.sum(axis=1)"
   ]
  },
  {
   "cell_type": "code",
   "execution_count": null,
   "metadata": {},
   "outputs": [],
   "source": [
    "# calculate the normalised distribution of access types for each project\n",
    "access_types = ['Closed Access', 'Embargo', 'Open Access', 'UNKNOWN', 'Restricted']\n",
    "\n",
    "for a_t in access_types:\n",
    "    proj_access_counts[a_t] = proj_access_counts[a_t] / pubs_sum"
   ]
  },
  {
   "cell_type": "code",
   "execution_count": null,
   "metadata": {},
   "outputs": [],
   "source": [
    "cordis_orgs_df['activityType'].fillna('OTH', inplace=True)"
   ]
  },
  {
   "cell_type": "code",
   "execution_count": null,
   "metadata": {},
   "outputs": [],
   "source": [
    "cordis_activity_types_ohe = pd.get_dummies(cordis_orgs_df['activityType'])"
   ]
  },
  {
   "cell_type": "code",
   "execution_count": null,
   "metadata": {},
   "outputs": [],
   "source": [
    "cordis_activity_types_ohe['projectID'] = cordis_orgs_df['projectID']"
   ]
  },
  {
   "cell_type": "code",
   "execution_count": null,
   "metadata": {},
   "outputs": [],
   "source": [
    "cordis_proj_activity_dist = cordis_activity_types_ohe.groupby('projectID').sum()\n",
    "cordis_proj_total_orgs = cordis_proj_activity_dist.sum(axis=1)\n",
    "for a_t in cordis_activity_ref_df['Code']:\n",
    "    cordis_proj_activity_dist[a_t] = cordis_proj_activity_dist[a_t] / cordis_proj_total_orgs"
   ]
  },
  {
   "cell_type": "code",
   "execution_count": null,
   "metadata": {},
   "outputs": [],
   "source": [
    "access_org_type_df = cordis_proj_activity_dist.merge(\n",
    "    proj_access_counts, \n",
    "    left_index=True, \n",
    "    right_index=True,\n",
    "    how='inner'\n",
    ")"
   ]
  },
  {
   "cell_type": "code",
   "execution_count": null,
   "metadata": {},
   "outputs": [],
   "source": [
    "fig, ax = plt.subplots(nrows=len(cordis_activity_ref_df['Code']), ncols=len(access_types), figsize=(16, 12))\n",
    "\n",
    "for i, activity in enumerate(cordis_activity_ref_df['Code']):\n",
    "    for j, access in enumerate(access_types):\n",
    "        ax[i][j].hexbin(\n",
    "            access_org_type_df[access],\n",
    "            access_org_type_df[activity],\n",
    "#             alpha=0.1,\n",
    "            bins='log',\n",
    "            mincnt=1\n",
    "        )\n",
    "        ax[i][j].set_xlabel(activity)\n",
    "        ax[i][j].set_ylabel(access)\n",
    "plt.tight_layout()\n",
    "plt.show()"
   ]
  },
  {
   "cell_type": "code",
   "execution_count": null,
   "metadata": {},
   "outputs": [],
   "source": [
    "cordis_activity_ref_df"
   ]
  },
  {
   "cell_type": "code",
   "execution_count": null,
   "metadata": {},
   "outputs": [],
   "source": [
    "fig, ax = plt.subplots()\n",
    "\n",
    "oa_child_df['access'].value_counts().plot(kind='barh', color='C0', ax=ax)\n",
    "ax.invert_yaxis()\n",
    "ax.set_xlabel('Frequency')\n",
    "ax.set_ylabel('Access Type')\n",
    "plt.tight_layout()\n",
    "plt.show()"
   ]
  },
  {
   "cell_type": "code",
   "execution_count": null,
   "metadata": {},
   "outputs": [],
   "source": [
    "for activity in cordis_activity_ref_df['Code']:\n",
    "    access_org_type_df['has_{}'.format(activity)] =  access_org_type_df[activity] > 0"
   ]
  },
  {
   "cell_type": "code",
   "execution_count": null,
   "metadata": {},
   "outputs": [],
   "source": [
    "for access in access_types:\n",
    "    access_org_type_df['has_{}'.format(access)] =  access_org_type_df[access] > 0"
   ]
  },
  {
   "cell_type": "code",
   "execution_count": null,
   "metadata": {},
   "outputs": [],
   "source": [
    "fig, ax = plt.subplots(nrows=4, figsize=(6, 8))\n",
    "\n",
    "access_types_known = [a for a in access_types if a != 'UNKNOWN']\n",
    "\n",
    "for i, access in enumerate(access_types_known):\n",
    "    pdf_cdf(\n",
    "        ax[i],\n",
    "        access_org_type_df[access],\n",
    "        bins=20\n",
    "    )\n",
    "    ax[i].set_xlabel(f'% of {access} Outputs')\n",
    "plt.tight_layout()\n",
    "plt.show()"
   ]
  },
  {
   "cell_type": "code",
   "execution_count": null,
   "metadata": {},
   "outputs": [],
   "source": [
    "fig, ax = plt.subplots(ncols=3, figsize=(16,4))\n",
    "ax[0].hist(\n",
    "    access_org_type_df['has_Open Access'][\n",
    "        (access_org_type_df['has_PRC'] == True)],\n",
    ")\n",
    "ax[1].hist(\n",
    "    access_org_type_df['has_Open Access'][\n",
    "        (access_org_type_df['has_PRC'] == False) \n",
    "#         & (access_org_type_df['has_PUB'] == True)\n",
    "    ],\n",
    ")\n",
    "ax[2].hist(\n",
    "    access_org_type_df['has_Open Access'][\n",
    "        (access_org_type_df['has_PRC'] == False) &\n",
    "        (access_org_type_df['has_PUB'] == True)],\n",
    "#     density='cumulative'\n",
    ")\n",
    "plt.show()"
   ]
  },
  {
   "cell_type": "code",
   "execution_count": null,
   "metadata": {},
   "outputs": [],
   "source": [
    "access_org_type_df[\n",
    "    (access_org_type_df['has_PRC'] == True) & \n",
    "    (access_org_type_df['has_HES'] == False)]['has_Closed Access'].mean()"
   ]
  },
  {
   "cell_type": "code",
   "execution_count": null,
   "metadata": {},
   "outputs": [],
   "source": [
    "access_org_type_df.groupby('has_PRC')[['{}'.format(a) for a in access_types]].mean()"
   ]
  },
  {
   "cell_type": "markdown",
   "metadata": {},
   "source": [
    "### Publication Type"
   ]
  },
  {
   "cell_type": "code",
   "execution_count": null,
   "metadata": {},
   "outputs": [],
   "source": [
    "oa_child_df['type'].fillna('Article', inplace=True)"
   ]
  },
  {
   "cell_type": "code",
   "execution_count": null,
   "metadata": {},
   "outputs": [],
   "source": [
    "cordis_project_codes = sorted(cordis_projects_df['id'])"
   ]
  },
  {
   "cell_type": "code",
   "execution_count": null,
   "metadata": {},
   "outputs": [],
   "source": [
    "oa_child_df['in_cordis'] = oa_child_df['ec_project_code'].apply(lambda x: x in cordis_project_codes)"
   ]
  },
  {
   "cell_type": "code",
   "execution_count": null,
   "metadata": {},
   "outputs": [],
   "source": [
    "fig, ax = plt.subplots()\n",
    "\n",
    "oa_child_df['type'].value_counts().plot(kind='barh', color='C0', ax=ax)\n",
    "ax.invert_yaxis()\n",
    "ax.set_xscale('log')\n",
    "ax.set_xlabel('Frequency')\n",
    "ax.set_ylabel('Publication Type')"
   ]
  },
  {
   "cell_type": "code",
   "execution_count": null,
   "metadata": {},
   "outputs": [],
   "source": [
    "type_access_pivot = oa_child_df.pivot_table(values='ec_project_code', index='type', columns='access', aggfunc='count')\n",
    "type_access_pivot = type_access_pivot.sort_values('Open Access', ascending=False)\n",
    "type_access_pivot_norm = type_access_pivot.divide(type_access_pivot.sum(axis=1), axis=0) * 100\n",
    "# type_access_pivot.fillna(0, inplace=True)"
   ]
  },
  {
   "cell_type": "code",
   "execution_count": null,
   "metadata": {},
   "outputs": [],
   "source": [
    "fig, ax = plt.subplots(figsize=(5, 5))\n",
    "sns.heatmap(\n",
    "    type_access_pivot_norm[['Open Access', 'Closed Access', 'Restricted', 'Embargo', 'UNKNOWN']],\n",
    "    cmap='viridis',\n",
    "    ax=ax,\n",
    "    annot=True,\n",
    "    fmt='.1f',\n",
    "    cbar_kws={'label': '% with Access Type'}\n",
    ")\n",
    "ax.set_xlabel('Access Type')\n",
    "ax.set_ylabel('Publication Type')\n",
    "ax.set_xticklabels(ax.get_xticklabels(), rotation=30, ha='right')\n",
    "plt.show()"
   ]
  },
  {
   "cell_type": "markdown",
   "metadata": {},
   "source": [
    "### Author Counts"
   ]
  },
  {
   "cell_type": "code",
   "execution_count": null,
   "metadata": {},
   "outputs": [],
   "source": [
    "from eu_funding.utils.misc_utils import Groupby"
   ]
  },
  {
   "cell_type": "code",
   "execution_count": null,
   "metadata": {},
   "outputs": [],
   "source": [
    "def count_authors(authors_list):\n",
    "    author_set = []\n",
    "    for authors in authors_list:\n",
    "        if not pd.isnull(authors):\n",
    "            pub_authors = authors.split(';')\n",
    "            author_set.extend(pub_authors)\n",
    "    author_set = set(author_set)\n",
    "    return len(author_set)"
   ]
  },
  {
   "cell_type": "code",
   "execution_count": null,
   "metadata": {},
   "outputs": [],
   "source": [
    "groupby = Groupby(oa_cr_pubs_df['ec_project_code'])\n",
    "author_counts = groupby.apply(function_=count_authors, array=oa_cr_pubs_df['authors'], broadcast=True)\n",
    "oa_cr_pubs_df['author_counts'] = author_counts\n",
    "project_author_counts = oa_cr_pubs_df.groupby('ec_project_code')['author_counts'].max()"
   ]
  },
  {
   "cell_type": "markdown",
   "metadata": {},
   "source": [
    "### Similarity"
   ]
  },
  {
   "cell_type": "code",
   "execution_count": null,
   "metadata": {},
   "outputs": [],
   "source": [
    "cordis_projects_df = pd.read_csv(os.path.join(inter_data_path, 'fp7_h2020_projects.csv'))"
   ]
  },
  {
   "cell_type": "code",
   "execution_count": null,
   "metadata": {},
   "outputs": [],
   "source": [
    "cordis_projects_df.sort_values('similarty', ascending=False).iloc[0]['objective']"
   ]
  },
  {
   "cell_type": "code",
   "execution_count": null,
   "metadata": {},
   "outputs": [],
   "source": [
    "cordis_reports_df[cordis_reports_df['projectID'] == 663613].iloc[0]['summary']"
   ]
  },
  {
   "cell_type": "code",
   "execution_count": null,
   "metadata": {},
   "outputs": [],
   "source": [
    "plt.hist(cordis_projects_df[cordis_projects_df['HES'] == 1]['similarty'], bins=100)\n",
    "plt.show()"
   ]
  },
  {
   "cell_type": "code",
   "execution_count": null,
   "metadata": {},
   "outputs": [],
   "source": [
    "plt.hist(cordis_projects_df[cordis_projects_df['PRC'] == 1]['similarty'], bins=100)\n",
    "plt.show()"
   ]
  },
  {
   "cell_type": "code",
   "execution_count": null,
   "metadata": {},
   "outputs": [],
   "source": [
    "plt.plot(sorted(cordis_projects_df['participant_count'].unique()), \n",
    "         cordis_projects_df.groupby('participant_count')['similarty'].mean())"
   ]
  },
  {
   "cell_type": "code",
   "execution_count": null,
   "metadata": {},
   "outputs": [],
   "source": [
    "openaire_publications_df['doi'].value_counts()"
   ]
  },
  {
   "cell_type": "markdown",
   "metadata": {},
   "source": [
    "#### Pub Type by Discipline"
   ]
  },
  {
   "cell_type": "code",
   "execution_count": null,
   "metadata": {},
   "outputs": [],
   "source": [
    "pub_types = oa_child_df['type'].unique()"
   ]
  },
  {
   "cell_type": "code",
   "execution_count": null,
   "metadata": {},
   "outputs": [],
   "source": [
    "oa_child_df_pub_types = pd.get_dummies(oa_child_df['type'])\n",
    "oa_child_df_pub_types['ec_project_code'] = oa_child_df['ec_project_code']"
   ]
  },
  {
   "cell_type": "code",
   "execution_count": null,
   "metadata": {},
   "outputs": [],
   "source": [
    "proj_pub_type_counts = oa_child_df_pub_types.groupby(\n",
    "    'ec_project_code'\n",
    ")[pub_types].sum()"
   ]
  },
  {
   "cell_type": "code",
   "execution_count": null,
   "metadata": {},
   "outputs": [],
   "source": [
    "pubs_sum = proj_access_counts.sum(axis=1)"
   ]
  },
  {
   "cell_type": "code",
   "execution_count": null,
   "metadata": {},
   "outputs": [],
   "source": [
    "for p_t in pub_types:\n",
    "    proj_pub_type_counts[f'{p_t}_normed'] = proj_pub_type_counts[p_t] / pubs_sum\n",
    "    proj_pub_type_counts[f'{p_t}_normed'][np.isinf(proj_pub_type_counts[f'{p_t}_normed'])] = 0"
   ]
  },
  {
   "cell_type": "code",
   "execution_count": null,
   "metadata": {},
   "outputs": [],
   "source": [
    "proj_pub_type_counts.reset_index(inplace=True)"
   ]
  },
  {
   "cell_type": "code",
   "execution_count": null,
   "metadata": {},
   "outputs": [],
   "source": [
    "with open(os.path.join(model_path, 'gtr_text_models.p'), 'rb') as f:\n",
    "    gtr_discipline_model = pickle.load(f)"
   ]
  },
  {
   "cell_type": "code",
   "execution_count": null,
   "metadata": {},
   "outputs": [],
   "source": [
    "abstract_vecs = gtr_discipline_model[0].transform(cordis_projects_df['objective'])"
   ]
  },
  {
   "cell_type": "code",
   "execution_count": null,
   "metadata": {},
   "outputs": [],
   "source": [
    "discipline_labels = gtr_discipline_model[1].predict(abstract_vecs)"
   ]
  },
  {
   "cell_type": "code",
   "execution_count": null,
   "metadata": {},
   "outputs": [],
   "source": [
    "category_name_lookup = {6:'biological_sciences',\n",
    "                        3:'physics',\n",
    "                        0:'engineering_technology',\n",
    "                        1:'environmental_sciences',\n",
    "                        2:'social_sciences',\n",
    "                        4:'arts_humanities',\n",
    "                        5:'mathematics_computing',\n",
    "                        7: 'medical_sciences'}"
   ]
  },
  {
   "cell_type": "code",
   "execution_count": null,
   "metadata": {},
   "outputs": [],
   "source": [
    "cordis_projects_disciplines_df = pd.DataFrame(discipline_labels).rename(columns=category_name_lookup)"
   ]
  },
  {
   "cell_type": "code",
   "execution_count": null,
   "metadata": {},
   "outputs": [],
   "source": [
    "cordis_projects_df.reset_index(inplace=True)\n",
    "cordis_projects_df.drop('index', inplace=True, axis=1)"
   ]
  },
  {
   "cell_type": "code",
   "execution_count": null,
   "metadata": {},
   "outputs": [],
   "source": [
    "cordis_project_publications_df = cordis_projects_df.join(\n",
    "    cordis_projects_disciplines_df).merge(\n",
    "    proj_pub_type_counts, \n",
    "    left_on='id', \n",
    "    right_on='ec_project_code',\n",
    "    how='inner'\n",
    ")"
   ]
  },
  {
   "cell_type": "code",
   "execution_count": null,
   "metadata": {},
   "outputs": [],
   "source": [
    "cordis_project_publications_df"
   ]
  },
  {
   "cell_type": "markdown",
   "metadata": {},
   "source": [
    "Groupby discipline. Calculate sum of each output type. Put in table."
   ]
  },
  {
   "cell_type": "code",
   "execution_count": null,
   "metadata": {},
   "outputs": [],
   "source": [
    "discipline_pub_type_counts = []\n",
    "\n",
    "for _, discipline in category_name_lookup.items():\n",
    "    x = cordis_project_publications_df.groupby(discipline)[pub_types].sum().to_dict(orient='records')[1]\n",
    "    x['discipline'] = discipline\n",
    "    discipline_pub_type_counts.append(x)"
   ]
  },
  {
   "cell_type": "code",
   "execution_count": null,
   "metadata": {},
   "outputs": [],
   "source": [
    "disci_pub_type_df = pd.DataFrame().from_records(discipline_pub_type_counts).set_index('discipline')"
   ]
  },
  {
   "cell_type": "code",
   "execution_count": null,
   "metadata": {},
   "outputs": [],
   "source": [
    "fig, ax = plt.subplots()\n",
    "disci_pub_type_df.plot(kind='barh', stacked=True, ax=ax, colormap='tab20')\n",
    "ax.legend(loc='right', bbox_to_anchor=(2.5, .5), ncol=2, \n",
    "            borderaxespad=0, frameon=False)\n",
    "ax.set_xlabel('Frequency')\n",
    "plt.show()"
   ]
  },
  {
   "cell_type": "code",
   "execution_count": null,
   "metadata": {},
   "outputs": [],
   "source": [
    "cordis_project_publications_df.head()"
   ]
  },
  {
   "cell_type": "markdown",
   "metadata": {},
   "source": [
    "### Lexical Diversity"
   ]
  },
  {
   "cell_type": "markdown",
   "metadata": {},
   "source": [
    "### Collaborations"
   ]
  },
  {
   "cell_type": "code",
   "execution_count": null,
   "metadata": {},
   "outputs": [],
   "source": [
    "authors = oa_pubs_df['authors'].str.split(';')"
   ]
  },
  {
   "cell_type": "code",
   "execution_count": null,
   "metadata": {},
   "outputs": [],
   "source": [
    "c_authors = Counter(chain(*[a for a in authors if type(a) == list]))"
   ]
  },
  {
   "cell_type": "code",
   "execution_count": null,
   "metadata": {},
   "outputs": [],
   "source": [
    "authors_h = [tuple(a) for a in authors if type(a) == list]"
   ]
  },
  {
   "cell_type": "code",
   "execution_count": null,
   "metadata": {},
   "outputs": [],
   "source": [
    "c_authors = Counter(authors_h)"
   ]
  },
  {
   "cell_type": "code",
   "execution_count": null,
   "metadata": {},
   "outputs": [],
   "source": [
    "c_authors.most_common(1000)"
   ]
  },
  {
   "cell_type": "markdown",
   "metadata": {},
   "source": [
    "### Extra Stuff"
   ]
  },
  {
   "cell_type": "code",
   "execution_count": null,
   "metadata": {},
   "outputs": [],
   "source": [
    "project_counts = [len(s) for s in openaire_publications_df['ec_project_codes']]\n",
    "project_counts_c = Counter(project_counts)\n",
    "n_codes, n_codes_count = zip(*project_counts_c.items())"
   ]
  },
  {
   "cell_type": "code",
   "execution_count": null,
   "metadata": {},
   "outputs": [],
   "source": [
    "fig, ax = plt.subplots(figsize=(8,4))\n",
    "ax.bar(n_codes, n_codes_count)\n",
    "ax.set_xlabel('N EC Projects')\n",
    "ax.set_ylabel('Frequency')\n",
    "plt.show()"
   ]
  },
  {
   "cell_type": "markdown",
   "metadata": {},
   "source": [
    "Around 50% of projects have no EC project associated. However, over 120,000 of them have at least one. Over 10,000 are attributed to two projects, while a smaller handful are associated with 3 or more."
   ]
  },
  {
   "cell_type": "code",
   "execution_count": null,
   "metadata": {},
   "outputs": [],
   "source": [
    "def flatten(nested):\n",
    "    return list(chain(*nested))"
   ]
  },
  {
   "cell_type": "code",
   "execution_count": null,
   "metadata": {},
   "outputs": [],
   "source": [
    "publication_types = flatten(openaire_publications_df['child_types'])\n",
    "c_types = Counter(publication_types)\n",
    "pub_type, pub_type_count = zip(*c_types.items())\n",
    "\n",
    "fig, ax = plt.subplots(figsize=(8,4))\n",
    "ax.barh(pub_type, pub_type_count)\n",
    "ax.set_xlabel('Publication Type')\n",
    "ax.set_ylabel('Frequency')\n",
    "plt.show()"
   ]
  },
  {
   "cell_type": "code",
   "execution_count": null,
   "metadata": {},
   "outputs": [],
   "source": [
    "access_types = flatten(openaire_publications_df['child_access'])\n",
    "c_access = Counter(access_types)\n",
    "access_type, access_type_count = zip(*c_access.items())\n",
    "\n",
    "fig, ax = plt.subplots(figsize=(8,4))\n",
    "ax.barh(access_type, access_type_count)\n",
    "ax.set_xlabel('Child Access Type')\n",
    "ax.set_ylabel('Frequency')\n",
    "plt.show()"
   ]
  },
  {
   "cell_type": "code",
   "execution_count": null,
   "metadata": {},
   "outputs": [],
   "source": [
    "accessright_counts = openaire_publications_df['bestaccessright'].value_counts()\n",
    "fig, ax = plt.subplots(figsize=(8,4))\n",
    "ax.barh(accessright_counts.index, accessright_counts.values)\n",
    "ax.set_xlabel('Publication Access Type')\n",
    "ax.set_ylabel('Frequency')\n",
    "plt.show()"
   ]
  },
  {
   "cell_type": "code",
   "execution_count": null,
   "metadata": {},
   "outputs": [],
   "source": [
    "accessright_counts = openaire_publications_df['publication_type'].value_counts()\n",
    "fig, ax = plt.subplots(figsize=(8,4))\n",
    "ax.barh(accessright_counts.index, accessright_counts.values)\n",
    "ax.set_xlabel('Publication Access Type')\n",
    "ax.set_ylabel('Frequency')\n",
    "plt.show()"
   ]
  },
  {
   "cell_type": "code",
   "execution_count": null,
   "metadata": {},
   "outputs": [],
   "source": [
    "langauge_counts = openaire_publications_df['language'].value_counts()\n",
    "fig, ax = plt.subplots(figsize=(8,8))\n",
    "ax.barh(langauge_counts.index, langauge_counts.values)\n",
    "ax.set_xlabel('Language')\n",
    "ax.set_ylabel('Frequency')\n",
    "plt.show()"
   ]
  },
  {
   "cell_type": "code",
   "execution_count": null,
   "metadata": {},
   "outputs": [],
   "source": [
    "category_c = Counter(flatten(openaire_publications_df['categories']))"
   ]
  },
  {
   "cell_type": "code",
   "execution_count": null,
   "metadata": {},
   "outputs": [],
   "source": [
    "category_c.most_common(40)"
   ]
  },
  {
   "cell_type": "markdown",
   "metadata": {},
   "source": [
    "### CrossRef Works"
   ]
  },
  {
   "cell_type": "code",
   "execution_count": null,
   "metadata": {},
   "outputs": [],
   "source": [
    "crossref_works_records = []\n",
    "\n",
    "for file in os.listdir(crossref_works_path):\n",
    "    if '.txt' in file:\n",
    "        with open(os.path.join(crossref_works_path, file), 'r') as f:\n",
    "            crossref_works_records.extend(json.load(f))"
   ]
  },
  {
   "cell_type": "code",
   "execution_count": null,
   "metadata": {},
   "outputs": [],
   "source": [
    "crossref_works_records = [c for c in crossref_works_records if type(c) == dict]"
   ]
  },
  {
   "cell_type": "code",
   "execution_count": null,
   "metadata": {},
   "outputs": [],
   "source": [
    "crossref_works_df = pd.DataFrame().from_records(crossref_works_records)"
   ]
  },
  {
   "cell_type": "code",
   "execution_count": null,
   "metadata": {},
   "outputs": [],
   "source": [
    "def parse_date_parts(date_dict):\n",
    "    date_parts = date_dict.get('date-parts')\n",
    "    if date_parts is not None:\n",
    "        date_parts = date_parts[0]\n",
    "        if date_parts[0] is not None:\n",
    "            fill = 3 - len(date_parts)\n",
    "            for _ in range(fill):\n",
    "                date_parts.append(1)\n",
    "            dt = datetime(*date_parts)\n",
    "            return dt\n",
    "    return None"
   ]
  },
  {
   "cell_type": "code",
   "execution_count": null,
   "metadata": {},
   "outputs": [],
   "source": [
    "crossref_works_df['issued_dt'] = crossref_works_df['issued'].apply(lambda x: parse_date_parts(x))"
   ]
  },
  {
   "cell_type": "code",
   "execution_count": null,
   "metadata": {},
   "outputs": [],
   "source": [
    "collected_date = datetime(2019, 2, 1)"
   ]
  },
  {
   "cell_type": "code",
   "execution_count": null,
   "metadata": {},
   "outputs": [],
   "source": [
    "crossref_works_df['age'] = collected_date - crossref_works_df['issued_dt']"
   ]
  },
  {
   "cell_type": "code",
   "execution_count": null,
   "metadata": {},
   "outputs": [],
   "source": [
    "crossref_works_df['age_years'] = crossref_works_df['age'].dt.days / 365.25"
   ]
  },
  {
   "cell_type": "code",
   "execution_count": null,
   "metadata": {},
   "outputs": [],
   "source": [
    "crossref_works_df = crossref_works_df[crossref_works_df['age_years'] <= 20]"
   ]
  },
  {
   "cell_type": "code",
   "execution_count": null,
   "metadata": {},
   "outputs": [],
   "source": [
    "crossref_works_df['type'].value_counts()"
   ]
  },
  {
   "cell_type": "code",
   "execution_count": null,
   "metadata": {},
   "outputs": [],
   "source": [
    "plt.hist(crossref_works_df['age_years'], bins=100)\n",
    "plt.show()"
   ]
  },
  {
   "cell_type": "code",
   "execution_count": null,
   "metadata": {},
   "outputs": [],
   "source": [
    "ref_per_year = crossref_works_df['is-referenced-by-count'] / np.power(crossref_works_df['age_years'], 2)\n",
    "# ref_per_year_log = np.log10(ref_per_year)\n",
    "# ref_per_year_log = ref_per_year_log[~np.isinf(ref_per_year_log)]\n",
    "\n",
    "plt.hist(ref_per_year, bins=1000)\n",
    "# plt.xlim((0, 50))\n",
    "plt.show()"
   ]
  },
  {
   "cell_type": "code",
   "execution_count": null,
   "metadata": {},
   "outputs": [],
   "source": [
    "plt.hexbin(\n",
    "    crossref_works_df['age_years'],\n",
    "    np.log(crossref_works_df['is-referenced-by-count']),\n",
    "#     bins='log',\n",
    "    gridsize=40,\n",
    ")"
   ]
  },
  {
   "cell_type": "code",
   "execution_count": null,
   "metadata": {},
   "outputs": [],
   "source": [
    "crossref_works_df.head()"
   ]
  },
  {
   "cell_type": "code",
   "execution_count": null,
   "metadata": {},
   "outputs": [],
   "source": [
    "crossref_works_df['is-referenced-by-count'].describe()"
   ]
  },
  {
   "cell_type": "code",
   "execution_count": null,
   "metadata": {},
   "outputs": [],
   "source": [
    "plt.hist(crossref_works_df['is-referenced-by-count'], bins=100)\n",
    "plt.show"
   ]
  },
  {
   "cell_type": "markdown",
   "metadata": {},
   "source": [
    "### Lexical Diversity"
   ]
  },
  {
   "cell_type": "code",
   "execution_count": null,
   "metadata": {},
   "outputs": [],
   "source": [
    "from sklearn.feature_extraction.text import CountVectorizer"
   ]
  },
  {
   "cell_type": "code",
   "execution_count": null,
   "metadata": {},
   "outputs": [],
   "source": [
    "import ast"
   ]
  },
  {
   "cell_type": "code",
   "execution_count": null,
   "metadata": {},
   "outputs": [],
   "source": [
    "cv = CountVectorizer(dtype=np.int32)"
   ]
  },
  {
   "cell_type": "code",
   "execution_count": null,
   "metadata": {},
   "outputs": [],
   "source": [
    "from skbio.diversity.alpha import shannon"
   ]
  },
  {
   "cell_type": "code",
   "execution_count": null,
   "metadata": {},
   "outputs": [],
   "source": [
    "sum(pd.isnull(openaire_publications_df['language']))"
   ]
  },
  {
   "cell_type": "code",
   "execution_count": null,
   "metadata": {},
   "outputs": [],
   "source": [
    "entropies = []\n",
    "lengths = []\n",
    "n_papers = []\n",
    "\n",
    "for pid in cordis_projects_df['id']:\n",
    "    papers = openaire_publications_df[[True if str(pid) in s else False \n",
    "                                       for s in openaire_publications_df['ec_project_codes']]]\n",
    "    papers = papers[~pd.isnull(papers['abstract'])]\n",
    "    try:\n",
    "        main_lang = papers['language'].value_counts().index[0]\n",
    "        papers = papers[papers['language'] == main_lang]\n",
    "        paper_count = len(papers)\n",
    "    except:\n",
    "        paper_count = len(papers)\n",
    "    n_papers.append(paper_count)\n",
    "    if paper_count > 0:\n",
    "        mega_abstract = [' '.join([s for s in papers])]\n",
    "        article_bow = cv.fit_transform(mega_abstract)\n",
    "        for bow in article_bow:\n",
    "            x = np.squeeze(np.asarray(bow.todense()))\n",
    "            x = x[x != 0]\n",
    "            entropy = shannon(x)\n",
    "            lengths.append(bow.sum())\n",
    "            entropies.append(entropy)\n",
    "        \n",
    "    else:\n",
    "        entropies.append(0)\n",
    "        lengths.append(0)\n"
   ]
  },
  {
   "cell_type": "code",
   "execution_count": null,
   "metadata": {},
   "outputs": [],
   "source": [
    "papers"
   ]
  },
  {
   "cell_type": "code",
   "execution_count": null,
   "metadata": {},
   "outputs": [],
   "source": [
    "fig, ax = plt.subplots()\n",
    "ax.scatter(n_papers, entropies, alpha=0.05)\n",
    "# ax.set_xscale('log')"
   ]
  },
  {
   "cell_type": "code",
   "execution_count": null,
   "metadata": {},
   "outputs": [],
   "source": [
    "def func(x, a, b, c):\n",
    "    return a * np.exp(-b * x) + c"
   ]
  },
  {
   "cell_type": "code",
   "execution_count": null,
   "metadata": {},
   "outputs": [],
   "source": [
    "from scipy.optimize import curve_fit"
   ]
  },
  {
   "cell_type": "code",
   "execution_count": null,
   "metadata": {},
   "outputs": [],
   "source": [
    "import operator"
   ]
  },
  {
   "cell_type": "code",
   "execution_count": null,
   "metadata": {},
   "outputs": [],
   "source": [
    "n_papers, entropies = zip(*sorted(zip(n_papers, entropies),\n",
    "  key=operator.itemgetter(0), reverse=True))"
   ]
  },
  {
   "cell_type": "code",
   "execution_count": null,
   "metadata": {},
   "outputs": [],
   "source": [
    "mask = ~np.isinf(entropies)\n",
    "n_papers_mask = np.array(n_papers)[mask]\n",
    "entropies_mask = entropies[mask]"
   ]
  },
  {
   "cell_type": "code",
   "execution_count": null,
   "metadata": {},
   "outputs": [],
   "source": [
    "popt, pcov = curve_fit(func, n_papers_mask, entropies_mask)"
   ]
  },
  {
   "cell_type": "code",
   "execution_count": null,
   "metadata": {},
   "outputs": [],
   "source": [
    "popt"
   ]
  },
  {
   "cell_type": "code",
   "execution_count": null,
   "metadata": {},
   "outputs": [],
   "source": [
    "plt.scatter(n_papers_mask, entropies_mask)\n",
    "plt.plot(np.array(n_papers), func(np.array(n_papers), *popt), 'r-',\n",
    "         label='fit: a=%5.3f, b=%5.3f, c=%5.3f' % tuple(popt))\n"
   ]
  },
  {
   "cell_type": "code",
   "execution_count": null,
   "metadata": {},
   "outputs": [],
   "source": [
    "dist = func(np.array(n_papers), *popt)"
   ]
  },
  {
   "cell_type": "code",
   "execution_count": null,
   "metadata": {},
   "outputs": [],
   "source": [
    "plt.scatter(np.log(n_papers), np.log(1 / (entropies - dist)))"
   ]
  },
  {
   "cell_type": "code",
   "execution_count": null,
   "metadata": {},
   "outputs": [],
   "source": [
    "pid = 202008\n",
    "papers = papers = openaire_publications_df[[True if str(pid) in s else False \n",
    "                                       for s in openaire_publications_df['ec_project_codes']]]\n",
    "papers = papers[~pd.isnull(papers)]"
   ]
  },
  {
   "cell_type": "code",
   "execution_count": null,
   "metadata": {},
   "outputs": [],
   "source": [
    "papers"
   ]
  },
  {
   "cell_type": "code",
   "execution_count": null,
   "metadata": {},
   "outputs": [],
   "source": [
    "papers['language'].value_counts().index[0]"
   ]
  },
  {
   "cell_type": "code",
   "execution_count": null,
   "metadata": {},
   "outputs": [],
   "source": [
    "cordis_projects_df[cordis_projects_df['id'] == pid]"
   ]
  },
  {
   "cell_type": "code",
   "execution_count": null,
   "metadata": {},
   "outputs": [],
   "source": [
    "cordis_projects_df['oa_abstract_entropy_mean'] = entropies\n",
    "cordis_projects_df['oa_n_papers'] = n_papers\n",
    "cordis_projects_df['oa_abstract_lengths'] = lengths"
   ]
  },
  {
   "cell_type": "code",
   "execution_count": null,
   "metadata": {},
   "outputs": [],
   "source": [
    "from datetime import datetime"
   ]
  },
  {
   "cell_type": "code",
   "execution_count": null,
   "metadata": {},
   "outputs": [],
   "source": [
    "closed_projects = cordis_projects_df[cordis_projects_df['endDate'] < datetime.today()]"
   ]
  },
  {
   "cell_type": "code",
   "execution_count": null,
   "metadata": {},
   "outputs": [],
   "source": [
    "plt.hist(entropies, bins=50)\n",
    "plt.show()"
   ]
  },
  {
   "cell_type": "code",
   "execution_count": null,
   "metadata": {},
   "outputs": [],
   "source": [
    "from eu_funding.data.parse import concat_entities"
   ]
  },
  {
   "cell_type": "code",
   "execution_count": null,
   "metadata": {},
   "outputs": [],
   "source": [
    "cordis_projects_df"
   ]
  },
  {
   "cell_type": "code",
   "execution_count": null,
   "metadata": {},
   "outputs": [],
   "source": [
    "cordis_topics_ref_df.head()"
   ]
  },
  {
   "cell_type": "code",
   "execution_count": null,
   "metadata": {},
   "outputs": [],
   "source": [
    "cordis_projects_df.topics.value_counts()"
   ]
  },
  {
   "cell_type": "code",
   "execution_count": null,
   "metadata": {},
   "outputs": [],
   "source": []
  }
 ],
 "metadata": {
  "language_info": {
   "name": "python",
   "pygments_lexer": "ipython3"
  }
 },
 "nbformat": 4,
 "nbformat_minor": 2
}
