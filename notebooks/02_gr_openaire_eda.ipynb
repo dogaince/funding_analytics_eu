{
 "cells": [
  {
   "cell_type": "markdown",
   "metadata": {},
   "source": [
    "# OpenAIRE Data EDA"
   ]
  },
  {
   "cell_type": "markdown",
   "metadata": {},
   "source": [
    "## Preamble"
   ]
  },
  {
   "cell_type": "code",
   "execution_count": null,
   "metadata": {},
   "outputs": [],
   "source": [
    "%run notebook_preamble.ipy\n",
    "\n",
    "pd.set_option('max_columns', 99)"
   ]
  },
  {
   "cell_type": "code",
   "execution_count": null,
   "metadata": {},
   "outputs": [],
   "source": [
    "import seaborn as sns\n",
    "import xmltodict\n",
    "import pyjq\n",
    "import boto3\n",
    "import io\n",
    "\n",
    "from src.visualization.visualize import pdf_cdf\n",
    "from src.utils.misc_utils import print_nested_structure\n",
    "from src.data.s3_transfer import get_files_from_s3\n",
    "from src.data.openaire import parse_openaire_records"
   ]
  },
  {
   "cell_type": "markdown",
   "metadata": {},
   "source": [
    "## Data Structure"
   ]
  },
  {
   "cell_type": "markdown",
   "metadata": {},
   "source": [
    "### Projects"
   ]
  },
  {
   "cell_type": "code",
   "execution_count": null,
   "metadata": {},
   "outputs": [],
   "source": [
    "BUCKET = 'im-eurito'\n",
    "FOLDER = 'external/openaire/projectssoups'\n",
    "KEY_PREFIX = 'soup'"
   ]
  },
  {
   "cell_type": "code",
   "execution_count": null,
   "metadata": {},
   "outputs": [],
   "source": [
    "records = []\n",
    "for file in get_files_from_s3(bucket=BUCKET, folder=FOLDER, key_prefix=KEY_PREFIX):\n",
    "    records.extend(parse_openaire_records(file))"
   ]
  },
  {
   "cell_type": "code",
   "execution_count": null,
   "metadata": {},
   "outputs": [],
   "source": [
    "df = pd.DataFrame().from_records(records)"
   ]
  },
  {
   "cell_type": "code",
   "execution_count": null,
   "metadata": {},
   "outputs": [],
   "source": [
    "pd.options.display.max_columns = 999"
   ]
  },
  {
   "cell_type": "code",
   "execution_count": null,
   "metadata": {},
   "outputs": [],
   "source": [
    "df.to_csv(os.path.join(inter_data_path, 'openaire_projects.csv'), index=False)"
   ]
  },
  {
   "cell_type": "markdown",
   "metadata": {},
   "source": [
    "### Publications"
   ]
  },
  {
   "cell_type": "code",
   "execution_count": null,
   "metadata": {},
   "outputs": [],
   "source": [
    "BUCKET = 'im-eurito'\n",
    "FOLDER = 'external/openaire/publicationssoups'\n",
    "KEY_PREFIX = 'soup'"
   ]
  },
  {
   "cell_type": "code",
   "execution_count": null,
   "metadata": {},
   "outputs": [],
   "source": [
    "from src.data.openaire import parse_publications_soup"
   ]
  },
  {
   "cell_type": "code",
   "execution_count": null,
   "metadata": {},
   "outputs": [],
   "source": [
    "def load_publications():\n",
    "    records = []\n",
    "    for file in os.listdir(os.path.join(openaire_publication_data_path)):\n",
    "        file_number = file.split('.')[0].split('_')[-1]\n",
    "        if '.txt' in file:\n",
    "            with open(os.path.join(openaire_publication_data_path, file), mode='rb') as f:\n",
    "                data = f.read()\n",
    "                soup = BeautifulSoup(data)\n",
    "                rec = parse_publications_soup(soup)\n",
    "                records.append(rec)\n",
    "    return records"
   ]
  },
  {
   "cell_type": "code",
   "execution_count": null,
   "metadata": {},
   "outputs": [],
   "source": [
    "x = []\n",
    "for a in soup.findAll('oaf:result'):\n",
    "    resulttype = a.find('resulttype')\n",
    "    if resulttype.attrs.get('classname') == \"publication\":\n",
    "        x.append(a)"
   ]
  },
  {
   "cell_type": "code",
   "execution_count": null,
   "metadata": {},
   "outputs": [],
   "source": [
    "records = load_publications()"
   ]
  },
  {
   "cell_type": "code",
   "execution_count": null,
   "metadata": {},
   "outputs": [],
   "source": [
    "dfs = []\n",
    "\n",
    "for i, record in enumerate(records):\n",
    "    i += 1\n",
    "    df = pd.DataFrame().from_records(record)\n",
    "    df.to_csv(\n",
    "        os.path.join(openaire_publication_data_path, 'csv', 'publications_parsed_{:03}.csv'.format(i)),\n",
    "        index=False\n",
    "    )\n",
    "    dfs.append(df)"
   ]
  },
  {
   "cell_type": "code",
   "execution_count": null,
   "metadata": {},
   "outputs": [],
   "source": [
    "publications_df = pd.concat(dfs)"
   ]
  },
  {
   "cell_type": "code",
   "execution_count": null,
   "metadata": {},
   "outputs": [],
   "source": [
    "publications_df.to_csv(os.path.join(inter_data_path, 'openaire_publications.csv'), index=False)"
   ]
  },
  {
   "cell_type": "code",
   "execution_count": null,
   "metadata": {},
   "outputs": [],
   "source": [
    "ec_publications = publications_df[[True if len(s) > 0 else False for s in publications_df['ec_project_codes']]]"
   ]
  },
  {
   "cell_type": "code",
   "execution_count": null,
   "metadata": {},
   "outputs": [],
   "source": [
    "biggest_project = ec_publications[[True if '237920' in s else False for s in ec_publications['ec_project_codes']]]"
   ]
  },
  {
   "cell_type": "code",
   "execution_count": null,
   "metadata": {},
   "outputs": [],
   "source": [
    "biggest_project.head()"
   ]
  },
  {
   "cell_type": "code",
   "execution_count": null,
   "metadata": {},
   "outputs": [],
   "source": [
    "ec_publications.head()"
   ]
  },
  {
   "cell_type": "code",
   "execution_count": null,
   "metadata": {},
   "outputs": [],
   "source": [
    "import itertools"
   ]
  },
  {
   "cell_type": "code",
   "execution_count": null,
   "metadata": {},
   "outputs": [],
   "source": [
    "publication_types = list(itertools.chain(*ec_publications['child_types']))"
   ]
  },
  {
   "cell_type": "code",
   "execution_count": null,
   "metadata": {},
   "outputs": [],
   "source": [
    "project_codes = list(itertools.chain(*ec_publications['ec_project_codes']))"
   ]
  },
  {
   "cell_type": "code",
   "execution_count": null,
   "metadata": {},
   "outputs": [],
   "source": [
    "from collections import Counter"
   ]
  },
  {
   "cell_type": "code",
   "execution_count": null,
   "metadata": {},
   "outputs": [],
   "source": [
    "counts = Counter(project_codes)"
   ]
  },
  {
   "cell_type": "code",
   "execution_count": null,
   "metadata": {},
   "outputs": [],
   "source": [
    "ec_publications['pid_type'].value_counts()"
   ]
  },
  {
   "cell_type": "code",
   "execution_count": null,
   "metadata": {},
   "outputs": [],
   "source": [
    "len(ec_publications)"
   ]
  },
  {
   "cell_type": "markdown",
   "metadata": {},
   "source": [
    "- `oaf:entity_extrainfo_citations_citation`: works that this paper references\n",
    "- `oaf:entity_oaf:result_children_instance`: information about the available locations of this publication, if it is open access etc. (URLs but no DOI)\n",
    "- `oaf:entity_oaf:result_children_result`: information about the publication instances - titles, acceptance dates of the instances\n",
    "- `oaf:entity_oaf:result_collectedfrom`: where each publication instance was collected from\n",
    "- `oaf:entity_oaf:result_context`: Funding bodies and grant information\n",
    "- `oaf:entity_oaf:result_creator`: Author list\n",
    "- `oaf:entity_oaf:result_originalid`: IDs at original source locations\n",
    "- `oaf:entity_oaf:result_pid_#text\t`: Publication IDs (normally DOIs)\n",
    "- `oaf:entity_oaf:result_rels_rel`: More detailed funding information (e.g. funding levels for EC projects). **For EC projects  \\['code'\\] is the project ID.**"
   ]
  },
  {
   "cell_type": "code",
   "execution_count": null,
   "metadata": {},
   "outputs": [],
   "source": []
  }
 ],
 "metadata": {
  "language_info": {
   "name": "python",
   "pygments_lexer": "ipython3"
  }
 },
 "nbformat": 4,
 "nbformat_minor": 2
}
