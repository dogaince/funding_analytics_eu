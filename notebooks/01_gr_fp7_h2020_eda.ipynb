{
 "cells": [
  {
   "cell_type": "markdown",
   "metadata": {},
   "source": [
    "# CORDIS Data EDA\n",
    "\n",
    "Reference data from [here](https://data.europa.eu/euodp/data/dataset/cordisref-data)."
   ]
  },
  {
   "cell_type": "markdown",
   "metadata": {},
   "source": [
    "## Preamble"
   ]
  },
  {
   "cell_type": "code",
   "execution_count": null,
   "metadata": {},
   "outputs": [],
   "source": [
    "%run notebook_preamble.ipy\n",
    "\n",
    "pd.set_option('max_columns', 99)"
   ]
  },
  {
   "cell_type": "code",
   "execution_count": null,
   "metadata": {},
   "outputs": [],
   "source": [
    "import seaborn as sns\n",
    "import string\n",
    "\n",
    "from eu_funding.visualization.visualize import pdf_cdf\n",
    "# from src.visualization.visualize import pdf_cdf"
   ]
  },
  {
   "cell_type": "code",
   "execution_count": null,
   "metadata": {},
   "outputs": [],
   "source": [
    "sns.set_context??"
   ]
  },
  {
   "cell_type": "code",
   "execution_count": null,
   "metadata": {},
   "outputs": [],
   "source": [
    "sns.set_context('notebook')"
   ]
  },
  {
   "cell_type": "markdown",
   "metadata": {},
   "source": [
    "## Data"
   ]
  },
  {
   "cell_type": "markdown",
   "metadata": {},
   "source": [
    "### Projects"
   ]
  },
  {
   "cell_type": "markdown",
   "metadata": {},
   "source": [
    "Each funding programme has a projects dataset, which contain research projects funded by EC programmes.\n",
    "- `rcn`\n",
    "- `id`\n",
    "- `acronym`\n",
    "- `status`\n",
    "- `programme`\n",
    "- `topics`\n",
    "- `frameworkProgramme`\n",
    "- `title`\n",
    "- `startDate`\n",
    "- `endDate`\n",
    "- `projectUrl`\n",
    "- `objective`\n",
    "- `totalCost`\n",
    "- `ecMaxContribution`\n",
    "- `call`\n",
    "- `fundingScheme`\n",
    "- `coordinator`\n",
    "- `coordinatorCountry`\n",
    "- `participants`\n",
    "- `participantCountries`\n",
    "- `subjects`"
   ]
  },
  {
   "cell_type": "markdown",
   "metadata": {},
   "source": [
    "### H2020"
   ]
  },
  {
   "cell_type": "code",
   "execution_count": null,
   "metadata": {},
   "outputs": [],
   "source": [
    "h2020_projects_df = pd.read_csv(\n",
    "    os.path.join(cordis_h2020_path, 'cordis-h2020projects.csv'),\n",
    "    sep=';',\n",
    "    encoding='iso-8859-1',\n",
    "    parse_dates=['startDate', 'endDate'],\n",
    "    infer_datetime_format=True,\n",
    "    decimal=','\n",
    ")\n",
    "h2020_orgs_df = pd.read_csv(\n",
    "    os.path.join(cordis_h2020_path, 'cordis-h2020organizations.csv'),\n",
    "    sep=';',\n",
    "    encoding='iso-8859-1',\n",
    "    decimal=',',\n",
    ")\n",
    "h2020_reports_df = pd.read_csv(\n",
    "    os.path.join(cordis_h2020_path, 'cordis-h2020reports.csv'),\n",
    ")\n",
    "h2020_pi_df = pd.read_excel(\n",
    "    os.path.join(cordis_h2020_path, 'cordis-h2020-erc-pi.xlsx'),\n",
    "    sheet_name='PI'\n",
    ")\n",
    "h2020_fellows_r1_df = pd.read_excel(\n",
    "    os.path.join(cordis_h2020_path, 'cordis-h2020-msca-fellows.xls'),\n",
    "    sheet_name='Report 1',\n",
    "    header=3\n",
    ").set_index('Project Number')\n",
    "h2020_fellows_r2_df = pd.read_excel(\n",
    "    os.path.join(cordis_h2020_path, 'cordis-h2020-msca-fellows.xls'),\n",
    "    sheet_name='Report 2'\n",
    ").set_index('projectId')\n",
    "h2020_fellows_df = h2020_fellows_r1_df.join(h2020_fellows_r2_df, how='outer').reset_index().rename(columns={'index': 'projectId'})"
   ]
  },
  {
   "cell_type": "code",
   "execution_count": null,
   "metadata": {},
   "outputs": [],
   "source": [
    "h2020_projects_df.head(1)"
   ]
  },
  {
   "cell_type": "code",
   "execution_count": null,
   "metadata": {},
   "outputs": [],
   "source": [
    "h2020_projects_df.shape"
   ]
  },
  {
   "cell_type": "code",
   "execution_count": null,
   "metadata": {},
   "outputs": [],
   "source": [
    "h2020_reports_df.head(1)"
   ]
  },
  {
   "cell_type": "code",
   "execution_count": null,
   "metadata": {},
   "outputs": [],
   "source": [
    "h2020_reports_df.shape"
   ]
  },
  {
   "cell_type": "code",
   "execution_count": null,
   "metadata": {},
   "outputs": [],
   "source": [
    "h2020_orgs_df.head(1)"
   ]
  },
  {
   "cell_type": "code",
   "execution_count": null,
   "metadata": {},
   "outputs": [],
   "source": [
    "h2020_orgs_df.shape"
   ]
  },
  {
   "cell_type": "code",
   "execution_count": null,
   "metadata": {},
   "outputs": [],
   "source": [
    "h2020_pi_df.head(1)"
   ]
  },
  {
   "cell_type": "code",
   "execution_count": null,
   "metadata": {},
   "outputs": [],
   "source": [
    "h2020_fellows_df.head(1)"
   ]
  },
  {
   "cell_type": "markdown",
   "metadata": {},
   "source": [
    "### FP7"
   ]
  },
  {
   "cell_type": "code",
   "execution_count": null,
   "metadata": {},
   "outputs": [],
   "source": [
    "fp7_projects_df = pd.read_csv(\n",
    "    os.path.join(cordis_fp7_path, 'cordis-fp7projects.csv'),\n",
    "    sep=';',\n",
    "    encoding='iso-8859-1',\n",
    "    parse_dates=['startDate', 'endDate'],\n",
    "    infer_datetime_format=True,\n",
    "    decimal=','\n",
    ")\n",
    "fp7_orgs_df = pd.read_csv(\n",
    "    os.path.join(cordis_fp7_path, 'cordis-fp7organizations.csv'),\n",
    "    sep=';',\n",
    "    encoding='iso-8859-1',\n",
    "    decimal=',',\n",
    ")\n",
    "fp7_reports_df = pd.read_csv(\n",
    "    os.path.join(cordis_fp7_path, 'cordis-fp7reports.csv'),\n",
    ").drop('Unnamed: 16', axis=1)"
   ]
  },
  {
   "cell_type": "code",
   "execution_count": null,
   "metadata": {},
   "outputs": [],
   "source": [
    "fp7_projects_df.head(1)"
   ]
  },
  {
   "cell_type": "code",
   "execution_count": null,
   "metadata": {},
   "outputs": [],
   "source": [
    "fp7_orgs_df.head(1)"
   ]
  },
  {
   "cell_type": "code",
   "execution_count": null,
   "metadata": {},
   "outputs": [],
   "source": [
    "fp7_projects_df[fp7_projects_df['id'] == 240271]"
   ]
  },
  {
   "cell_type": "markdown",
   "metadata": {},
   "source": [
    "### Combining Programme Datasets"
   ]
  },
  {
   "cell_type": "code",
   "execution_count": null,
   "metadata": {},
   "outputs": [],
   "source": [
    "cordis_projects_df = pd.concat([h2020_projects_df, fp7_projects_df])\n",
    "cordis_reports_df = pd.concat([h2020_reports_df, fp7_reports_df])\n",
    "cordis_orgs_df = pd.concat([h2020_orgs_df, fp7_orgs_df])"
   ]
  },
  {
   "cell_type": "markdown",
   "metadata": {},
   "source": [
    "### Reference Data"
   ]
  },
  {
   "cell_type": "markdown",
   "metadata": {},
   "source": [
    "#### Activity Types"
   ]
  },
  {
   "cell_type": "code",
   "execution_count": null,
   "metadata": {},
   "outputs": [],
   "source": [
    "cordis_activity_ref_df = pd.read_csv(\n",
    "    os.path.join(cordis_ref_path, 'cordisref-organizationActivityType.csv'),\n",
    "    sep=';'\n",
    ")"
   ]
  },
  {
   "cell_type": "code",
   "execution_count": null,
   "metadata": {},
   "outputs": [],
   "source": [
    "cordis_activity_ref_df"
   ]
  },
  {
   "cell_type": "markdown",
   "metadata": {},
   "source": [
    "#### Countries"
   ]
  },
  {
   "cell_type": "code",
   "execution_count": null,
   "metadata": {},
   "outputs": [],
   "source": [
    "cordis_countries_ref_df = pd.read_csv(\n",
    "    os.path.join(cordis_ref_path, 'cordisref-countries.csv'),\n",
    "    sep=';'\n",
    ")"
   ]
  },
  {
   "cell_type": "code",
   "execution_count": null,
   "metadata": {},
   "outputs": [],
   "source": [
    "cordis_countries_ref_df.head(10)"
   ]
  },
  {
   "cell_type": "markdown",
   "metadata": {},
   "source": [
    "#### Topics"
   ]
  },
  {
   "cell_type": "code",
   "execution_count": null,
   "metadata": {},
   "outputs": [],
   "source": [
    "cordis_topics_ref_df = pd.read_csv(\n",
    "    os.path.join(cordis_ref_path, 'cordisref-H2020topics.csv'),\n",
    "    sep=';'\n",
    ")"
   ]
  },
  {
   "cell_type": "code",
   "execution_count": null,
   "metadata": {},
   "outputs": [],
   "source": [
    "cordis_topics_ref_df.head()"
   ]
  },
  {
   "cell_type": "markdown",
   "metadata": {},
   "source": [
    "#### H2020 Programmes"
   ]
  },
  {
   "cell_type": "code",
   "execution_count": null,
   "metadata": {},
   "outputs": [],
   "source": [
    "cordis_h2020_programmes_ref_df = pd.read_csv(\n",
    "    os.path.join(cordis_ref_path, 'cordisref-H2020programmes.csv'),\n",
    "#     sep=';'\n",
    ")"
   ]
  },
  {
   "cell_type": "code",
   "execution_count": null,
   "metadata": {},
   "outputs": [],
   "source": [
    "cordis_h2020_programmes_ref_df.head()"
   ]
  },
  {
   "cell_type": "markdown",
   "metadata": {},
   "source": [
    "#### Funding Schemes"
   ]
  },
  {
   "cell_type": "code",
   "execution_count": null,
   "metadata": {},
   "outputs": [],
   "source": [
    "cordis_funding_schemes_ref_df = pd.read_csv(\n",
    "    os.path.join(cordis_ref_path, 'cordisref-projectFundingSchemeCategory.csv'),\n",
    "    sep=';'\n",
    ")"
   ]
  },
  {
   "cell_type": "code",
   "execution_count": null,
   "metadata": {},
   "outputs": [],
   "source": [
    "cordis_funding_schemes_ref_df.head()"
   ]
  },
  {
   "cell_type": "markdown",
   "metadata": {},
   "source": [
    "#### SIC Codes"
   ]
  },
  {
   "cell_type": "code",
   "execution_count": null,
   "metadata": {},
   "outputs": [],
   "source": [
    "cordis_sic_codes_ref_df = pd.read_csv(\n",
    "    os.path.join(cordis_ref_path, 'cordisref-sicCode.csv'),\n",
    "    sep=';'\n",
    ")"
   ]
  },
  {
   "cell_type": "code",
   "execution_count": null,
   "metadata": {},
   "outputs": [],
   "source": [
    "cordis_sic_codes_ref_df[cordis_sic_codes_ref_df['language'] == 'en'].head()"
   ]
  },
  {
   "cell_type": "markdown",
   "metadata": {},
   "source": [
    "## Exploration"
   ]
  },
  {
   "cell_type": "markdown",
   "metadata": {},
   "source": [
    "### Basic"
   ]
  },
  {
   "cell_type": "markdown",
   "metadata": {},
   "source": [
    "### Project Funding, Participants and Timing"
   ]
  },
  {
   "cell_type": "markdown",
   "metadata": {},
   "source": [
    "#### Overall Funding Distribution"
   ]
  },
  {
   "cell_type": "code",
   "execution_count": null,
   "metadata": {},
   "outputs": [],
   "source": [
    "fig, ax = plt.subplots(\n",
    "    ncols=2,\n",
    "    figsize=(11, 4),\n",
    ")\n",
    "\n",
    "pdf_cdf(\n",
    "    ax[0], np.log10(cordis_projects_df['ecMaxContribution'][~pd.isnull(cordis_projects_df['ecMaxContribution'])]),\n",
    "    bins=100\n",
    ")\n",
    "# pdf_cdf(\n",
    "#     ax[1],\n",
    "#     np.log10(cordis_projects_df['totalCost'][~pd.isnull(cordis_projects_df['totalCost'])]),\n",
    "#     bins=100\n",
    "# )\n",
    "x = cordis_projects_df['ecMaxContribution'] / cordis_projects_df['totalCost']\n",
    "x = x[~np.isnan(x)]\n",
    "ax[1].hist(\n",
    "    x,\n",
    "    bins=25\n",
    ")\n",
    "ax[0].set_xlabel('EU Funding (log$_{10}$ EUR)')\n",
    "# ax[1].set_xlabel('Toal Cost (log$_{10}$ EUR)')\n",
    "ax[1].set_xlabel('EU Funding / Total Cost')\n",
    "ax[1].set_ylabel('Frequency')\n",
    "\n",
    "# for n, a in enumerate(ax):\n",
    "#     a.text(-.2, 1.1, string.ascii_lowercase[n], transform=a.transAxes, \n",
    "#             size=14)\n",
    "\n",
    "plt.tight_layout()\n",
    "plt.show()"
   ]
  },
  {
   "cell_type": "markdown",
   "metadata": {},
   "source": [
    "The distribution of EC funding across all projects shows a spiky profile with an underlying bimodal characteristic. This highlights that there are two broad funding categories; those in the order of €100k and those in the order of €1m. Within this distribution there are particularly high frequencies of individual grants centred on €50k, €100k, €250k, €2m, €2.5m, €3m and €5m amounts.\n",
    "\n",
    "We can also see that the overall distribution of the total cost of EC funded projects mirrors the EC contribution.\n",
    "\n",
    "Looking at the ratio between EC project contributions and total project costs, we can see that in the vast majority of cases, 100% of funds come from the EC. Other projects recieve between 0 and 85% of their funds from other sources, with the 20 to 25% being the most common fraction contributed from third parties."
   ]
  },
  {
   "cell_type": "markdown",
   "metadata": {},
   "source": [
    "#### Funding and Number of Projects By Institution"
   ]
  },
  {
   "cell_type": "code",
   "execution_count": null,
   "metadata": {},
   "outputs": [],
   "source": [
    "orgs_name_group = cordis_orgs_df.groupby('name')\n",
    "\n",
    "org_ec_contributions = np.log10(orgs_name_group.sum()['ecContribution'])\n",
    "org_ec_contributions[np.isinf(org_ec_contributions)] = 0\n",
    "\n",
    "org_n_projects = np.log10(orgs_name_group.count()['projectID'].values)\n",
    "\n",
    "ec_orgs_projects_df = cordis_orgs_df.merge(\n",
    "    cordis_projects_df, \n",
    "    left_on='projectID',\n",
    "    right_on='id'\n",
    ")[['ecContribution', 'ecMaxContribution']]\n",
    "fraction_funding_org = ec_orgs_projects_df['ecContribution'] / ec_orgs_projects_df['ecMaxContribution']\n",
    "fraction_funding_org = fraction_funding_org[~np.isnan(fraction_funding_org)].values"
   ]
  },
  {
   "cell_type": "code",
   "execution_count": null,
   "metadata": {},
   "outputs": [],
   "source": [
    "fig, ax = plt.subplots(ncols=3, figsize=(16, 4))\n",
    "pdf_cdf(\n",
    "    ax[0],\n",
    "    org_ec_contributions.values,\n",
    "    bins=100\n",
    ")\n",
    "pdf_cdf(\n",
    "    ax[1],\n",
    "    org_n_projects,\n",
    "    bins=50\n",
    ")\n",
    "pdf_cdf(\n",
    "    ax[2],\n",
    "    fraction_funding_org,\n",
    "    bins=50\n",
    ")\n",
    "ax[0].set_xlabel('EU Funding (log$_{10}$ EUR)')\n",
    "ax[1].set_xlabel('Number of Projects per Organisation (log$_{10}$)')\n",
    "ax[2].set_xlabel('Fraction of EC Project Recieved by Institutions')\n",
    "ax[2].set_xlim((0, 1.05))\n",
    "plt.tight_layout()\n",
    "plt.show()"
   ]
  },
  {
   "cell_type": "markdown",
   "metadata": {},
   "source": [
    "If we look at the distribution of amounts awarded in projects by the EC grouped by institution, we can see several interesting properties. First that around 15% of institutions that are named on projects recieve no EC funding. Second, that we see a sharp normal-like distribution centred around the order of €100k and tails extending between the orders of €1k and €100m. Finally we can see within this distribution a sharp peak of institutions recieving around €50k. As we saw a spike for this amount in the overall distribution of project funding, we could infer that this is from an EC programme to award grants of €50k to individual researchers or institutions.\n",
    "\n",
    "Looking at the number of projects each organisation participates in, we are presented with a distribution that stretches from insitutions involved in only 1 project to those with their fingers in thousands of pies. In fact, around 60% of institutions in the dataset are involved in only one project. It's important to bear in mind that these may be solo projects or collaborations.\n",
    "\n",
    "Finally, we can dissect the fraction of funding recieved by institutions on each project. As we would expect from the previous plots, 15% of projects see a single institution getting 100% of the project funding. However, more generally we can identify that in the majority of cases, each institution involved in a project gets less than 20% of the funds. This leads to two questions: \n",
    "\n",
    "1. Is funding generally spread equally between institutions within a project?\n",
    "2. Does the spike of institutions recieving 100% of project funding point to a significant number of collaborative projects where one or more institutions recieves nothing?"
   ]
  },
  {
   "cell_type": "markdown",
   "metadata": {},
   "source": [
    "#### Distribution of Funding Between Collaborators"
   ]
  },
  {
   "cell_type": "code",
   "execution_count": null,
   "metadata": {},
   "outputs": [],
   "source": [
    "def all_particpants(coordinator, participants):\n",
    "    if pd.isnull(participants):\n",
    "        return coordinator\n",
    "    else:\n",
    "        if coordinator in participants:\n",
    "            return participants\n",
    "        else:\n",
    "            return participants + ';' + coordinator"
   ]
  },
  {
   "cell_type": "code",
   "execution_count": null,
   "metadata": {},
   "outputs": [],
   "source": [
    "cordis_projects_df['allParticipants'] = cordis_projects_df.apply(\n",
    "    lambda x: all_particpants(x['coordinator'], x['participants']),\n",
    "    axis=1\n",
    ")\n",
    "cordis_projects_df['participant_count'] = [len(s.split(';')) for s in cordis_projects_df['allParticipants']]"
   ]
  },
  {
   "cell_type": "code",
   "execution_count": null,
   "metadata": {},
   "outputs": [],
   "source": [
    "ec_orgs_projects_df = cordis_orgs_df.merge(\n",
    "    cordis_projects_df, \n",
    "    left_on='projectID',\n",
    "    right_on='id'\n",
    ")[['projectID', 'ecContribution', 'ecMaxContribution', 'participant_count']]\n",
    "ec_orgs_projects_df = ec_orgs_projects_df[ec_orgs_projects_df['participant_count'] > 1]\n",
    "fraction_funding_org = ec_orgs_projects_df['ecContribution'] / ec_orgs_projects_df['ecMaxContribution']\n",
    "fraction_funding_org = fraction_funding_org[~np.isnan(fraction_funding_org)].values"
   ]
  },
  {
   "cell_type": "code",
   "execution_count": null,
   "metadata": {},
   "outputs": [],
   "source": [
    "fig, ax = plt.subplots(nrows=2, ncols=2, figsize=(12, 8))\n",
    "pdf_cdf(\n",
    "    ax[0][0],\n",
    "    cordis_projects_df['participant_count'],\n",
    "    bins=160\n",
    ")\n",
    "pdf_cdf(\n",
    "    ax[0][1],\n",
    "    ec_orgs_projects_df.groupby('projectID')['participant_count'].max(),\n",
    "    bins=160\n",
    ")\n",
    "pdf_cdf(\n",
    "    ax[1][0],\n",
    "    fraction_funding_org,\n",
    "    bins=100\n",
    ")\n",
    "pdf_cdf(\n",
    "    ax[1][1],\n",
    "    1 / ec_orgs_projects_df.groupby('projectID')['participant_count'].max(),\n",
    "    bins=50\n",
    ")\n",
    "ax[1][1].set_xlim((0, 1))\n",
    "ax[0][0].set_xlabel('Number of Participants')\n",
    "ax[0][1].set_xlabel('Number of Participants\\n(projects with more than one particpant)')\n",
    "ax[1][0].set_xlabel('Institutional EC Contribution / Max EC Contribution \\n (projects with more than one participant)')\n",
    "ax[1][1].set_xlabel('Expected Funding Fractions for Even Funding Distributions')\n",
    "plt.tight_layout()\n",
    "plt.show()"
   ]
  },
  {
   "cell_type": "markdown",
   "metadata": {},
   "source": [
    "At least 60% of projects have only one participant, the coordinator, while 95% of projects have 20 particpants or fewer. The overall distribution stretches to include at least one project with over 170 participant institutions.\n",
    "\n",
    "If we exclude projects with only one participant, we can see that around 20% of the remaining projects are two party collaborations, and the rest form a smooth distribution centered on the median value of 9 participants.\n",
    "\n",
    "Finally, we can calculate the fraction of fraction of project funding each institution in a collaborative project was awarded. We still see a small number (~5%) of projects where a single party obtained 100% of the funds, however the mean value among the rest of the distribution is 0.11. It is surprising that there is not a large peak at 0.5 that corresponds to the proportion of projects with two participants.\n",
    "\n",
    "The final figure shows the expected distribution of fractional funding if funds were split evenly between participants. "
   ]
  },
  {
   "cell_type": "code",
   "execution_count": null,
   "metadata": {},
   "outputs": [],
   "source": [
    "max_project_contribution = ec_orgs_projects_df.groupby('projectID')['ecContribution'].max()\n",
    "min_project_contribution = ec_orgs_projects_df.groupby('projectID')['ecContribution'].min()"
   ]
  },
  {
   "cell_type": "code",
   "execution_count": null,
   "metadata": {},
   "outputs": [],
   "source": [
    "fig, ax = plt.subplots(nrows=2, ncols=2, figsize=(12, 8))\n",
    "\n",
    "normalised_contribution_difference = ((max_project_contribution - min_project_contribution) / \n",
    "         ec_orgs_projects_df.groupby('projectID')['ecMaxContribution'].max())\n",
    "\n",
    "pdf_cdf(ax[0][0],\n",
    "        normalised_contribution_difference,\n",
    "        bins=50\n",
    "       )\n",
    "ax[0][0].set_xlabel('Highest and Lowest Contribution Difference\\n Normalised by Total Funding')\n",
    "pdf_cdf(ax[0][1],\n",
    "        np.log10(max_project_contribution / min_project_contribution),\n",
    "        bins=50\n",
    "       )\n",
    "ax[0][1].set_xlabel('Funding of Highest Funded Participant / Lowest Funded Participant (log$_{10}$)')\n",
    "ax[1][0].hexbin(\n",
    "    ec_orgs_projects_df.groupby('projectID')['participant_count'].max(),\n",
    "    normalised_contribution_difference,\n",
    "    bins='log',\n",
    "    mincnt=1\n",
    ")\n",
    "ax[1][0].set_xlabel('Number of Participants')\n",
    "ax[1][0].set_ylabel('Highest and Lowest Contribution Difference\\n Normalised by Total Funding')\n",
    "ax[1][1].hexbin(\n",
    "    ec_orgs_projects_df['ecMaxContribution'],\n",
    "    ec_orgs_projects_df['ecContribution'] / ec_orgs_projects_df['ecMaxContribution'],\n",
    "    bins='log',\n",
    "    mincnt=1,\n",
    "    xscale='log'\n",
    ")\n",
    "ax[1][1].set_xlabel('Max EC Funding Contribution')\n",
    "ax[1][1].set_ylabel('Institutional Contribution / Max Contribution')\n",
    "plt.tight_layout()\n",
    "plt.show()"
   ]
  },
  {
   "cell_type": "markdown",
   "metadata": {},
   "source": [
    "One way to assess distribution of funding among collaborative projects is the difference between the highest and lowest allocations of funding to institutions within a project. Normalising this by the total project funding, we can see that the difference for at least 50% of projects is around 20% of the total funding.\n",
    "\n",
    "To get a sense of the scale of the difference within projects, we can also plot the distribution of the ratio between the highest funded and lowest participants in a project. We can see that in some cases, the highest recipient is awarded hundreds or thousands of times more than the lowest.\n",
    "\n",
    "If we look at the impact that the number of participants has on the split of funding between them, we see a broad distribution with lower numbers of collaborators, although the modal value appears to be an even division of resources. As the number of participants increases, we can see the distribution narrow until it stabilises around the mean relative difference of 0.24.\n",
    "\n",
    "A similar trend is seen with the relationship between normalised relative funding difference and the total EC contribution. As projects are awarded more money, they generally split the funds more equally. \n",
    "\n",
    "Although 60% of projects are carried out by a single institution, the distribution of funds among the other 40% is potentially a very useful metric as it might indicate the relative levels of input each particpant has on a piece of research. Here, we have shown a few potential ways of measuring the distribution and identifying interesting situations, however there are of course many other potential paths to investigate for metrics used to convey this information. "
   ]
  },
  {
   "cell_type": "markdown",
   "metadata": {},
   "source": [
    "#### Total Funding Over Time"
   ]
  },
  {
   "cell_type": "code",
   "execution_count": null,
   "metadata": {},
   "outputs": [],
   "source": [
    "def split_date(df, col):\n",
    "    '''split_date\n",
    "    \n",
    "    Args:\n",
    "        df (pandas.DataFrame): A dataframe\n",
    "        col (str): A column containing datetimes\n",
    "        \n",
    "    Returns\n",
    "        df (pandas.DataFrame): The input dataframe with year, month and\n",
    "            day values for `col` in new columns.\n",
    "    '''\n",
    "    df[col + '_year'] = df[col].dt.year\n",
    "    df[col + '_month'] = df[col].dt.month\n",
    "    df[col + '_day'] = df[col].dt.day\n",
    "    return df"
   ]
  },
  {
   "cell_type": "code",
   "execution_count": null,
   "metadata": {},
   "outputs": [],
   "source": [
    "cordis_projects_df = split_date(cordis_projects_df, 'startDate')\n",
    "cordis_projects_df_start_year = cordis_projects_df.groupby('startDate_year').describe().reset_index()"
   ]
  },
  {
   "cell_type": "code",
   "execution_count": null,
   "metadata": {},
   "outputs": [],
   "source": [
    "fig, ax = plt.subplots(ncols=2, figsize=(10, 3.7))\n",
    "# ax[0].plot(\n",
    "#     cordis_projects_df_start_year['startDate_year'],\n",
    "#     cordis_projects_df_start_year['totalCost']['count'] * cordis_projects_df_start_year['totalCost']['mean'],\n",
    "#     label='Total Cost'\n",
    "# )\n",
    "ax[0].plot(\n",
    "    cordis_projects_df_start_year['startDate_year'],\n",
    "    cordis_projects_df_start_year['ecMaxContribution']['count'] * cordis_projects_df_start_year['ecMaxContribution']['mean'],\n",
    "    label='EC Funding',\n",
    "    linewidth=2\n",
    ")\n",
    "ax[1].plot(\n",
    "    cordis_projects_df_start_year['startDate_year'],\n",
    "    cordis_projects_df_start_year['id']['count'],\n",
    "    linewidth=2\n",
    ")\n",
    "ax[0].scatter(\n",
    "    cordis_projects_df_start_year['startDate_year'],\n",
    "    cordis_projects_df_start_year['ecMaxContribution']['count'] * cordis_projects_df_start_year['ecMaxContribution']['mean'],\n",
    "    label='EC Funding'\n",
    ")\n",
    "ax[1].scatter(\n",
    "    cordis_projects_df_start_year['startDate_year'],\n",
    "    cordis_projects_df_start_year['id']['count']\n",
    ")\n",
    "\n",
    "# ax[2].scatter(\n",
    "#     cordis_projects_df_start_year['totalCost']['count'],\n",
    "#     cordis_projects_df_start_year['totalCost']['count'] * cordis_projects_df_start_year['totalCost']['mean'],\n",
    "# )\n",
    "ax[0].set_ylabel('Total Funding (EUR)')\n",
    "ax[0].set_xlabel('Project Start Year')\n",
    "ax[1].set_ylabel('N Projects')\n",
    "ax[1].set_xlabel('Project Start Year')\n",
    "# ax[2].set_xlabel('N Projects')\n",
    "# ax[2].set_ylabel('Total Funding (EUR)')\n",
    "# handles, labels = ax[0].get_legend_handles_labels()\n",
    "# ax[0].legend(handles, labels)\n",
    "plt.tight_layout()\n",
    "plt.show()"
   ]
  },
  {
   "cell_type": "markdown",
   "metadata": {},
   "source": [
    "The total funding awarded to projects by their starting year shows that generally between €4m and €12m have been awarded annually. The lower figure in 2007 may indicate overlap with the previous funding programme. There is also a dip in 2014, which is when the H2020 programme began, so this is perhaps indicative of the previous projects finishing and the new wave of projects not having yet started. Finally, we are presented with a decline in the amount in 2019 and 2020. This is likely due to the H2020 programme ending in 2020, and therefore fewer, shorter projects are due to start in those last two years.\n",
    "\n",
    "The number of projects starting each year closely mirrors the trend in the amount spend.\n",
    "\n",
    "Indeed, if we plot the number total funding awarded against the number of projects starting each year, we can see a highly linear relationship."
   ]
  },
  {
   "cell_type": "code",
   "execution_count": null,
   "metadata": {},
   "outputs": [],
   "source": [
    "from matplotlib.ticker import MaxNLocator"
   ]
  },
  {
   "cell_type": "code",
   "execution_count": null,
   "metadata": {},
   "outputs": [],
   "source": [
    "sy = cordis_projects_df['startDate_year'][~pd.isnull(cordis_projects_df['startDate_year'])].astype(int)\n",
    "ec_mc = cordis_projects_df['ecMaxContribution'][~pd.isnull(cordis_projects_df['startDate_year'])]"
   ]
  },
  {
   "cell_type": "code",
   "execution_count": null,
   "metadata": {},
   "outputs": [],
   "source": [
    "fig, ax = plt.subplots(figsize=(12, 5))\n",
    "ax = sns.violinplot(\n",
    "    sy,\n",
    "    np.log10(ec_mc),\n",
    "    color='C0'\n",
    ")\n",
    "ax.set_xlabel('Project Start Year')\n",
    "ax.set_ylabel('EC Contribution (log$_{10}$ EUR)')\n",
    "\n",
    "ax.set_xlim((0.5, 11.5))\n",
    "plt.show()"
   ]
  },
  {
   "cell_type": "markdown",
   "metadata": {},
   "source": [
    "A violin plot can show us the change in funding allocations over the start year of the projects. We can see between 2008 and 2014 the more or less bimodal distribution seen earlier, with peaks centred around €250k and €2.5m. From 2015 onwards, we can observe the appearance of a third peak below €100k. This is perhaps a new H2020 intitiative to fund early career researchers."
   ]
  },
  {
   "cell_type": "markdown",
   "metadata": {},
   "source": [
    "#### Number of Countries"
   ]
  },
  {
   "cell_type": "code",
   "execution_count": null,
   "metadata": {},
   "outputs": [],
   "source": [
    "def number_of_entities(s):\n",
    "    ents =  s.str.split(';')\n",
    "    counts = []\n",
    "    for e in ents:\n",
    "        if type(e) == list:\n",
    "            counts.append(len(e))\n",
    "        else:\n",
    "            counts.append(np.nan)\n",
    "    return counts\n",
    "\n",
    "cordis_projects_df['allCountries'] = cordis_projects_df.apply(\n",
    "    lambda x: all_particpants(x['coordinatorCountry'], x['participantCountries']),\n",
    "    axis=1\n",
    ").fillna('NA')\n",
    "cordis_projects_df['countries_count'] = [len(s.split(';')) for s in cordis_projects_df['allCountries']]"
   ]
  },
  {
   "cell_type": "code",
   "execution_count": null,
   "metadata": {},
   "outputs": [],
   "source": [
    "fig, ax = plt.subplots(nrows=2, ncols=2, figsize=(12, 8))\n",
    "\n",
    "pdf_cdf(ax[0][0],\n",
    "    cordis_projects_df['countries_count'],\n",
    "    bins=40\n",
    ")\n",
    "pdf_cdf(ax[0][1],\n",
    "    cordis_projects_df['participant_count'],\n",
    "    bins=100\n",
    ")\n",
    "\n",
    "pdf_cdf(ax[1][0],\n",
    "    cordis_projects_df['countries_count'][cordis_projects_df['countries_count'] > 1],\n",
    "    bins=45\n",
    ")\n",
    "pdf_cdf(ax[1][1],\n",
    "    cordis_projects_df['participant_count'][cordis_projects_df['participant_count'] > 1],\n",
    "    bins=165\n",
    ")\n",
    "\n",
    "ax[0][0].set_xlabel('N Participant Countries')\n",
    "ax[0][1].set_xlabel('N Participant Institutions')\n",
    "ax[1][0].set_xlabel('N Participant Countries (Collaborative Projects)')\n",
    "ax[1][1].set_xlabel('N Participant Institutions (Collaborative Projects)')\n",
    "\n",
    "plt.tight_layout()\n",
    "plt.show()"
   ]
  },
  {
   "cell_type": "code",
   "execution_count": null,
   "metadata": {},
   "outputs": [],
   "source": [
    "fig, ax = plt.subplots(ncols=2, figsize=(10, 4), gridspec_kw={'width_ratios': [0.45, 0.55]})\n",
    "\n",
    "participant_count_group_country_count = cordis_projects_df.groupby('countries_count')['participant_count'].mean()\n",
    "\n",
    "ax[0].scatter(\n",
    "    participant_count_group_country_count.index,\n",
    "    participant_count_group_country_count,\n",
    "    color='C6',\n",
    "    label='Mean N Participants'\n",
    ")\n",
    "handles, labels = ax[0].get_legend_handles_labels()\n",
    "ax[0].legend(handles, labels)\n",
    "ax[0].hexbin(\n",
    "    cordis_projects_df['countries_count'],\n",
    "    cordis_projects_df['participant_count'],\n",
    "    bins='log',\n",
    "    mincnt=1,\n",
    "    gridsize=45,\n",
    ")\n",
    "ax[0].scatter(\n",
    "    participant_count_group_country_count.index,\n",
    "    participant_count_group_country_count,\n",
    "    color='C6',\n",
    "    label='Mean'\n",
    ")\n",
    "\n",
    "hb = ax[1].hexbin(\n",
    "    cordis_projects_df['participant_count'],\n",
    "    cordis_projects_df['ecMaxContribution'],\n",
    "    bins='log',\n",
    "    yscale='log',\n",
    "    mincnt=1,\n",
    "    gridsize=45\n",
    ")\n",
    "cb = fig.colorbar(hb, ax=ax[1])\n",
    "\n",
    "ax[0].set_xlabel('N Participant Countries')\n",
    "ax[0].set_ylabel('N Participant Institutions')\n",
    "ax[1].set_xlabel('N of Participant Institutions')\n",
    "ax[1].set_ylabel('EC Funding (EUR)')\n",
    "\n",
    "plt.tight_layout()\n",
    "plt.show()"
   ]
  },
  {
   "cell_type": "markdown",
   "metadata": {},
   "source": [
    "The distribution of the number of countries involved in each project resembles that of the number of participants involved. However, the scale is different, with a maximum of around 45 countries involved in a single project (compared to up to ~175 participants). As expected, around 60% of projects involve just one country.\n",
    "\n",
    "The funding distribution across projects with small numbers of countries involved resembles that of the overall distribution, and projects ranging across the whole spectrum of funding amounts. There are a significant number of projects carried out between 5 - 10 countries that recieve multiple millions of Euros. As the number of participant countries increases, the project elligibility for smaller grants appears to disappear. For example, no project with more than 10 participants recieved a grant of less than €200k.\n",
    "\n",
    "There is a roughly linear relationship between the number of countries participating and the number of institutions involved in a project. The modal value is of a course a single country and organisation. We can see that the maximum number of institutions involved in a project can often exceed the number of countries, meaning that there must be multiple institutions from a single nationality involved in a proportion of projects.\n",
    "\n",
    "Plotting the mean number of organisations on a project against the number of countries involved, we can see that the number of participants is roughly equal to twice the number of countries up until 20 nations are involved. After this, we see a tapering off of this trend."
   ]
  },
  {
   "cell_type": "markdown",
   "metadata": {},
   "source": [
    "#### Project Duration"
   ]
  },
  {
   "cell_type": "code",
   "execution_count": null,
   "metadata": {},
   "outputs": [],
   "source": [
    "duration = cordis_projects_df['endDate'] - cordis_projects_df['startDate'] "
   ]
  },
  {
   "cell_type": "code",
   "execution_count": null,
   "metadata": {},
   "outputs": [],
   "source": [
    "fig, ax = plt.subplots(ncols=2, figsize=(10, 4), gridspec_kw={'width_ratios': [0.45, 0.55]})\n",
    "\n",
    "pdf_cdf(ax[0], duration.dt.days / 365.25, bins=50)\n",
    "hb = ax[1].hexbin(\n",
    "    duration.dt.total_seconds() / (365.25 * 24 * 3600),\n",
    "    cordis_projects_df['ecMaxContribution'],\n",
    "    bins='log',\n",
    "    yscale='log',\n",
    "    mincnt=1,\n",
    "    gridsize=45\n",
    ")\n",
    "# ax[2].hexbin(\n",
    "#     cordis_projects_df['participant_count'],\n",
    "#     duration.dt.total_seconds() / (365.25 * 24 * 3600),\n",
    "#     bins='log',\n",
    "#     mincnt=1,\n",
    "#     gridsize=50\n",
    "# )\n",
    "ax[0].set_xlabel('Duration (years)')\n",
    "ax[1].set_ylabel('EU Funding (EUR)')\n",
    "ax[1].set_xlabel('Duration (Years)')\n",
    "cb = fig.colorbar(hb, ax=ax[1])\n",
    "# cb.set_label('counts')\n",
    "# ax[2].set_xlabel('Number of Participant Countries')\n",
    "# ax[2].set_ylabel('Duration (Years)')\n",
    "plt.tight_layout()\n",
    "plt.show()"
   ]
  },
  {
   "cell_type": "markdown",
   "metadata": {},
   "source": [
    "Project durations cover a span from a few months to several years, with major peaks at 2, 3, 4 and 5 years, and a mean length of 3.28 years.\n",
    "\n",
    "Typically longer projects are awarded more funding. A project designed to run for 5 years might recieve up to 10 times more funding than one set to last for just 2 years.\n",
    "\n",
    "There is no significant trend between the number of participating countries and the duration of a project."
   ]
  },
  {
   "cell_type": "markdown",
   "metadata": {},
   "source": [
    "#### Country Level Funding Distributions"
   ]
  },
  {
   "cell_type": "code",
   "execution_count": null,
   "metadata": {},
   "outputs": [],
   "source": [
    "cordis_orgs_df_by_country = cordis_orgs_df.groupby('country')\n",
    "cordis_projects_df_by_country = cordis_projects_df.groupby('coordinatorCountry')\n",
    "topn = 20\n",
    "\n",
    "fig, ax = plt.subplots(ncols=3, figsize=(16, 4))\n",
    "cordis_projects_df_by_country.count()['id'].sort_values()[-topn:].plot.barh(\n",
    "    color='C0',\n",
    "    ax=ax[0])\n",
    "cordis_orgs_df_by_country.count()['id'].sort_values()[-topn:].plot.barh(\n",
    "    color='C0',\n",
    "    ax=ax[1])\n",
    "cordis_orgs_df_by_country.sum()['ecContribution'].sort_values()[-topn:].plot.barh(color='C0', ax=ax[2])\n",
    "ax[0].set_xlabel('N Projects')\n",
    "ax[0].set_ylabel('Coordinator Country')\n",
    "ax[1].set_xlabel('N Project Particpants')\n",
    "ax[1].set_ylabel('Country')\n",
    "ax[2].set_xlabel('EC Funding (EUR)')\n",
    "ax[2].set_ylabel('Country')\n",
    "plt.show()"
   ]
  },
  {
   "cell_type": "markdown",
   "metadata": {},
   "source": [
    "The UK is the coordinating country of the most awards, accounting for almost 9,000 projects. Only Germany, Spain, France, Italy and the Netherlands also coordinate more than 2,000 projects each.\n",
    "\n",
    "However, when this is broken down by the number of times an institution from a country has participated in a project, we can see that Germany just overtakes the UK, with both having over 30,000 institutional involvements in a project. The top 6 countries are again the same.\n",
    "\n",
    "The same 6 countries occupy the top spots when it comes to the total amounts of funding recieved from the EC. Again, Germany and the UK are very close, both having gained just over €14bn, and France is the only other country to have been awarded a total greater than €10bn."
   ]
  },
  {
   "cell_type": "markdown",
   "metadata": {},
   "source": [
    "#### Collaborations"
   ]
  },
  {
   "cell_type": "code",
   "execution_count": null,
   "metadata": {},
   "outputs": [],
   "source": [
    "from itertools import combinations, repeat\n",
    "from collections import defaultdict"
   ]
  },
  {
   "cell_type": "code",
   "execution_count": null,
   "metadata": {},
   "outputs": [],
   "source": [
    "country_collaborations = defaultdict(list)\n",
    "\n",
    "for participants, coordinator in zip(cordis_projects_df['participantCountries'][~pd.isnull(cordis_projects_df['participantCountries'])],\n",
    "                    cordis_projects_df['coordinatorCountry']):\n",
    "    p = participants.split(';')\n",
    "    for pa, co in zip(p, repeat(coordinator, len(p))):\n",
    "        if co != pa:\n",
    "            country_collaborations['Coordinator Country'].append(co)\n",
    "            country_collaborations['Participant Country'].append(pa)\n",
    "            country_collaborations['count'].extend([1])"
   ]
  },
  {
   "cell_type": "code",
   "execution_count": null,
   "metadata": {},
   "outputs": [],
   "source": [
    "country_counts_df = pd.DataFrame(country_collaborations)"
   ]
  },
  {
   "cell_type": "code",
   "execution_count": null,
   "metadata": {},
   "outputs": [],
   "source": [
    "country_counts_pivot = country_counts_df.pivot_table(\n",
    "    index='Coordinator Country',\n",
    "    values='count',\n",
    "    columns='Participant Country',\n",
    "#     aggfunc=lambda x: np.log(np.sum(x)),\n",
    "    aggfunc=np.sum\n",
    ")"
   ]
  },
  {
   "cell_type": "code",
   "execution_count": null,
   "metadata": {},
   "outputs": [],
   "source": [
    "sort_order = cordis_projects_df['coordinatorCountry'].value_counts().index.values\n",
    "sort_index = [s for s in sort_order if s in country_counts_pivot.index]\n",
    "sort_cols = [s for s in sort_order if s in country_counts_pivot.columns]"
   ]
  },
  {
   "cell_type": "code",
   "execution_count": null,
   "metadata": {},
   "outputs": [],
   "source": [
    "country_counts_pivot = country_counts_pivot.reindex(\n",
    "    sort_index\n",
    ")[sort_cols]"
   ]
  },
  {
   "cell_type": "code",
   "execution_count": null,
   "metadata": {},
   "outputs": [],
   "source": [
    "from matplotlib.colors import LogNorm"
   ]
  },
  {
   "cell_type": "code",
   "execution_count": null,
   "metadata": {},
   "outputs": [],
   "source": [
    "fig, ax = plt.subplots(figsize=(20, 11))\n",
    "ax = sns.heatmap(country_counts_pivot,\n",
    "#                  norm=LogNorm(vmin=country_counts_pivot.min().min(), vmax=country_counts_pivot.max().max())\n",
    "                )\n",
    "plt.show()"
   ]
  },
  {
   "cell_type": "code",
   "execution_count": null,
   "metadata": {},
   "outputs": [],
   "source": [
    "cordis_projects_df.head()"
   ]
  },
  {
   "cell_type": "code",
   "execution_count": null,
   "metadata": {},
   "outputs": [],
   "source": [
    "from collections import Counter\n",
    "from itertools import chain"
   ]
  },
  {
   "cell_type": "code",
   "execution_count": null,
   "metadata": {},
   "outputs": [],
   "source": [
    "c_participants = Counter(chain(*cordis_projects_df['allParticipants'].str.split(';')))"
   ]
  },
  {
   "cell_type": "code",
   "execution_count": null,
   "metadata": {},
   "outputs": [],
   "source": [
    "len(c_participants)"
   ]
  },
  {
   "cell_type": "code",
   "execution_count": null,
   "metadata": {},
   "outputs": [],
   "source": [
    "cordis_orgs_df.head()"
   ]
  },
  {
   "cell_type": "code",
   "execution_count": null,
   "metadata": {},
   "outputs": [],
   "source": [
    "cordis_reports_df['projectID'].value_counts()"
   ]
  },
  {
   "cell_type": "code",
   "execution_count": null,
   "metadata": {},
   "outputs": [],
   "source": [
    "cordis_reports_df[cordis_reports_df['projectID'] == 262948]['article'].iloc[0]"
   ]
  },
  {
   "cell_type": "code",
   "execution_count": null,
   "metadata": {},
   "outputs": [],
   "source": [
    "i = 500\n",
    "pid = cordis_reports_df.iloc[i]['projectID']\n",
    "print(pid)\n",
    "print(cordis_reports_df.iloc[i]['article'])"
   ]
  },
  {
   "cell_type": "code",
   "execution_count": null,
   "metadata": {},
   "outputs": [],
   "source": [
    "cordis_projects_df[cordis_projects_df['id'] == 287600].iloc[0]['objective']"
   ]
  },
  {
   "cell_type": "markdown",
   "metadata": {},
   "source": [
    "## Orgs"
   ]
  },
  {
   "cell_type": "code",
   "execution_count": null,
   "metadata": {},
   "outputs": [],
   "source": [
    "cordis_activity_ref_df"
   ]
  },
  {
   "cell_type": "code",
   "execution_count": null,
   "metadata": {},
   "outputs": [],
   "source": [
    "activity_type_mapping = {\n",
    "    'HES': 'Higher or Secondary Education Establishments',\n",
    "    'REC': 'Research Organisations',\n",
    "    'PRC': 'Private for-profit entities (excl. Educational)',\n",
    "    'PUB': 'Public bodies (excl. Research and Educational)',\n",
    "    'OTH': 'Other'\n",
    "}"
   ]
  },
  {
   "cell_type": "code",
   "execution_count": null,
   "metadata": {},
   "outputs": [],
   "source": [
    "cordis_orgs_df['activityTypeTitle'] = cordis_orgs_df['activityType'].map(activity_type_mapping)"
   ]
  },
  {
   "cell_type": "code",
   "execution_count": null,
   "metadata": {},
   "outputs": [],
   "source": [
    "cordis_orgs_df.drop_duplicates('name')['activityTypeTitle'].value_counts()"
   ]
  },
  {
   "cell_type": "code",
   "execution_count": null,
   "metadata": {},
   "outputs": [],
   "source": [
    "cordis_orgs_df['activityTypeTitle'].value_counts()"
   ]
  },
  {
   "cell_type": "code",
   "execution_count": null,
   "metadata": {},
   "outputs": [],
   "source": [
    "fig, ax = plt.subplots(ncols=2, sharey=True, figsize=(12, 4))\n",
    "\n",
    "cordis_orgs_df.drop_duplicates('name')['activityTypeTitle'].value_counts().plot(kind='barh', color='C0', ax=ax[0])\n",
    "ax[0].invert_yaxis()\n",
    "\n",
    "cordis_orgs_df['activityTypeTitle'].value_counts()[\n",
    "    cordis_orgs_df.drop_duplicates('name')['activityTypeTitle'].value_counts().index\n",
    "].plot(kind='barh', color='C0', ax=ax[1])\n",
    "ax[1].invert_yaxis()\n",
    "\n",
    "ax[0].set_ylabel('Institution Type')\n",
    "ax[0].set_xlabel('N Unique Institutions')\n",
    "ax[1].set_xlabel('N Institutions Participating in Project')\n",
    "\n",
    "plt.tight_layout()\n",
    "plt.show()"
   ]
  },
  {
   "cell_type": "code",
   "execution_count": null,
   "metadata": {},
   "outputs": [],
   "source": [
    "x = axs[i]"
   ]
  },
  {
   "cell_type": "code",
   "execution_count": null,
   "metadata": {},
   "outputs": [],
   "source": [
    "x.get_ylim()"
   ]
  },
  {
   "cell_type": "code",
   "execution_count": null,
   "metadata": {},
   "outputs": [],
   "source": [
    "fig, axs = plt.subplots(nrows=5, figsize=(12, 10))\n",
    "\n",
    "axs = axs.ravel()\n",
    "\n",
    "for i, code in enumerate(cordis_activity_ref_df['Code']):\n",
    "    x = cordis_orgs_df[cordis_orgs_df['activityType'] == code]['name']\n",
    "    x.value_counts()[:10].plot(kind='barh', color='C0', ax=axs[i])\n",
    "    axs[i].invert_yaxis()\n",
    "    pos_x = axs[i].get_xlim()[1]\n",
    "    axs[i].text(0.85 * pos_x, 8.5, code, \n",
    "#                 transform=ax.transAxes, \n",
    "#             size=20, weight='bold'\n",
    "               )\n",
    "axs[-1].set_xlabel('N Projects')\n",
    "\n",
    "plt.tight_layout()\n",
    "plt.show()"
   ]
  },
  {
   "cell_type": "code",
   "execution_count": null,
   "metadata": {},
   "outputs": [],
   "source": [
    "fig, axs = plt.subplots(nrows=2, ncols=3, figsize=(12,6))\n",
    "\n",
    "axs = axs.ravel()\n",
    "\n",
    "for i, (l, g) in enumerate(cordis_orgs_df.groupby('activityType')):\n",
    "    pdf_cdf(\n",
    "        axs[i],\n",
    "        np.log10(g['ecContribution']),\n",
    "        bins=100\n",
    "    )\n",
    "    axs[i].set_xlim(1, 8)\n",
    "    axs[i].set_xlabel('EC Funding for {} '.format(l) + '(log$_{10}$ EUR)')\n",
    "    \n",
    "axs[-1].bar(\n",
    "    cordis_orgs_df.groupby('activityType')['ecContribution'].sum().index,\n",
    "    cordis_orgs_df.groupby('activityType')['ecContribution'].sum().values\n",
    ")\n",
    "axs[-1].set_xlabel('Institution Type')\n",
    "axs[-1].set_ylabel('Total Funding (EUR)')\n",
    "plt.tight_layout()"
   ]
  },
  {
   "cell_type": "code",
   "execution_count": null,
   "metadata": {},
   "outputs": [],
   "source": [
    "activity_type_ohe = pd.get_dummies(cordis_orgs_df['activityType'])"
   ]
  },
  {
   "cell_type": "code",
   "execution_count": null,
   "metadata": {},
   "outputs": [],
   "source": [
    "activity_type_ohe['projectID'] = cordis_orgs_df['projectID']"
   ]
  },
  {
   "cell_type": "code",
   "execution_count": null,
   "metadata": {},
   "outputs": [],
   "source": [
    "project_org_type_counts = activity_type_ohe.groupby('projectID').sum()\n",
    "org_type_collabs = (project_org_type_counts).T.dot(project_org_type_counts)"
   ]
  },
  {
   "cell_type": "code",
   "execution_count": null,
   "metadata": {},
   "outputs": [],
   "source": [
    "org_type_collabs"
   ]
  },
  {
   "cell_type": "code",
   "execution_count": null,
   "metadata": {},
   "outputs": [],
   "source": [
    "from skbio.diversity.alpha import simpson"
   ]
  },
  {
   "cell_type": "markdown",
   "metadata": {},
   "source": [
    "## Reports"
   ]
  },
  {
   "cell_type": "markdown",
   "metadata": {},
   "source": [
    "## Document Similarity"
   ]
  },
  {
   "cell_type": "code",
   "execution_count": null,
   "metadata": {},
   "outputs": [],
   "source": [
    "cordis_reports_df['doc_id'] = cordis_reports_df['projectID'].astype(str) + '_report'\n",
    "cordis_projects_df['doc_id'] = cordis_projects_df['id'].astype(str) + '_project'"
   ]
  },
  {
   "cell_type": "code",
   "execution_count": null,
   "metadata": {},
   "outputs": [],
   "source": [
    "cordis_reports_df.head(1)"
   ]
  },
  {
   "cell_type": "code",
   "execution_count": null,
   "metadata": {},
   "outputs": [],
   "source": [
    "cordis_reports_df['full_text'] = (cordis_reports_df['summary'].astype(str) \n",
    "                                  + cordis_reports_df['workPerformed'].astype(str) \n",
    "                                  + cordis_reports_df['article'].astype(str))"
   ]
  },
  {
   "cell_type": "code",
   "execution_count": null,
   "metadata": {},
   "outputs": [],
   "source": [
    "cordis_docs = pd.concat(\n",
    "    [\n",
    "        cordis_reports_df[['doc_id', 'full_text']],\n",
    "        cordis_projects_df[['doc_id', 'objective']].rename(columns={'objective': 'full_text'})\n",
    "    ],\n",
    "    axis=0)"
   ]
  },
  {
   "cell_type": "code",
   "execution_count": null,
   "metadata": {},
   "outputs": [],
   "source": [
    "from eu_funding.utils.nlp_utils import remove_markup, normalise_digits\n",
    "from nesta.packages.nlp_utils.preprocess import clean_and_tokenize, tokenize_document\n",
    "from gensim.models.phrases import Phrases, Phraser\n",
    "from gensim.models.doc2vec import Doc2Vec, TaggedDocument\n",
    "from gensim.corpora import Dictionary\n",
    "from scipy.spatial.distance import cosine"
   ]
  },
  {
   "cell_type": "code",
   "execution_count": null,
   "metadata": {},
   "outputs": [],
   "source": [
    "cordis_docs['full_text'] = [normalise_digits(remove_markup(d)) for d in cordis_docs['full_text']]\n",
    "texts_tokenized = [tokenize_document(d) for d in cordis_docs['full_text']]\n",
    "texts_tokenized = [list(chain(*a)) for a in texts_tokenized]\n",
    "bigrams = Phrases(texts_tokenized)\n",
    "bigrammer = Phraser(bigrams)\n",
    "texts_bigrammed = bigrammer[texts_tokenized]"
   ]
  },
  {
   "cell_type": "code",
   "execution_count": null,
   "metadata": {},
   "outputs": [],
   "source": [
    "cordis_d2v = Doc2Vec([TaggedDocument(d, [i]) for i, d in enumerate(texts_bigrammed)])"
   ]
  },
  {
   "cell_type": "code",
   "execution_count": null,
   "metadata": {},
   "outputs": [],
   "source": [
    "d2v_test = Doc2Vec([TaggedDocument(d, i) for d, i in zip(texts_bigrammed, ['a', 'b', 'c', 'c', 'd'])])"
   ]
  },
  {
   "cell_type": "code",
   "execution_count": null,
   "metadata": {},
   "outputs": [],
   "source": [
    "cordis_docs['doc_type'] = [s[1] for s in cordis_docs['doc_id'].str.split('_')]\n",
    "cordis_docs['project_id'] = [s[0] for s in cordis_docs['doc_id'].str.split('_')]"
   ]
  },
  {
   "cell_type": "code",
   "execution_count": null,
   "metadata": {},
   "outputs": [],
   "source": [
    "cordis_docs.reset_index(inplace=True)"
   ]
  },
  {
   "cell_type": "code",
   "execution_count": null,
   "metadata": {},
   "outputs": [],
   "source": [
    "cordis_docs_original = cordis_docs[cordis_docs['doc_type'] == 'project'].set_index('project_id')"
   ]
  },
  {
   "cell_type": "code",
   "execution_count": null,
   "metadata": {},
   "outputs": [],
   "source": [
    "records = []\n",
    "\n",
    "for i, g in cordis_docs[cordis_docs['doc_type'] == 'report'].groupby('project_id'):\n",
    "    d2v_ids = g['index']\n",
    "    if i in cordis_docs_original.index:\n",
    "        doc_id_project = cordis_docs_original.loc[i]['index']\n",
    "        d2v_project = cordis_d2v[doc_id_project]\n",
    "        dists = []\n",
    "        for d2v_id in d2v_ids:\n",
    "            d2v_report = cordis_d2v[d2v_id]\n",
    "            dists.append(cosine(d2v_project, d2v_report))\n",
    "        records.append({'id': i, 'similarty': np.mean(dists)})"
   ]
  },
  {
   "cell_type": "code",
   "execution_count": null,
   "metadata": {},
   "outputs": [],
   "source": [
    "similarity_df = pd.DataFrame().from_records(records)"
   ]
  },
  {
   "cell_type": "code",
   "execution_count": null,
   "metadata": {},
   "outputs": [],
   "source": [
    "similarity_df['id'] = similarity_df['id'].astype(int)"
   ]
  },
  {
   "cell_type": "markdown",
   "metadata": {},
   "source": [
    "## Add Fields to Projects"
   ]
  },
  {
   "cell_type": "code",
   "execution_count": null,
   "metadata": {},
   "outputs": [],
   "source": [
    "cordis_projects_df = cordis_projects_df.merge(similarity_df, left_on='id', right_on='id', how='left')"
   ]
  },
  {
   "cell_type": "code",
   "execution_count": null,
   "metadata": {},
   "outputs": [],
   "source": [
    "activity_type_ohe_project = activity_type_ohe.groupby('projectID').sum().reset_index()"
   ]
  },
  {
   "cell_type": "code",
   "execution_count": null,
   "metadata": {},
   "outputs": [],
   "source": [
    "has_activity_type_ohe_project = (activity_type_ohe_project > 0).astype(int)\n",
    "has_activity_type_ohe_project['projectID'] = activity_type_ohe_project['projectID']\n",
    "has_activity_type_ohe_project.columns = ['has_{}'.format(a) if a != 'projectID' else 'projectID'\n",
    "                                         for a in has_activity_type_ohe_project.columns]"
   ]
  },
  {
   "cell_type": "code",
   "execution_count": null,
   "metadata": {},
   "outputs": [],
   "source": [
    "cordis_projects_df = cordis_projects_df.merge(\n",
    "    activity_type_ohe_project, left_on='id', right_on='projectID', how='left'\n",
    ")\n",
    "cordis_projects_df = cordis_projects_df.merge(\n",
    "    has_activity_type_ohe_project, left_on='id', right_on='projectID', how='left'\n",
    ")"
   ]
  },
  {
   "cell_type": "code",
   "execution_count": null,
   "metadata": {},
   "outputs": [],
   "source": [
    "cordis_projects_df.to_csv(os.path.join(inter_data_path, 'fp7_h2020_projects.csv'), index=False)"
   ]
  },
  {
   "cell_type": "markdown",
   "metadata": {},
   "source": [
    "## Geocoding"
   ]
  },
  {
   "cell_type": "code",
   "execution_count": null,
   "metadata": {},
   "outputs": [],
   "source": [
    "import requests"
   ]
  },
  {
   "cell_type": "code",
   "execution_count": null,
   "metadata": {},
   "outputs": [],
   "source": [
    "places = cordis_orgs_df.drop_duplicates('id')[['name', 'street', 'city', 'postCode']]"
   ]
  },
  {
   "cell_type": "code",
   "execution_count": null,
   "metadata": {},
   "outputs": [],
   "source": [
    "addresses = places['name'] + ' ' + places['street'] + ' ' + places['city'] + ' ' + places['postCode']"
   ]
  },
  {
   "cell_type": "code",
   "execution_count": null,
   "metadata": {},
   "outputs": [],
   "source": [
    "def geocode(address):\n",
    "    params = {\n",
    "        'address': address,\n",
    "        'key': api_key\n",
    "             }\n",
    "    base_url = \"https://maps.googleapis.com/maps/api/geocode/json\"\n",
    "\n",
    "    r = requests.get(url=base_url, params=params)\n",
    "    return r.json()"
   ]
  },
  {
   "cell_type": "code",
   "execution_count": null,
   "metadata": {},
   "outputs": [],
   "source": [
    "geos = [geocode(address) for address in addresses]\n",
    "\n",
    "cordis_orgs_df.head()"
   ]
  },
  {
   "cell_type": "code",
   "execution_count": null,
   "metadata": {},
   "outputs": [],
   "source": [
    "params = {\n",
    "    'address': '58 Victoria Embankment London',\n",
    "    'key': api_key\n",
    "         }\n",
    "base_url = \"https://maps.googleapis.com/maps/api/geocode/json\"\n",
    "\n",
    "r = requests.get(url=base_url, params=params)"
   ]
  },
  {
   "cell_type": "code",
   "execution_count": null,
   "metadata": {},
   "outputs": [],
   "source": [
    "r.json()"
   ]
  },
  {
   "cell_type": "code",
   "execution_count": null,
   "metadata": {},
   "outputs": [],
   "source": []
  }
 ],
 "metadata": {
  "language_info": {
   "name": "python",
   "pygments_lexer": "ipython3"
  }
 },
 "nbformat": 4,
 "nbformat_minor": 2
}
